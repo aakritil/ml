{
  "nbformat": 4,
  "nbformat_minor": 0,
  "metadata": {
    "colab": {
      "name": "Data-Cleaning.ipynb",
      "provenance": []
    },
    "kernelspec": {
      "name": "python3",
      "display_name": "Python 3"
    },
    "language_info": {
      "name": "python"
    }
  },
  "cells": [
    {
      "cell_type": "markdown",
      "source": [
        "#Combining the req_pidn_query + CSF_Amyloid"
      ],
      "metadata": {
        "id": "Q3ryQ5OAryzY"
      }
    },
    {
      "cell_type": "code",
      "execution_count": null,
      "metadata": {
        "id": "qR5qUsW-E3wn"
      },
      "outputs": [],
      "source": [
        "import pandas as pd \n",
        "\n",
        "CSFdata = pd.read_excel(\"/content/.xlsx\")\n",
        "reqdata = pd.read_excel(\"/content/.xls\")\n",
        "\n",
        "#there are random values at the bottom of the csv that make it longer w lots of nan\n",
        "reqdata = reqdata[:422]"
      ]
    },
    {
      "cell_type": "code",
      "source": [
        "!pip install --upgrade xlrd"
      ],
      "metadata": {
        "id": "qFuVwGJLF4Q6"
      },
      "execution_count": null,
      "outputs": []
    },
    {
      "cell_type": "code",
      "source": [
        "# are they the same type?\n",
        "print(type(reqdata[\"PIDN\"][2]))"
      ],
      "metadata": {
        "id": "uQ-uSS_lJsOL"
      },
      "execution_count": null,
      "outputs": []
    },
    {
      "cell_type": "code",
      "source": [
        "# what are the differences in these age columns? is there an overlap that can be seen here?\n",
        "for i in range(len(CSFdata)):\n",
        "  if str(CSFdata[\"Age.1\"][i]) != \"nan\" and str(CSFdata[\"Age.2\"][i]) != \"nan\" :\n",
        "    print(\"overlap\")"
      ],
      "metadata": {
        "id": "mn9_NewhJYVF"
      },
      "execution_count": null,
      "outputs": []
    },
    {
      "cell_type": "code",
      "source": [
        "wave2 = CSFdata[CSFdata[\"Wave_Num\"] == 2]"
      ],
      "metadata": {
        "id": "c-f4KdWIJP-s"
      },
      "execution_count": null,
      "outputs": []
    },
    {
      "cell_type": "code",
      "source": [
        "#create a wave column for the special cases\n",
        "for i in range(len(CSFdata)):\n",
        "  samplenum = CSFdata[\"Sample\"][i]\n",
        "  if type(samplenum) == str:\n",
        "    oldsamplenum = samplenum\n",
        "    CSFdata.at[i,\"Wave_Num\"] = 2\n",
        "    cutsample = samplenum[:samplenum.find(\"Wave\")]\n",
        "    while cutsample[0] == \"0\":\n",
        "      cutsample = cutsample[1:]\n",
        "    CSFdata.at[i,\"PIDN\"] = int(cutsample)\n",
        "  else:\n",
        "    CSFdata.at[i,\"Wave_Num\"] = 1\n",
        "    CSFdata.at[i,\"PIDN\"] = int(samplenum)\n"
      ],
      "metadata": {
        "id": "Fi_ofTiLGBOr"
      },
      "execution_count": null,
      "outputs": []
    },
    {
      "cell_type": "code",
      "source": [
        "sum = 0\n",
        "for entry in CSFdata[\"PIDN\"]:\n",
        "  if entry not in reqdata[\"PIDN\"]:\n",
        "    sum +=1\n",
        "    print(entry)"
      ],
      "metadata": {
        "id": "8FWErtUbGdsR"
      },
      "execution_count": null,
      "outputs": []
    },
    {
      "cell_type": "code",
      "source": [
        "sum2 = 0\n",
        "for entry in reqdata[\"PIDN\"]:\n",
        "  if entry not in CSFdata[\"PIDN\"]:\n",
        "    sum2 +=1"
      ],
      "metadata": {
        "id": "EYox5MwNMdIN"
      },
      "execution_count": null,
      "outputs": []
    },
    {
      "cell_type": "code",
      "source": [
        "reqdata"
      ],
      "metadata": {
        "id": "ziOqKSoCNCmF"
      },
      "execution_count": null,
      "outputs": []
    },
    {
      "cell_type": "code",
      "source": [
        "mergedDF = pd.merge(CSFdata, reqdata, on='PIDN')"
      ],
      "metadata": {
        "id": "mKZ_qcluIasn"
      },
      "execution_count": null,
      "outputs": []
    },
    {
      "cell_type": "code",
      "source": [
        "mergedDF"
      ],
      "metadata": {
        "id": "DOuazrAjnQQQ"
      },
      "execution_count": null,
      "outputs": []
    },
    {
      "cell_type": "markdown",
      "source": [
        "#Numbers and Visualization of the Data"
      ],
      "metadata": {
        "id": "XiMgDIIis2dT"
      }
    },
    {
      "cell_type": "code",
      "source": [
        "print(f'Len of the CSF_data file was {len(CSFdata)}')\n",
        "print(f'Len of the req_data file was {len(reqdata)}')\n",
        "print(f'Num of entries that were matched from both files: {len(mergedDF)}')"
      ],
      "metadata": {
        "colab": {
          "base_uri": "https://localhost:8080/"
        },
        "id": "pRvu60Wis9vm",
        "outputId": "fcc306fe-68e5-4aa9-adc4-2a13be64ccb2"
      },
      "execution_count": null,
      "outputs": [
        {
          "output_type": "stream",
          "name": "stdout",
          "text": [
            "Len of the CSF_data file was 444\n",
            "Len of the req_data file was 422\n",
            "Num of entries that were matched from both files: 140\n"
          ]
        }
      ]
    },
    {
      "cell_type": "code",
      "source": [
        "import matplotlib.pyplot as plt\n",
        "\n",
        "#figure on the studies contained in these three files\n",
        "\n",
        "fig, axs = plt.subplots(2)\n",
        "\n",
        "axs[0].pie(mergedDF[\"Study\"].value_counts(), autopct = \"%.1f%%\", labels = list(mergedDF[\"Study\"].value_counts().index.values))\n",
        "axs[0].set_title(\"Merged Data Study Stratification\")\n",
        "\n",
        "axs[1].pie(CSFdata[\"Study\"].value_counts(), autopct = \"%.1f%%\",labels = CSFdata[\"Study\"].value_counts().index.values)\n",
        "axs[1].set_title(\"CSFdata Data Study Stratification\")"
      ],
      "metadata": {
        "colab": {
          "base_uri": "https://localhost:8080/",
          "height": 281
        },
        "id": "VNt6GGa1tXuG",
        "outputId": "d777e8da-101e-498a-97fd-0f991bc1a07e"
      },
      "execution_count": null,
      "outputs": [
        {
          "output_type": "execute_result",
          "data": {
            "text/plain": [
              "Text(0.5, 1.0, 'CSFdata Data Study Stratification')"
            ]
          },
          "metadata": {},
          "execution_count": 67
        },
        {
          "output_type": "display_data",
          "data": {
            "image/png": "[encoded data removed]",
            "text/plain": [
              "<Figure size 432x288 with 2 Axes>"
            ]
          },
          "metadata": {}
        }
      ]
    },
    {
      "cell_type": "markdown",
      "source": [
        "#Merging this file with the plasma metadata file"
      ],
      "metadata": {
        "id": "0K05afu8sYrA"
      }
    },
    {
      "cell_type": "code",
      "source": [
        "#merging this merged dataframe with the plasma metadata file\n",
        "\n",
        "mergedDF[\"SampleId\"] = mergedDF[\"PIDN\"]\n",
        "\n",
        "plasma_meta = pd.read_csv(\"/content/Plasma_metadata_FINAL_052021_ADRC_additionalQC(2).csv\")\n"
      ],
      "metadata": {
        "id": "hBQxxPUlmhyD"
      },
      "execution_count": null,
      "outputs": []
    },
    {
      "cell_type": "code",
      "source": [
        "sum2 = 0\n",
        "for entry in mergedDF[\"SampleId\"]:\n",
        "  if entry not in plasma_meta[\"SampleId\"]:\n",
        "    sum2 +=1\n",
        "    print(entry)\n",
        "\n"
      ],
      "metadata": {
        "id": "2ftZE5j7n1W2"
      },
      "execution_count": null,
      "outputs": []
    },
    {
      "cell_type": "code",
      "source": [
        "mergedDF[\"SampleId\"] = mergedDF[\"SampleId\"].astype(int)\n",
        "\n",
        "newplasma = plasma_meta\n",
        "\n",
        "for i in range(0,len(newplasma)):\n",
        "  while True:\n",
        "    try:\n",
        "     newplasma.at[\"SampleId\", i] = int(newplasma[\"SampleId\"][i])\n",
        "    except:\n",
        "      newplasma = newplasma.drop(i)\n"
      ],
      "metadata": {
        "id": "JNHF9HbFpZpP"
      },
      "execution_count": null,
      "outputs": []
    },
    {
      "cell_type": "code",
      "source": [
        "mergeDF = pd.merge(mergedDF, plasma_meta, on='SampleId')"
      ],
      "metadata": {
        "id": "gE277suAoRjN"
      },
      "execution_count": null,
      "outputs": []
    },
    {
      "cell_type": "markdown",
      "source": [
        "#Merge MCI data with the inital merged file"
      ],
      "metadata": {
        "id": "jVdJ7aaGsk7F"
      }
    },
    {
      "cell_type": "code",
      "source": [
        "import pandas as pd\n",
        "\n",
        "cleanMCI = pd.read_csv(\"/content/out_d1_req_mci_ids_0709_splitlabels-2.csv\", index_col = 0)"
      ],
      "metadata": {
        "id": "QTF1xjDwMKNd"
      },
      "execution_count": null,
      "outputs": []
    },
    {
      "cell_type": "code",
      "source": [
        "cleanMCI"
      ],
      "metadata": {
        "id": "oqVEebSk1sRf"
      },
      "execution_count": null,
      "outputs": []
    },
    {
      "cell_type": "code",
      "source": [
        "cleanMCI[\"ADRC ID\"] = cleanMCI[\"MCI-ADRCID\"].astype(float)"
      ],
      "metadata": {
        "id": "eIM-NnVkPU8l"
      },
      "execution_count": null,
      "outputs": []
    },
    {
      "cell_type": "code",
      "source": [
        "#dropping the wave 2 entries here\n",
        "mergedDFW1 = mergedDF[mergedDF[\"Wave_Num\"] != 2]"
      ],
      "metadata": {
        "id": "U3wmewXTMLag"
      },
      "execution_count": null,
      "outputs": []
    },
    {
      "cell_type": "code",
      "source": [
        "mergedDFwMCI = pd.merge(mergedDF, cleanMCI, on='ADRC ID')"
      ],
      "metadata": {
        "id": "ZhFB4tALOLUT"
      },
      "execution_count": null,
      "outputs": []
    },
    {
      "cell_type": "markdown",
      "source": [
        "#PCA Analysis"
      ],
      "metadata": {
        "id": "_2vJPvEUwPJH"
      }
    },
    {
      "cell_type": "code",
      "source": [
        "from sklearn.decomposition import PCA\n",
        "from sklearn.preprocessing import StandardScaler\n",
        "\n",
        "#run PCA on the CSF_amyloid data\n",
        "\n",
        "cleanmergedDFwMCI = mergedDFwMCI[mergedDFwMCI[\"Harmonized Set\"] == 1]\n",
        "\n",
        "features = cleanmergedDFwMCI.iloc[:, 9:13].values\n",
        "features = StandardScaler().fit_transform(features) \n",
        "\n",
        "\n",
        "pca= PCA(n_components=2)\n",
        "pca_results = pca.fit_transform(features)\n",
        "\n",
        "principal_DF = pd.DataFrame(data = pca_results\n",
        "             , columns = ['principal component 1', 'principal component 2'])"
      ],
      "metadata": {
        "id": "t0bR-8n9P_sh"
      },
      "execution_count": null,
      "outputs": []
    },
    {
      "cell_type": "code",
      "source": [
        "plt.figure()\n",
        "plt.figure(figsize=(10,10))\n",
        "plt.xticks(fontsize=12)\n",
        "plt.yticks(fontsize=14)\n",
        "plt.xlabel('Principal Component - 1',fontsize=20)\n",
        "plt.ylabel('Principal Component - 2',fontsize=20)\n",
        "plt.title(\"Principal Component Analysis of Merged Dataset\",fontsize=20)\n",
        "targets = cleanmergedDFwMCI.label_1_name.value_counts().index.values\n",
        "colors = ['r', 'g',\"b\",\"yellow\", \"pink\", \"black\"]\n",
        "for target, color in zip(targets,colors):\n",
        "    indicesToKeep = cleanmergedDFwMCI['label_1_name'] == target\n",
        "    plt.scatter(principal_DF.loc[indicesToKeep, 'principal component 1']\n",
        "               , principal_DF.loc[indicesToKeep, 'principal component 2'], c = color, s = 50)\n",
        "\n",
        "plt.legend(targets,prop={'size': 10})"
      ],
      "metadata": {
        "id": "QkQvX_1Ay_P1"
      },
      "execution_count": null,
      "outputs": []
    },
    {
      "cell_type": "code",
      "source": [
        "dxCSFdata = CSFdata[CSFdata[\"Dx\"] != \"\"]\n",
        "dxCSFdata = dxCSFdata[dxCSFdata[\"Dx\"].astype(str) != \"nan\" ]\n",
        "dxCSFdata = dxCSFdata[dxCSFdata[\"CSF P-Tau181\"].astype(str) != \"nan\" ]\n",
        "dxCSFdata = dxCSFdata[dxCSFdata[\"CSF Total Tau\"].astype(str) != \"nan\" ]\n",
        "dxCSFdata = dxCSFdata[dxCSFdata[\"CSF AB42\"].astype(str) != \"nan\" ]\n",
        "dxCSFdata = dxCSFdata[dxCSFdata[\"CSF AB40\"].astype(str) != \"nan\" ]\n",
        "dxCSFdata = dxCSFdata[dxCSFdata[\"CSF AB42/AB40\"].astype(str) != \"nan\" ]"
      ],
      "metadata": {
        "id": "C4wV6VcK2Yo6"
      },
      "execution_count": null,
      "outputs": []
    },
    {
      "cell_type": "code",
      "source": [
        "dxCSFdata"
      ],
      "metadata": {
        "id": "Vg6ty5yS27oW"
      },
      "execution_count": null,
      "outputs": []
    },
    {
      "cell_type": "code",
      "source": [
        "features = dxCSFdata.iloc[:, 9:14].values\n",
        "features = StandardScaler().fit_transform(features) \n",
        "\n",
        "\n",
        "pca= PCA(n_components=3)\n",
        "pca_results = pca.fit_transform(features)\n",
        "\n",
        "principal_DF = pd.DataFrame(data = pca_results\n",
        "             , columns = ['principal component 1', 'principal component 2', \"pca3\"])"
      ],
      "metadata": {
        "id": "4ijKiyoa0XFY"
      },
      "execution_count": null,
      "outputs": []
    },
    {
      "cell_type": "code",
      "source": [
        "dxCSFdata = dxCSFdata.reset_index()"
      ],
      "metadata": {
        "id": "X3E9XS8h24pT"
      },
      "execution_count": null,
      "outputs": []
    },
    {
      "cell_type": "code",
      "source": [
        "print('Explained variation per principal component: {}'.format(pca.explained_variance_ratio_))\n"
      ],
      "metadata": {
        "colab": {
          "base_uri": "https://localhost:8080/"
        },
        "id": "tAKUj5tk4cDm",
        "outputId": "d7e05cc4-3d34-4cc8-c54b-5e357e62768e"
      },
      "execution_count": null,
      "outputs": [
        {
          "output_type": "stream",
          "name": "stdout",
          "text": [
            "Explained variation per principal component: [0.44484161 0.33245874 0.15230581]\n"
          ]
        }
      ]
    },
    {
      "cell_type": "code",
      "source": [
        "from mpl_toolkits import mplot3d\n",
        "\n",
        "fig = plt.figure()\n",
        "plt.figure(figsize=(10,10))\n",
        "\n",
        "ax = plt.axes(projection = '3d')\n",
        "\n",
        "plt.xticks(fontsize=12)\n",
        "plt.yticks(fontsize=14)\n",
        "plt.xlabel('Principal Component - 1',fontsize=20)\n",
        "plt.ylabel('Principal Component - 2',fontsize=20)\n",
        "plt.title(\"Principal Component Analysis of Merged Dataset\",fontsize=20)\n",
        "targets = dxCSFdata.Dx.value_counts().index.values\n",
        "colors = ['r', 'g',\"b\", \"c\", \"m\", \"y\", \"b\", \"pink\", \"gray\", \"orange\"]\n",
        "for target, color in zip(targets,colors):\n",
        "    indicesToKeep = dxCSFdata['Dx'] == target\n",
        "    ax.scatter3D(principal_DF.loc[indicesToKeep, 'principal component 1']\n",
        "               , principal_DF.loc[indicesToKeep, 'principal component 2'],principal_DF.loc[indicesToKeep, 'pca3'], c = color, s = 50)\n",
        "\n",
        "plt.legend(targets,prop={'size': 10})"
      ],
      "metadata": {
        "id": "on0n9lO_2N2m"
      },
      "execution_count": null,
      "outputs": []
    },
    {
      "cell_type": "code",
      "source": [
        "import pandas as pd\n",
        "\n",
        "csfprot = pd.read_csv(\"/content/CSFProts.log10.noLODFilter(1).csv\")\n",
        "mcidata = pd.read_csv(\"/content/out_d1_req_mci_ids_0709_splitlabels-2.csv\")\n",
        "plasmaprot = pd.read_csv(\"/content/plasmaProts.log10.csv\")"
      ],
      "metadata": {
        "id": "NMZjTNsu5iUz"
      },
      "execution_count": null,
      "outputs": []
    },
    {
      "cell_type": "code",
      "source": [
        "plasmaprot"
      ],
      "metadata": {
        "id": "KuY_o9KpvZDj"
      },
      "execution_count": null,
      "outputs": []
    },
    {
      "cell_type": "code",
      "source": [
        "csfprot = csfprot.dropna(subset=['SampleId'])\n",
        "csfprotint = csfprotint.loc[csfprot['SampleId'].str.match('^[+-]?\\d+$', na=False)]"
      ],
      "metadata": {
        "id": "s63un7Av3mBd"
      },
      "execution_count": null,
      "outputs": []
    },
    {
      "cell_type": "code",
      "source": [
        "csfprotint[\"SampleId\"]  = csfprotint[\"SampleId\"].astype(int)"
      ],
      "metadata": {
        "id": "zQMEqDK6vqoN"
      },
      "execution_count": null,
      "outputs": []
    },
    {
      "cell_type": "code",
      "source": [
        "csfprotint.columns"
      ],
      "metadata": {
        "id": "t3rfczAvuBD-"
      },
      "execution_count": null,
      "outputs": []
    },
    {
      "cell_type": "code",
      "source": [
        "mcidata[\"SampleId\"] = mcidata[\"MCI-ADRCID\"]"
      ],
      "metadata": {
        "id": "ucmvMG4wtXns"
      },
      "execution_count": null,
      "outputs": []
    },
    {
      "cell_type": "code",
      "source": [
        "for i in mcidata[\"SampleId\"]:\n",
        "  if i in csfprotint[\"SampleId\"]:\n",
        "    print(\"yes\")"
      ],
      "metadata": {
        "id": "lflwQxCztpav"
      },
      "execution_count": null,
      "outputs": []
    },
    {
      "cell_type": "code",
      "source": [
        "csfMCI = pd.merge(csfprotint, mcidata, on='SampleId')"
      ],
      "metadata": {
        "id": "1QGuxiSLtxea"
      },
      "execution_count": null,
      "outputs": []
    },
    {
      "cell_type": "code",
      "source": [
        "csfMCI"
      ],
      "metadata": {
        "id": "InREoE08t41_"
      },
      "execution_count": null,
      "outputs": []
    },
    {
      "cell_type": "code",
      "source": [
        "merded = pd.read_csv(\"/content/mergedentries.csv\")"
      ],
      "metadata": {
        "id": "Yt9J2iIkv_2i"
      },
      "execution_count": null,
      "outputs": []
    },
    {
      "cell_type": "code",
      "source": [
        "merded"
      ],
      "metadata": {
        "id": "SILvTCu9xpYm"
      },
      "execution_count": null,
      "outputs": []
    },
    {
      "cell_type": "code",
      "source": [
        "mcidata[\"ADRC_ID\"] = mcidata[\"MCI-ADRCID\"].astype(float)\n",
        "mergedDFwMCI = pd.merge(merded, mcidata, on='ADRC ID')"
      ],
      "metadata": {
        "id": "nlypuBVixqKZ"
      },
      "execution_count": null,
      "outputs": []
    },
    {
      "cell_type": "code",
      "source": [
        "import pandas as pd\n",
        "plasmaMeta = pd.read_csv(\"/content/Plasma_metadata_FINAL_052021_ADRC_additionalQC(2).csv\")"
      ],
      "metadata": {
        "id": "c3wEoAYmz8xL"
      },
      "execution_count": null,
      "outputs": []
    },
    {
      "cell_type": "code",
      "source": [
        "plasmaMeta = plasmaMeta[(plasmaMeta[\"Study\"] == \"ADRC\") & (plasmaMeta[\"Diagnosis_group\"] == \"MCI\")]"
      ],
      "metadata": {
        "id": "BLJMa6zI3SV_"
      },
      "execution_count": null,
      "outputs": []
    },
    {
      "cell_type": "code",
      "source": [
        "plasmaMCI = plasmaMeta[plasmaMeta[\"Diagnosis_group\"] == \"MCI\"]"
      ],
      "metadata": {
        "id": "X_J8bloTwOrn"
      },
      "execution_count": null,
      "outputs": []
    },
    {
      "cell_type": "code",
      "source": [
        "plasmaMCI[\"Study\"].value_counts()"
      ],
      "metadata": {
        "colab": {
          "base_uri": "https://localhost:8080/"
        },
        "id": "5O4gm-f3wTv0",
        "outputId": "6d339733-88df-44f7-edc0-0b3a497523e0"
      },
      "execution_count": null,
      "outputs": [
        {
          "output_type": "execute_result",
          "data": {
            "text/plain": [
              "ADRC    133\n",
              "Name: Study, dtype: int64"
            ]
          },
          "metadata": {},
          "execution_count": 19
        }
      ]
    },
    {
      "cell_type": "code",
      "source": [
        "neededIDs = set(plasmaMeta[\"ADRC_ID\"])"
      ],
      "metadata": {
        "id": "lYNB4tpo3hAX"
      },
      "execution_count": null,
      "outputs": []
    },
    {
      "cell_type": "code",
      "source": [
        "mci = pd.read_csv(\"/content/out_d1_req_mci_ids_0709_splitlabels-2.csv\")"
      ],
      "metadata": {
        "id": "pFSK35BSvOtp"
      },
      "execution_count": null,
      "outputs": []
    },
    {
      "cell_type": "code",
      "source": [
        "mcidata[\"ADRC_ID\"] = mcidata[\"MCI-ADRCID\"].astype(float)\n",
        "\n",
        "plamsmaMetaMCI = pd.merge(plasmaMeta, mcidata, on='ADRC_ID')"
      ],
      "metadata": {
        "id": "AApdjDsL0B-G"
      },
      "execution_count": null,
      "outputs": []
    },
    {
      "cell_type": "code",
      "source": [
        "plamsmaMetaMCI = plamsmaMetaMCI.dropna(subset=['SampleID'])\n",
        "plamsmaMetaMCIint = plamsmaMetaMCI.loc[plamsmaMetaMCI['SampleID'].str.match('^[+-]?\\d+$', na=False)]\n",
        "plamsmaMetaMCIint[\"SampleID\"]  = plamsmaMetaMCIint[\"SampleID\"].astype(int)"
      ],
      "metadata": {
        "id": "m8Gd1zXD0NOh"
      },
      "execution_count": null,
      "outputs": []
    },
    {
      "cell_type": "code",
      "source": [
        "csfprotint[\"SampleID\"] = csfprotint[\"SampleId\"]\n",
        "protsMerge = pd.merge(plamsmaMetaMCIint, csfprotint, on='SampleID')"
      ],
      "metadata": {
        "id": "Fh48fAN7x6LX"
      },
      "execution_count": null,
      "outputs": []
    },
    {
      "cell_type": "code",
      "source": [
        "cols = list(protsMerge.columns)"
      ],
      "metadata": {
        "id": "aT9OZoPt0sEe"
      },
      "execution_count": null,
      "outputs": []
    },
    {
      "cell_type": "code",
      "source": [
        "for i in range(0,len(cols)):\n",
        "  if cols[i] == \"CRYBB2.10000.28.3\":\n",
        "    print(i)"
      ],
      "metadata": {
        "colab": {
          "base_uri": "https://localhost:8080/"
        },
        "id": "7qR3BaJdyP3F",
        "outputId": "af71f7a4-4d78-40d4-9160-8329cb4c0ea4"
      },
      "execution_count": null,
      "outputs": [
        {
          "output_type": "stream",
          "name": "stdout",
          "text": [
            "85\n"
          ]
        }
      ]
    },
    {
      "cell_type": "code",
      "source": [
        "from sklearn.decomposition import PCA\n",
        "from sklearn.preprocessing import StandardScaler\n",
        "\n",
        "#run PCA on the CSF_amyloid data\n",
        "\n",
        "\n",
        "features = protsMerge.iloc[:, 85:].values\n",
        "features = StandardScaler().fit_transform(features) \n",
        "\n",
        "\n",
        "pca= PCA(n_components=3)\n",
        "pca_results = pca.fit_transform(features)\n",
        "\n",
        "principal_DF = pd.DataFrame(data = pca_results\n",
        "             , columns = ['principal component 1', 'principal component 2', 'principal component 3'])"
      ],
      "metadata": {
        "id": "VYw7LAd3ynLZ"
      },
      "execution_count": null,
      "outputs": []
    },
    {
      "cell_type": "code",
      "source": [
        "from mpl_toolkits import mplot3d\n",
        "import matplotlib.pyplot as plt\n",
        "\n",
        "fig = plt.figure()\n",
        "plt.figure(figsize=(10,10))\n",
        "\n",
        "ax = plt.axes(projection = '3d')\n",
        "\n",
        "plt.xticks(fontsize=12)\n",
        "plt.yticks(fontsize=14)\n",
        "plt.xlabel('Principal Component - 1',fontsize=20)\n",
        "plt.ylabel('Principal Component - 2',fontsize=20)\n",
        "plt.title(\"Principal Component Analysis of Merged Dataset\",fontsize=20)\n",
        "targets = protsMerge.label_1_name.value_counts().index.values\n",
        "colors = ['r', 'g',\"b\",\"yellow\", \"pink\", \"black\"]\n",
        "for target, color in zip(targets,colors):\n",
        "    indicesToKeep = protsMerge['label_1_name'] == target\n",
        "    ax.scatter3D(principal_DF.loc[indicesToKeep, 'principal component 1']\n",
        "               , principal_DF.loc[indicesToKeep, 'principal component 2'],principal_DF.loc[indicesToKeep, 'principal component 3'], c = color, s = 50)\n",
        "\n",
        "plt.legend(targets,prop={'size': 10})"
      ],
      "metadata": {
        "colab": {
          "base_uri": "https://localhost:8080/",
          "height": 609
        },
        "id": "IACEMW6Ey7LL",
        "outputId": "abebbe98-1f00-4852-ea09-90633a13e1f3"
      },
      "execution_count": null,
      "outputs": [
        {
          "output_type": "execute_result",
          "data": {
            "text/plain": [
              "<matplotlib.legend.Legend at 0x7f374934bad0>"
            ]
          },
          "metadata": {},
          "execution_count": 91
        },
        {
          "output_type": "display_data",
          "data": {
            "text/plain": [
              "<Figure size 432x288 with 0 Axes>"
            ]
          },
          "metadata": {}
        },
        {
          "output_type": "display_data",
          "data": {
            "image/png": "[encoded data removed]",
            "text/plain": [
              "<Figure size 720x720 with 1 Axes>"
            ]
          },
          "metadata": {
            "needs_background": "light"
          }
        }
      ]
    },
    {
      "cell_type": "code",
      "source": [
        "principal_DF"
      ],
      "metadata": {
        "id": "yzwFH5G8zRjM"
      },
      "execution_count": null,
      "outputs": []
    },
    {
      "cell_type": "code",
      "source": [
        "for target, color in zip(targets,colors):\n",
        "    indicesToKeep = protsMerge['label_1_name'] == target\n",
        "    plt.scatter(principal_DF.loc[indicesToKeep, 'principal component 1']\n",
        "               , principal_DF.loc[indicesToKeep, 'principal component 2'], c = color, s = 50)\n",
        "\n",
        "plt.legend(targets,prop={'size': 10})"
      ],
      "metadata": {
        "colab": {
          "base_uri": "https://localhost:8080/",
          "height": 282
        },
        "id": "c_TPF1LB1Hf4",
        "outputId": "332d378f-1853-481a-9e89-9fcb5e7af0ea"
      },
      "execution_count": null,
      "outputs": [
        {
          "output_type": "execute_result",
          "data": {
            "text/plain": [
              "<matplotlib.legend.Legend at 0x7f3749ab2810>"
            ]
          },
          "metadata": {},
          "execution_count": 94
        },
        {
          "output_type": "display_data",
          "data": {
            "image/png": "[encoded data removed]",
            "text/plain": [
              "<Figure size 432x288 with 1 Axes>"
            ]
          },
          "metadata": {
            "needs_background": "light"
          }
        }
      ]
    }
  ]
}