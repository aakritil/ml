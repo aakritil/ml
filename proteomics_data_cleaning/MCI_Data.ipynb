{
  "nbformat": 4,
  "nbformat_minor": 0,
  "metadata": {
    "colab": {
      "name": "MCI-Data.ipynb",
      "provenance": [],
      "collapsed_sections": []
    },
    "kernelspec": {
      "name": "python3",
      "display_name": "Python 3"
    },
    "language_info": {
      "name": "python"
    }
  },
  "cells": [
    {
      "cell_type": "code",
      "source": [
        "import pandas as pd"
      ],
      "metadata": {
        "id": "VZ2t9_eBDwbw"
      },
      "execution_count": null,
      "outputs": []
    },
    {
      "cell_type": "code",
      "source": [
        "mcidata = pd.read_csv(\"/content/-.csv\")"
      ],
      "metadata": {
        "id": "eytKxvjzcmxm"
      },
      "execution_count": null,
      "outputs": []
    },
    {
      "cell_type": "code",
      "source": [
        "mcidata"
      ],
      "metadata": {
        "id": "J66wRDoFcvZc"
      },
      "execution_count": null,
      "outputs": []
    },
    {
      "cell_type": "code",
      "source": [
        "for i in range(0,len(mcidata)):\n",
        "  labellists = str(mcidata['d1: sec3 symptoms'][i]).split(\", \")\n",
        "  print(labellists)\n",
        "\n",
        "  for j in range(len(labellists)):\n",
        "      if labellists[j] != \"nan\" :\n",
        "        entry = labellists[j].strip()\n",
        "        if \".\" in entry:\n",
        "          num = entry[0:entry.find(\" \")-1]\n",
        "          name = entry[entry.find(\" \")+1:]\n",
        "        elif \")\" in entry:\n",
        "          num = entry[0:entry.find(\" \")] + entry[entry.find(\" \")+1:entry.find(\" \")+2]\n",
        "          cut_entry = entry[entry.find(\" \")+1:]\n",
        "          name = cut_entry[cut_entry.find(\" \")+1:]\n",
        "        mcidata.at[i, f'label_{j+1}_num'] = num\n",
        "        mcidata.at[i, f'label_{j+1}_name'] = name"
      ],
      "metadata": {
        "id": "XtxWSZTkcwP5"
      },
      "execution_count": null,
      "outputs": []
    },
    {
      "cell_type": "code",
      "source": [
        "mcidata.to_csv(\"/content/-.csv\")"
      ],
      "metadata": {
        "id": "XyoLJ56pXXGN"
      },
      "execution_count": null,
      "outputs": []
    }
  ]
}