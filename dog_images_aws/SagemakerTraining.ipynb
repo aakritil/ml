{
  "nbformat": 4,
  "nbformat_minor": 0,
  "metadata": {
    "colab": {
      "name": "SagemakerTraining.ipynb",
      "provenance": [],
      "collapsed_sections": []
    },
    "kernelspec": {
      "name": "python3",
      "display_name": "Python 3"
    },
    "language_info": {
      "name": "python"
    }
  },
  "cells": [
    {
      "cell_type": "code",
      "metadata": {
        "id": "ONztcP4wZTT4"
      },
      "source": [
        "import sys\n",
        "!{sys.executable} -m pip install sagemaker --quiet --upgrade"
      ],
      "execution_count": null,
      "outputs": []
    },
    {
      "cell_type": "code",
      "metadata": {
        "id": "Qk67eV-epmWP"
      },
      "source": [
        "import boto3\n",
        "import os\n",
        "import sagemaker\n",
        "import tensorflow as tf\n",
        "\n",
        "print(sagemaker.__version__)\n",
        "sess = sagemaker.session.Session()\n",
        "bucket = sess.default_bucket() \n",
        "region = boto3.Session().region_name"
      ],
      "execution_count": null,
      "outputs": []
    },
    {
      "cell_type": "code",
      "metadata": {
        "id": "a1OcqzhiqPON"
      },
      "source": [
        "!wget -q https://raw.githubusercontent.com/aws-samples/amazon-sagemaker-script-mode/master/local_mode_setup.sh\n",
        "!wget -q https://raw.githubusercontent.com/aws-samples/amazon-sagemaker-script-mode/master/daemon.json    \n",
        "!/bin/bash ./local_mode_setup.sh"
      ],
      "execution_count": null,
      "outputs": []
    },
    {
      "cell_type": "code",
      "metadata": {
        "id": "ME0oJnbBqXR9"
      },
      "source": [
        "from sagemaker.tensorflow import TensorFlow\n",
        "\n",
        "git_config = {'repo': 'https://github.com/Cellular-Longevity/data-processing/', \n",
        "              'branch': 'main'}\n",
        "\n",
        "train_instance_type = 'local'\n",
        "hyperparameters = {'epochs': 2, 'batch-size': 128, 'learning-rate': 0.01, 'imgsize':224, 'lds' = False}\n",
        "\n",
        "local_estimator = TensorFlow(git_config=git_config,\n",
        "                             source_dir='src/notebooks/-----',\n",
        "                             entry_point='train.py',\n",
        "                             instance_type=train_instance_type,\n",
        "                             instance_count=1,\n",
        "                             hyperparameters=hyperparameters,\n",
        "                             role=sagemaker.get_execution_role(),\n",
        "                             base_job_name='tf-2-workflow',\n",
        "                             framework_version='2.3.1',\n",
        "                             py_version='py37',\n",
        "                             script_mode=True)"
      ],
      "execution_count": null,
      "outputs": []
    },
    {
      "cell_type": "code",
      "metadata": {
        "id": "4M6QpRSOqaaG"
      },
      "source": [
        "inputs = {'images' : 's3://',\n",
        "          'traindf': 's3://',\n",
        "          'valdf'  : 's3://'}\n",
        "\n",
        "local_estimator.fit(inputs)"
      ],
      "execution_count": null,
      "outputs": []
    }
  ]
}