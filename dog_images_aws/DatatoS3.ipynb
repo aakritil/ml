{
  "nbformat": 4,
  "nbformat_minor": 0,
  "metadata": {
    "colab": {
      "name": "DatatoS3.ipynb",
      "provenance": [],
      "collapsed_sections": []
    },
    "kernelspec": {
      "name": "python3",
      "display_name": "Python 3"
    },
    "language_info": {
      "name": "python"
    }
  },
  "cells": [
    {
      "cell_type": "code",
      "metadata": {
        "colab": {
          "base_uri": "https://localhost:8080/"
        },
        "id": "RMee4behwRnY",
        "outputId": "15300b27-9a66-4fa3-df55-25265e13c389"
      },
      "source": [
        "import PIL\n",
        "from pathlib import Path\n",
        "from PIL import UnidentifiedImageError\n",
        "import os\n",
        "import boto3\n",
        "from PIL import Image\n",
        "import pandas as pd\n",
        "import io\n",
        "from io import BytesIO\n",
        "\n",
        "wholedf = pd.read_csv('/content/train_df2-2.csv', index_col = 0, header = 0, engine='python', dtype = {'breed_mapping': \"Int64\"})\n",
        "problem = wholedf.iloc[listindex,:]\n",
        "problem.reset_index(inplace=True)\n",
        "\n",
        "access_Key = \"key\"\n",
        "secret_Access_Key = \"secret\"\n",
        "\n",
        "s3 = boto3.resource('s3',aws_access_key_id=access_Key, aws_secret_access_key=secret_Access_Key)\n",
        "\n",
        "count = 3775\n",
        "def image_from_s3(bucket, key):\n",
        "\n",
        "    key = f'allimgs/{key}'\n",
        "    bucket = s3.Bucket(bucket)\n",
        "    image = bucket.Object(key)\n",
        "    img_data = image.get().get('Body').read()\n",
        "    try:\n",
        "      Image.open(io.BytesIO(img_data))\n",
        "    except:\n",
        "      print(key) \n",
        "\n",
        "for i in range(len(wholedf)):\n",
        "  entry = wholedf['full_filename'][i]\n",
        "  if 'http' in wholedf['clean_url'][i]:\n",
        "    try:\n",
        "      image_from_s3('dogshelterimgs',entry)\n",
        "    except Exception as e:\n",
        "      print(f'Problem: {e}')\n",
        "      print(f'Filename:{entry}. Index:{i}.')\n",
        "      print(entry)\n",
        "\n",
        "    \n",
        "\n"
      ],
      "execution_count": null,
      "outputs": [
        {
          "output_type": "stream",
          "text": [
            "Labrador-Retriever/76633.jpg\n",
            "Fox-Terrier/74799.jpg\n"
          ],
          "name": "stdout"
        },
        {
          "output_type": "stream",
          "text": [
            "/usr/local/lib/python3.7/dist-packages/PIL/TiffImagePlugin.py:788: UserWarning: Corrupt EXIF data.  Expecting to read 4 bytes but only got 0. \n",
            "  warnings.warn(str(msg))\n"
          ],
          "name": "stderr"
        },
        {
          "output_type": "stream",
          "text": [
            "allimgs/Great-Dane/33764252.jpg\n",
            "Hound/76614.jpg\n",
            "allimgs/Chihuahua/27014354.jpg\n",
            "Anatolian-Shepherd/59350605.jpg\n",
            "allimgs/Terrier/82918571.jpg\n",
            "American-Pit-Bull-Terrier/74781.jpg\n",
            "American-Pit-Bull-Terrier/76212.jpg\n",
            "American-Pit-Bull-Terrier/74786.jpg\n",
            "allimgs/Shepherd/54195647.jpg\n",
            "American-Staffordshire-Terrier/74820.jpg\n",
            "Labrador-Retriever/78544.jpg\n",
            "allimgs/American-Pit-Bull-Terrier/92565233.jpg\n",
            "allimgs/Shepherd/79078608.jpg\n",
            "Great-Pyrenees/63951.jpg\n",
            "allimgs/Retriever/6506994.jpg\n",
            "Chihuahua/78545.jpg\n",
            "Chihuahua/78547.jpg\n",
            "allimgs/Chihuahua/63629315.jpg\n",
            "allimgs/Labrador-Retriever/80039220.jpg\n",
            "Terrier/76628.jpg\n",
            "American-Staffordshire-Terrier/79624395.jpg\n",
            "allimgs/English-Bulldog/2176555.jpg\n",
            "allimgs/Beagle/82226503.jpg\n",
            "Siberian-Husky/78188.jpg\n",
            "allimgs/Shepherd/41060578.jpg\n",
            "allimgs/Labrador-Retriever/24598707.jpg\n",
            "allimgs/Boxer/5943692.jpg\n",
            "Labrador-Retriever/76603.jpg\n",
            "Mixed-Breed/76359.jpg\n",
            "American-Pit-Bull-Terrier/74790.jpg\n",
            "allimgs/Treeing-Walker-Coonhound/30319050.jpg\n",
            "allimgs/American-Pit-Bull-Terrier/52106344.jpg\n",
            "Terrier/75554.jpg\n",
            "American-Pit-Bull-Terrier/74782.jpg\n",
            "Mixed-Breed/76357.jpg\n",
            "allimgs/Chihuahua/55861047.jpg\n"
          ],
          "name": "stdout"
        }
      ]
    },
    {
      "cell_type": "code",
      "metadata": {
        "id": "a3MooiPx0j2C"
      },
      "source": [
        "listindex = list(range(57*64,3712+64*3))"
      ],
      "execution_count": null,
      "outputs": []
    },
    {
      "cell_type": "code",
      "metadata": {
        "colab": {
          "base_uri": "https://localhost:8080/"
        },
        "id": "xdGxNmeaoYTT",
        "outputId": "290e6339-7557-431b-b64e-eb342740d6e3"
      },
      "source": [
        "!pip install boto3"
      ],
      "execution_count": null,
      "outputs": [
        {
          "output_type": "stream",
          "text": [
            "Collecting boto3\n",
            "  Downloading boto3-1.18.23-py3-none-any.whl (131 kB)\n",
            "\u001b[?25l\r\u001b[K     |██▌                             | 10 kB 22.7 MB/s eta 0:00:01\r\u001b[K     |█████                           | 20 kB 29.0 MB/s eta 0:00:01\r\u001b[K     |███████▌                        | 30 kB 32.1 MB/s eta 0:00:01\r\u001b[K     |██████████                      | 40 kB 31.7 MB/s eta 0:00:01\r\u001b[K     |████████████▌                   | 51 kB 31.2 MB/s eta 0:00:01\r\u001b[K     |███████████████                 | 61 kB 33.8 MB/s eta 0:00:01\r\u001b[K     |█████████████████▍              | 71 kB 31.3 MB/s eta 0:00:01\r\u001b[K     |████████████████████            | 81 kB 31.4 MB/s eta 0:00:01\r\u001b[K     |██████████████████████▍         | 92 kB 32.9 MB/s eta 0:00:01\r\u001b[K     |█████████████████████████       | 102 kB 34.8 MB/s eta 0:00:01\r\u001b[K     |███████████████████████████▍    | 112 kB 34.8 MB/s eta 0:00:01\r\u001b[K     |█████████████████████████████▉  | 122 kB 34.8 MB/s eta 0:00:01\r\u001b[K     |████████████████████████████████| 131 kB 34.8 MB/s \n",
            "\u001b[?25hCollecting jmespath<1.0.0,>=0.7.1\n",
            "  Downloading jmespath-0.10.0-py2.py3-none-any.whl (24 kB)\n",
            "Collecting botocore<1.22.0,>=1.21.23\n",
            "  Downloading botocore-1.21.23-py3-none-any.whl (7.8 MB)\n",
            "\u001b[K     |████████████████████████████████| 7.8 MB 23.3 MB/s \n",
            "\u001b[?25hCollecting s3transfer<0.6.0,>=0.5.0\n",
            "  Downloading s3transfer-0.5.0-py3-none-any.whl (79 kB)\n",
            "\u001b[K     |████████████████████████████████| 79 kB 9.1 MB/s \n",
            "\u001b[?25hRequirement already satisfied: python-dateutil<3.0.0,>=2.1 in /usr/local/lib/python3.7/dist-packages (from botocore<1.22.0,>=1.21.23->boto3) (2.8.2)\n",
            "Collecting urllib3<1.27,>=1.25.4\n",
            "  Downloading urllib3-1.26.6-py2.py3-none-any.whl (138 kB)\n",
            "\u001b[K     |████████████████████████████████| 138 kB 61.0 MB/s \n",
            "\u001b[?25hRequirement already satisfied: six>=1.5 in /usr/local/lib/python3.7/dist-packages (from python-dateutil<3.0.0,>=2.1->botocore<1.22.0,>=1.21.23->boto3) (1.15.0)\n",
            "Installing collected packages: urllib3, jmespath, botocore, s3transfer, boto3\n",
            "  Attempting uninstall: urllib3\n",
            "    Found existing installation: urllib3 1.24.3\n",
            "    Uninstalling urllib3-1.24.3:\n",
            "      Successfully uninstalled urllib3-1.24.3\n",
            "\u001b[31mERROR: pip's dependency resolver does not currently take into account all the packages that are installed. This behaviour is the source of the following dependency conflicts.\n",
            "requests 2.23.0 requires urllib3!=1.25.0,!=1.25.1,<1.26,>=1.21.1, but you have urllib3 1.26.6 which is incompatible.\n",
            "datascience 0.10.6 requires folium==0.2.1, but you have folium 0.8.3 which is incompatible.\u001b[0m\n",
            "Successfully installed boto3-1.18.23 botocore-1.21.23 jmespath-0.10.0 s3transfer-0.5.0 urllib3-1.26.6\n"
          ],
          "name": "stdout"
        }
      ]
    },
    {
      "cell_type": "code",
      "metadata": {
        "id": "1AA4SLsz0e8U"
      },
      "source": [
        "import requests\n",
        "import piexif\n",
        "def upload_photo(url,bucket,filepath):\n",
        "  s3 = boto3.client('s3', aws_access_key_id= access_Key, aws_secret_access_key=secret_Access_Key)\n",
        "  try:\n",
        "    imageresp = requests.get(url, stream = True).raw\n",
        "    piexif.remove(imageresp)\n",
        "    s3.upload_fileobj(imageresp,bucket,'allimgs/'+filepath)\n",
        "    print(url)\n",
        "  except FileNotFoundError:\n",
        "    print('no file at link')\n",
        "  except NoCredentialsError:\n",
        "    print('credential error')\n"
      ],
      "execution_count": null,
      "outputs": []
    },
    {
      "cell_type": "code",
      "metadata": {
        "colab": {
          "base_uri": "https://localhost:8080/"
        },
        "id": "KSOVVWPS4FY4",
        "outputId": "3e0d2840-775a-46dc-f487-156ab502a00a"
      },
      "source": [
        "! pip install piexif"
      ],
      "execution_count": null,
      "outputs": [
        {
          "output_type": "stream",
          "text": [
            "Requirement already satisfied: piexif in /usr/local/lib/python3.7/dist-packages (1.1.3)\n"
          ],
          "name": "stdout"
        }
      ]
    },
    {
      "cell_type": "code",
      "metadata": {
        "colab": {
          "base_uri": "https://localhost:8080/",
          "height": 599
        },
        "id": "8iXYDLCo2D7a",
        "outputId": "7d742d74-9b8d-46ff-88a6-b86d06ca1eba"
      },
      "source": [
        "upload_photo('https://s3.amazonaws.com/filestore.rescuegroups.org/8832/pictures/animals/13410/13410436/71555152_800x800.jpg','dogshelterimgs','American-Staffordshire-Terrier/6392.jpg')"
      ],
      "execution_count": null,
      "outputs": [
        {
          "output_type": "error",
          "ename": "NameError",
          "evalue": "ignored",
          "traceback": [
            "\u001b[0;31m---------------------------------------------------------------------------\u001b[0m",
            "\u001b[0;31mTypeError\u001b[0m                                 Traceback (most recent call last)",
            "\u001b[0;32m<ipython-input-44-72d2631deb02>\u001b[0m in \u001b[0;36mupload_photo\u001b[0;34m(url, bucket, filepath)\u001b[0m\n\u001b[1;32m      6\u001b[0m     \u001b[0mimageresp\u001b[0m \u001b[0;34m=\u001b[0m \u001b[0mrequests\u001b[0m\u001b[0;34m.\u001b[0m\u001b[0mget\u001b[0m\u001b[0;34m(\u001b[0m\u001b[0murl\u001b[0m\u001b[0;34m,\u001b[0m \u001b[0mstream\u001b[0m \u001b[0;34m=\u001b[0m \u001b[0;32mTrue\u001b[0m\u001b[0;34m)\u001b[0m\u001b[0;34m.\u001b[0m\u001b[0mraw\u001b[0m\u001b[0;34m\u001b[0m\u001b[0;34m\u001b[0m\u001b[0m\n\u001b[0;32m----> 7\u001b[0;31m     \u001b[0mpiexif\u001b[0m\u001b[0;34m.\u001b[0m\u001b[0mremove\u001b[0m\u001b[0;34m(\u001b[0m\u001b[0mimageresp\u001b[0m\u001b[0;34m)\u001b[0m\u001b[0;34m\u001b[0m\u001b[0;34m\u001b[0m\u001b[0m\n\u001b[0m\u001b[1;32m      8\u001b[0m     \u001b[0ms3\u001b[0m\u001b[0;34m.\u001b[0m\u001b[0mupload_fileobj\u001b[0m\u001b[0;34m(\u001b[0m\u001b[0mimageresp\u001b[0m\u001b[0;34m,\u001b[0m\u001b[0mbucket\u001b[0m\u001b[0;34m,\u001b[0m\u001b[0;34m'allimgs/'\u001b[0m\u001b[0;34m+\u001b[0m\u001b[0mfilepath\u001b[0m\u001b[0;34m)\u001b[0m\u001b[0;34m\u001b[0m\u001b[0;34m\u001b[0m\u001b[0m\n",
            "\u001b[0;32m/usr/local/lib/python3.7/dist-packages/piexif/_remove.py\u001b[0m in \u001b[0;36mremove\u001b[0;34m(src, new_file)\u001b[0m\n\u001b[1;32m     14\u001b[0m     \u001b[0moutput_is_file\u001b[0m \u001b[0;34m=\u001b[0m \u001b[0;32mFalse\u001b[0m\u001b[0;34m\u001b[0m\u001b[0;34m\u001b[0m\u001b[0m\n\u001b[0;32m---> 15\u001b[0;31m     \u001b[0;32mif\u001b[0m \u001b[0msrc\u001b[0m\u001b[0;34m[\u001b[0m\u001b[0;36m0\u001b[0m\u001b[0;34m:\u001b[0m\u001b[0;36m2\u001b[0m\u001b[0;34m]\u001b[0m \u001b[0;34m==\u001b[0m \u001b[0;34mb\"\\xff\\xd8\"\u001b[0m\u001b[0;34m:\u001b[0m\u001b[0;34m\u001b[0m\u001b[0;34m\u001b[0m\u001b[0m\n\u001b[0m\u001b[1;32m     16\u001b[0m         \u001b[0msrc_data\u001b[0m \u001b[0;34m=\u001b[0m \u001b[0msrc\u001b[0m\u001b[0;34m\u001b[0m\u001b[0;34m\u001b[0m\u001b[0m\n",
            "\u001b[0;31mTypeError\u001b[0m: 'HTTPResponse' object is not subscriptable",
            "\nDuring handling of the above exception, another exception occurred:\n",
            "\u001b[0;31mNameError\u001b[0m                                 Traceback (most recent call last)",
            "\u001b[0;32m<ipython-input-46-f55efa578be1>\u001b[0m in \u001b[0;36m<module>\u001b[0;34m()\u001b[0m\n\u001b[0;32m----> 1\u001b[0;31m \u001b[0mupload_photo\u001b[0m\u001b[0;34m(\u001b[0m\u001b[0;34m'https://s3.amazonaws.com/filestore.rescuegroups.org/8832/pictures/animals/13410/13410436/71555152_800x800.jpg'\u001b[0m\u001b[0;34m,\u001b[0m\u001b[0;34m'dogshelterimgs'\u001b[0m\u001b[0;34m,\u001b[0m\u001b[0;34m'American-Staffordshire-Terrier/6392.jpg'\u001b[0m\u001b[0;34m)\u001b[0m\u001b[0;34m\u001b[0m\u001b[0;34m\u001b[0m\u001b[0m\n\u001b[0m",
            "\u001b[0;32m<ipython-input-44-72d2631deb02>\u001b[0m in \u001b[0;36mupload_photo\u001b[0;34m(url, bucket, filepath)\u001b[0m\n\u001b[1;32m     10\u001b[0m   \u001b[0;32mexcept\u001b[0m \u001b[0mFileNotFoundError\u001b[0m\u001b[0;34m:\u001b[0m\u001b[0;34m\u001b[0m\u001b[0;34m\u001b[0m\u001b[0m\n\u001b[1;32m     11\u001b[0m     \u001b[0mprint\u001b[0m\u001b[0;34m(\u001b[0m\u001b[0;34m'no file at link'\u001b[0m\u001b[0;34m)\u001b[0m\u001b[0;34m\u001b[0m\u001b[0;34m\u001b[0m\u001b[0m\n\u001b[0;32m---> 12\u001b[0;31m   \u001b[0;32mexcept\u001b[0m \u001b[0mNoCredentialsError\u001b[0m\u001b[0;34m:\u001b[0m\u001b[0;34m\u001b[0m\u001b[0;34m\u001b[0m\u001b[0m\n\u001b[0m\u001b[1;32m     13\u001b[0m     \u001b[0mprint\u001b[0m\u001b[0;34m(\u001b[0m\u001b[0;34m'credential error'\u001b[0m\u001b[0;34m)\u001b[0m\u001b[0;34m\u001b[0m\u001b[0;34m\u001b[0m\u001b[0m\n",
            "\u001b[0;31mNameError\u001b[0m: name 'NoCredentialsError' is not defined"
          ]
        }
      ]
    },
    {
      "cell_type": "code",
      "metadata": {
        "id": "nm92YwG42SRe"
      },
      "source": [
        "import pandas as pd\n",
        "wholedf = pd.read_csv('/content/train_df2-2.csv', index_col = 0, header = 0, engine='python', dtype = {'breed_mapping': \"Int64\"})"
      ],
      "execution_count": null,
      "outputs": []
    },
    {
      "cell_type": "code",
      "metadata": {
        "id": "rROw7vlOYHg7"
      },
      "source": [
        "problem = wholedf.iloc[[3811],:]"
      ],
      "execution_count": null,
      "outputs": []
    },
    {
      "cell_type": "code",
      "metadata": {
        "colab": {
          "base_uri": "https://localhost:8080/",
          "height": 134
        },
        "id": "Na-JOPwzYKti",
        "outputId": "b67a3384-c623-4817-b0d9-4dd4965a6b0e"
      },
      "source": [
        "problem"
      ],
      "execution_count": null,
      "outputs": [
        {
          "output_type": "execute_result",
          "data": {
            "text/html": [
              "<div>\n",
              "<style scoped>\n",
              "    .dataframe tbody tr th:only-of-type {\n",
              "        vertical-align: middle;\n",
              "    }\n",
              "\n",
              "    .dataframe tbody tr th {\n",
              "        vertical-align: top;\n",
              "    }\n",
              "\n",
              "    .dataframe thead th {\n",
              "        text-align: right;\n",
              "    }\n",
              "</style>\n",
              "<table border=\"1\" class=\"dataframe\">\n",
              "  <thead>\n",
              "    <tr style=\"text-align: right;\">\n",
              "      <th></th>\n",
              "      <th>index</th>\n",
              "      <th>original.resolutionX</th>\n",
              "      <th>original.resolutionY</th>\n",
              "      <th>sex</th>\n",
              "      <th>primaryBreed</th>\n",
              "      <th>secondaryBreed</th>\n",
              "      <th>mixed</th>\n",
              "      <th>age</th>\n",
              "      <th>birthdate</th>\n",
              "      <th>exact_age</th>\n",
              "      <th>clean_url</th>\n",
              "      <th>source</th>\n",
              "      <th>filename</th>\n",
              "      <th>norm_age</th>\n",
              "      <th>full_filename</th>\n",
              "      <th>breed_mapping</th>\n",
              "    </tr>\n",
              "  </thead>\n",
              "  <tbody>\n",
              "    <tr>\n",
              "      <th>3811</th>\n",
              "      <td>5017</td>\n",
              "      <td>800.0</td>\n",
              "      <td>800.0</td>\n",
              "      <td>Male</td>\n",
              "      <td>American Staffordshire Terrier</td>\n",
              "      <td>Terrier</td>\n",
              "      <td>No</td>\n",
              "      <td>Adult</td>\n",
              "      <td>1\\/28\\/2014</td>\n",
              "      <td>6.0</td>\n",
              "      <td>https://s3.amazonaws.com/filestore.rescuegroup...</td>\n",
              "      <td>Rescue Groups</td>\n",
              "      <td>American-Staffordshire-Terrier</td>\n",
              "      <td>0.461538</td>\n",
              "      <td>American-Staffordshire-Terrier/6392.jpg</td>\n",
              "      <td>12</td>\n",
              "    </tr>\n",
              "  </tbody>\n",
              "</table>\n",
              "</div>"
            ],
            "text/plain": [
              "      index  ...  breed_mapping\n",
              "3811   5017  ...             12\n",
              "\n",
              "[1 rows x 16 columns]"
            ]
          },
          "metadata": {
            "tags": []
          },
          "execution_count": 14
        }
      ]
    },
    {
      "cell_type": "code",
      "metadata": {
        "colab": {
          "base_uri": "https://localhost:8080/"
        },
        "id": "bqKxqNZNYr8l",
        "outputId": "55ecb66f-ec7e-4a0c-81a6-754c063108d9"
      },
      "source": [
        "import PIL\n",
        "from pathlib import Path\n",
        "from PIL import UnidentifiedImageError\n",
        "import os\n",
        "import boto3\n",
        "from PIL import Image\n",
        "import pandas as pd\n",
        "import io\n",
        "from io import BytesIO\n",
        "\n",
        "\n",
        "\n",
        "access_Key = \"key\"\n",
        "secret_Access_Key = \"secret\"\n",
        "\n",
        "s3 = boto3.resource('s3',aws_access_key_id=access_Key, aws_secret_access_key=secret_Access_Key)\n",
        "\n",
        "def image_from_s3(bucket, key):\n",
        "    key = f'allimgs/{key}'\n",
        "    bucket = s3.Bucket(bucket)\n",
        "    image = bucket.Object(key)\n",
        "    img_data = image.get().get('Body').read()\n",
        "    try:\n",
        "      Image.open(io.BytesIO(img_data))\n",
        "    except:\n",
        "      print(key) \n",
        "\n",
        "for i in range(len(traindf)):\n",
        "  entry = traindf['full_filename'][i]\n",
        "  try:\n",
        "    image_from_s3('dogshelterimgs',entry)\n",
        "  except:\n",
        "    print(entry)"
      ],
      "execution_count": null,
      "outputs": [
        {
          "metadata": {
            "tags": null
          },
          "name": "stdout",
          "output_type": "stream",
          "text": [
            "American-Staffordshire-Terrier/45640.jpg\n",
            "Mixed-Breed/945346188-4.jpg\n",
            "Mixed-Breed/aa7548beb-5.jpg\n"
          ]
        },
        {
          "metadata": {
            "tags": null
          },
          "name": "stderr",
          "output_type": "stream",
          "text": [
            "/usr/local/lib/python3.7/dist-packages/PIL/TiffImagePlugin.py:788: UserWarning: Corrupt EXIF data.  Expecting to read 4 bytes but only got 0. \n",
            "  warnings.warn(str(msg))\n"
          ]
        },
        {
          "output_type": "stream",
          "text": [
            "allimgs/Great-Dane/33764252.jpg\n",
            "allimgs/Chihuahua/27014354.jpg\n",
            "Anatolian-Shepherd/59350605.jpg\n",
            "allimgs/Terrier/82918571.jpg\n",
            "allimgs/Shepherd/54195647.jpg\n",
            "Spitz/edba94b45-1.jpg\n",
            "Great-Dane/14202.jpg\n",
            "Boxer/64203.jpg\n",
            "Labrador-Retriever/9844.jpg\n"
          ],
          "name": "stdout"
        }
      ]
    },
    {
      "cell_type": "code",
      "metadata": {
        "id": "C51vxk8uZWqd"
      },
      "source": [
        "wholedf.drop(3811,inplace=True)\n",
        "wholedf.reset_index(inplace=True)"
      ],
      "execution_count": null,
      "outputs": []
    },
    {
      "cell_type": "code",
      "metadata": {
        "id": "WO44f0EP9FY4"
      },
      "source": [
        "for i in range(len(valdf)):\n",
        "  entry = valdf['full_filename'][i]\n",
        "  try:\n",
        "    image_from_s3('dogshelterimgs',entry)\n",
        "  except:\n",
        "    print(entry)\n",
        "\n",
        "for i in range(len(testdf)):\n",
        "  entry = testdf['full_filename'][i]\n",
        "  try:\n",
        "    image_from_s3('dogshelterimgs',entry)\n",
        "  except:\n",
        "    print(entry)"
      ],
      "execution_count": null,
      "outputs": []
    },
    {
      "cell_type": "code",
      "metadata": {
        "colab": {
          "base_uri": "https://localhost:8080/"
        },
        "id": "hQruTACeZomc",
        "outputId": "910662fe-6369-43a8-f086-f5c7e3125b38"
      },
      "source": [
        "len(wholedf)"
      ],
      "execution_count": null,
      "outputs": [
        {
          "output_type": "execute_result",
          "data": {
            "text/plain": [
              "57686"
            ]
          },
          "metadata": {
            "tags": []
          },
          "execution_count": 25
        }
      ]
    },
    {
      "cell_type": "code",
      "metadata": {
        "id": "l_ebMk8QaPRM"
      },
      "source": [
        "#the point of this code is to get rid of the 21 invalid filenames error. There should not be any invalid filenames - this could be cause for concern\n",
        "import pandas as pd\n",
        "\n",
        "#64889\n",
        "traindf = pd.read_csv('/content/train_df2-2.csv', index_col = 0, header = 0, engine='python', dtype = {'breed_mapping': \"Int64\"})\n",
        "\n",
        "#13905\n",
        "valdf = pd.read_csv('/content/valid_df2-2.csv', index_col = 0, header = 0, engine='python', dtype = {'breed_mapping': \"Int64\"})\n",
        "\n",
        "#13905\n",
        "testdf = pd.read_csv('/content/test_df2-2.csv', index_col = 0, header = 0, engine='python', dtype = {'breed_mapping': \"Int64\"})\n",
        "\n",
        "#there are NO repeated filenames\n",
        "\n",
        "#EXIF error occurs on index 3811 of traindf :/"
      ],
      "execution_count": null,
      "outputs": []
    },
    {
      "cell_type": "code",
      "metadata": {
        "id": "ic3b17k9wVo3"
      },
      "source": [
        "import boto3\n",
        "\n",
        "access_Key = \"key\"\n",
        "secret_Access_Key = \"secret\"\n",
        "\n",
        "s3_paginator = boto3.client('s3', aws_access_key_id=access_Key, aws_secret_access_key=secret_Access_Key).get_paginator('list_objects_v2')\n",
        "\n",
        "\n",
        "def keys(bucket_name, prefix='/', delimiter='/', start_after=''):\n",
        "    prefix = prefix[1:] if prefix.startswith(delimiter) else prefix\n",
        "    start_after = (start_after or prefix) if prefix.endswith(delimiter) else start_after\n",
        "    for page in s3_paginator.paginate(Bucket=bucket_name, Prefix=prefix, StartAfter=start_after):\n",
        "        for content in page.get('Contents', ()):\n",
        "            yield content['Key']"
      ],
      "execution_count": null,
      "outputs": []
    },
    {
      "cell_type": "code",
      "metadata": {
        "colab": {
          "base_uri": "https://localhost:8080/",
          "height": 341
        },
        "id": "3Jy2l1qzwZbA",
        "outputId": "cbe5a7a5-d02e-4197-92d1-5ac5185d7071"
      },
      "source": [
        "listofs3filenames = []\n",
        "while True:\n",
        "  listofs3filenames.append(next(keys('dogshelterimgs',prefix = 'allimgs/')))"
      ],
      "execution_count": null,
      "outputs": [
        {
          "output_type": "error",
          "ename": "KeyboardInterrupt",
          "evalue": "ignored",
          "traceback": [
            "\u001b[0;31m---------------------------------------------------------------------------\u001b[0m",
            "\u001b[0;31mKeyboardInterrupt\u001b[0m                         Traceback (most recent call last)",
            "\u001b[0;32m<ipython-input-7-5c4047ab5cd3>\u001b[0m in \u001b[0;36m<module>\u001b[0;34m()\u001b[0m\n\u001b[1;32m      1\u001b[0m \u001b[0mlistofs3filenames\u001b[0m \u001b[0;34m=\u001b[0m \u001b[0;34m[\u001b[0m\u001b[0;34m]\u001b[0m\u001b[0;34m\u001b[0m\u001b[0;34m\u001b[0m\u001b[0m\n\u001b[1;32m      2\u001b[0m \u001b[0;32mwhile\u001b[0m \u001b[0;32mTrue\u001b[0m\u001b[0;34m:\u001b[0m\u001b[0;34m\u001b[0m\u001b[0;34m\u001b[0m\u001b[0m\n\u001b[0;32m----> 3\u001b[0;31m   \u001b[0mlistofs3filenames\u001b[0m\u001b[0;34m.\u001b[0m\u001b[0mappend\u001b[0m\u001b[0;34m(\u001b[0m\u001b[0mnext\u001b[0m\u001b[0;34m(\u001b[0m\u001b[0mkeys\u001b[0m\u001b[0;34m(\u001b[0m\u001b[0;34m'dogshelterimgs'\u001b[0m\u001b[0;34m,\u001b[0m\u001b[0mprefix\u001b[0m \u001b[0;34m=\u001b[0m \u001b[0;34m'allimgs/'\u001b[0m\u001b[0;34m)\u001b[0m\u001b[0;34m)\u001b[0m\u001b[0;34m)\u001b[0m\u001b[0;34m\u001b[0m\u001b[0;34m\u001b[0m\u001b[0m\n\u001b[0m",
            "\u001b[0;32m<ipython-input-5-17c0d36f83e8>\u001b[0m in \u001b[0;36mkeys\u001b[0;34m(bucket_name, prefix, delimiter, start_after)\u001b[0m\n\u001b[1;32m     10\u001b[0m     \u001b[0mprefix\u001b[0m \u001b[0;34m=\u001b[0m \u001b[0mprefix\u001b[0m\u001b[0;34m[\u001b[0m\u001b[0;36m1\u001b[0m\u001b[0;34m:\u001b[0m\u001b[0;34m]\u001b[0m \u001b[0;32mif\u001b[0m \u001b[0mprefix\u001b[0m\u001b[0;34m.\u001b[0m\u001b[0mstartswith\u001b[0m\u001b[0;34m(\u001b[0m\u001b[0mdelimiter\u001b[0m\u001b[0;34m)\u001b[0m \u001b[0;32melse\u001b[0m \u001b[0mprefix\u001b[0m\u001b[0;34m\u001b[0m\u001b[0;34m\u001b[0m\u001b[0m\n\u001b[1;32m     11\u001b[0m     \u001b[0mstart_after\u001b[0m \u001b[0;34m=\u001b[0m \u001b[0;34m(\u001b[0m\u001b[0mstart_after\u001b[0m \u001b[0;32mor\u001b[0m \u001b[0mprefix\u001b[0m\u001b[0;34m)\u001b[0m \u001b[0;32mif\u001b[0m \u001b[0mprefix\u001b[0m\u001b[0;34m.\u001b[0m\u001b[0mendswith\u001b[0m\u001b[0;34m(\u001b[0m\u001b[0mdelimiter\u001b[0m\u001b[0;34m)\u001b[0m \u001b[0;32melse\u001b[0m \u001b[0mstart_after\u001b[0m\u001b[0;34m\u001b[0m\u001b[0;34m\u001b[0m\u001b[0m\n\u001b[0;32m---> 12\u001b[0;31m     \u001b[0;32mfor\u001b[0m \u001b[0mpage\u001b[0m \u001b[0;32min\u001b[0m \u001b[0ms3_paginator\u001b[0m\u001b[0;34m.\u001b[0m\u001b[0mpaginate\u001b[0m\u001b[0;34m(\u001b[0m\u001b[0mBucket\u001b[0m\u001b[0;34m=\u001b[0m\u001b[0mbucket_name\u001b[0m\u001b[0;34m,\u001b[0m \u001b[0mPrefix\u001b[0m\u001b[0;34m=\u001b[0m\u001b[0mprefix\u001b[0m\u001b[0;34m,\u001b[0m \u001b[0mStartAfter\u001b[0m\u001b[0;34m=\u001b[0m\u001b[0mstart_after\u001b[0m\u001b[0;34m)\u001b[0m\u001b[0;34m:\u001b[0m\u001b[0;34m\u001b[0m\u001b[0;34m\u001b[0m\u001b[0m\n\u001b[0m\u001b[1;32m     13\u001b[0m         \u001b[0;32mfor\u001b[0m \u001b[0mcontent\u001b[0m \u001b[0;32min\u001b[0m \u001b[0mpage\u001b[0m\u001b[0;34m.\u001b[0m\u001b[0mget\u001b[0m\u001b[0;34m(\u001b[0m\u001b[0;34m'Contents'\u001b[0m\u001b[0;34m,\u001b[0m \u001b[0;34m(\u001b[0m\u001b[0;34m)\u001b[0m\u001b[0;34m)\u001b[0m\u001b[0;34m:\u001b[0m\u001b[0;34m\u001b[0m\u001b[0;34m\u001b[0m\u001b[0m\n\u001b[1;32m     14\u001b[0m             \u001b[0;32myield\u001b[0m \u001b[0mcontent\u001b[0m\u001b[0;34m[\u001b[0m\u001b[0;34m'Key'\u001b[0m\u001b[0;34m]\u001b[0m\u001b[0;34m\u001b[0m\u001b[0;34m\u001b[0m\u001b[0m\n",
            "\u001b[0;32m/usr/local/lib/python3.7/dist-packages/botocore/paginate.py\u001b[0m in \u001b[0;36m__iter__\u001b[0;34m(self)\u001b[0m\n\u001b[1;32m    253\u001b[0m         \u001b[0mself\u001b[0m\u001b[0;34m.\u001b[0m\u001b[0m_inject_starting_params\u001b[0m\u001b[0;34m(\u001b[0m\u001b[0mcurrent_kwargs\u001b[0m\u001b[0;34m)\u001b[0m\u001b[0;34m\u001b[0m\u001b[0;34m\u001b[0m\u001b[0m\n\u001b[1;32m    254\u001b[0m         \u001b[0;32mwhile\u001b[0m \u001b[0;32mTrue\u001b[0m\u001b[0;34m:\u001b[0m\u001b[0;34m\u001b[0m\u001b[0;34m\u001b[0m\u001b[0m\n\u001b[0;32m--> 255\u001b[0;31m             \u001b[0mresponse\u001b[0m \u001b[0;34m=\u001b[0m \u001b[0mself\u001b[0m\u001b[0;34m.\u001b[0m\u001b[0m_make_request\u001b[0m\u001b[0;34m(\u001b[0m\u001b[0mcurrent_kwargs\u001b[0m\u001b[0;34m)\u001b[0m\u001b[0;34m\u001b[0m\u001b[0;34m\u001b[0m\u001b[0m\n\u001b[0m\u001b[1;32m    256\u001b[0m             \u001b[0mparsed\u001b[0m \u001b[0;34m=\u001b[0m \u001b[0mself\u001b[0m\u001b[0;34m.\u001b[0m\u001b[0m_extract_parsed_response\u001b[0m\u001b[0;34m(\u001b[0m\u001b[0mresponse\u001b[0m\u001b[0;34m)\u001b[0m\u001b[0;34m\u001b[0m\u001b[0;34m\u001b[0m\u001b[0m\n\u001b[1;32m    257\u001b[0m             \u001b[0;32mif\u001b[0m \u001b[0mfirst_request\u001b[0m\u001b[0;34m:\u001b[0m\u001b[0;34m\u001b[0m\u001b[0;34m\u001b[0m\u001b[0m\n",
            "\u001b[0;32m/usr/local/lib/python3.7/dist-packages/botocore/paginate.py\u001b[0m in \u001b[0;36m_make_request\u001b[0;34m(self, current_kwargs)\u001b[0m\n\u001b[1;32m    330\u001b[0m \u001b[0;34m\u001b[0m\u001b[0m\n\u001b[1;32m    331\u001b[0m     \u001b[0;32mdef\u001b[0m \u001b[0m_make_request\u001b[0m\u001b[0;34m(\u001b[0m\u001b[0mself\u001b[0m\u001b[0;34m,\u001b[0m \u001b[0mcurrent_kwargs\u001b[0m\u001b[0;34m)\u001b[0m\u001b[0;34m:\u001b[0m\u001b[0;34m\u001b[0m\u001b[0;34m\u001b[0m\u001b[0m\n\u001b[0;32m--> 332\u001b[0;31m         \u001b[0;32mreturn\u001b[0m \u001b[0mself\u001b[0m\u001b[0;34m.\u001b[0m\u001b[0m_method\u001b[0m\u001b[0;34m(\u001b[0m\u001b[0;34m**\u001b[0m\u001b[0mcurrent_kwargs\u001b[0m\u001b[0;34m)\u001b[0m\u001b[0;34m\u001b[0m\u001b[0;34m\u001b[0m\u001b[0m\n\u001b[0m\u001b[1;32m    333\u001b[0m \u001b[0;34m\u001b[0m\u001b[0m\n\u001b[1;32m    334\u001b[0m     \u001b[0;32mdef\u001b[0m \u001b[0m_extract_parsed_response\u001b[0m\u001b[0;34m(\u001b[0m\u001b[0mself\u001b[0m\u001b[0;34m,\u001b[0m \u001b[0mresponse\u001b[0m\u001b[0;34m)\u001b[0m\u001b[0;34m:\u001b[0m\u001b[0;34m\u001b[0m\u001b[0;34m\u001b[0m\u001b[0m\n",
            "\u001b[0;32m/usr/local/lib/python3.7/dist-packages/botocore/client.py\u001b[0m in \u001b[0;36m_api_call\u001b[0;34m(self, *args, **kwargs)\u001b[0m\n\u001b[1;32m    384\u001b[0m                     \"%s() only accepts keyword arguments.\" % py_operation_name)\n\u001b[1;32m    385\u001b[0m             \u001b[0;31m# The \"self\" in this scope is referring to the BaseClient.\u001b[0m\u001b[0;34m\u001b[0m\u001b[0;34m\u001b[0m\u001b[0;34m\u001b[0m\u001b[0m\n\u001b[0;32m--> 386\u001b[0;31m             \u001b[0;32mreturn\u001b[0m \u001b[0mself\u001b[0m\u001b[0;34m.\u001b[0m\u001b[0m_make_api_call\u001b[0m\u001b[0;34m(\u001b[0m\u001b[0moperation_name\u001b[0m\u001b[0;34m,\u001b[0m \u001b[0mkwargs\u001b[0m\u001b[0;34m)\u001b[0m\u001b[0;34m\u001b[0m\u001b[0;34m\u001b[0m\u001b[0m\n\u001b[0m\u001b[1;32m    387\u001b[0m \u001b[0;34m\u001b[0m\u001b[0m\n\u001b[1;32m    388\u001b[0m         \u001b[0m_api_call\u001b[0m\u001b[0;34m.\u001b[0m\u001b[0m__name__\u001b[0m \u001b[0;34m=\u001b[0m \u001b[0mstr\u001b[0m\u001b[0;34m(\u001b[0m\u001b[0mpy_operation_name\u001b[0m\u001b[0;34m)\u001b[0m\u001b[0;34m\u001b[0m\u001b[0;34m\u001b[0m\u001b[0m\n",
            "\u001b[0;32m/usr/local/lib/python3.7/dist-packages/botocore/client.py\u001b[0m in \u001b[0;36m_make_api_call\u001b[0;34m(self, operation_name, api_params)\u001b[0m\n\u001b[1;32m    690\u001b[0m         \u001b[0;32melse\u001b[0m\u001b[0;34m:\u001b[0m\u001b[0;34m\u001b[0m\u001b[0;34m\u001b[0m\u001b[0m\n\u001b[1;32m    691\u001b[0m             http, parsed_response = self._make_request(\n\u001b[0;32m--> 692\u001b[0;31m                 operation_model, request_dict, request_context)\n\u001b[0m\u001b[1;32m    693\u001b[0m \u001b[0;34m\u001b[0m\u001b[0m\n\u001b[1;32m    694\u001b[0m         self.meta.events.emit(\n",
            "\u001b[0;32m/usr/local/lib/python3.7/dist-packages/botocore/client.py\u001b[0m in \u001b[0;36m_make_request\u001b[0;34m(self, operation_model, request_dict, request_context)\u001b[0m\n\u001b[1;32m    709\u001b[0m     \u001b[0;32mdef\u001b[0m \u001b[0m_make_request\u001b[0m\u001b[0;34m(\u001b[0m\u001b[0mself\u001b[0m\u001b[0;34m,\u001b[0m \u001b[0moperation_model\u001b[0m\u001b[0;34m,\u001b[0m \u001b[0mrequest_dict\u001b[0m\u001b[0;34m,\u001b[0m \u001b[0mrequest_context\u001b[0m\u001b[0;34m)\u001b[0m\u001b[0;34m:\u001b[0m\u001b[0;34m\u001b[0m\u001b[0;34m\u001b[0m\u001b[0m\n\u001b[1;32m    710\u001b[0m         \u001b[0;32mtry\u001b[0m\u001b[0;34m:\u001b[0m\u001b[0;34m\u001b[0m\u001b[0;34m\u001b[0m\u001b[0m\n\u001b[0;32m--> 711\u001b[0;31m             \u001b[0;32mreturn\u001b[0m \u001b[0mself\u001b[0m\u001b[0;34m.\u001b[0m\u001b[0m_endpoint\u001b[0m\u001b[0;34m.\u001b[0m\u001b[0mmake_request\u001b[0m\u001b[0;34m(\u001b[0m\u001b[0moperation_model\u001b[0m\u001b[0;34m,\u001b[0m \u001b[0mrequest_dict\u001b[0m\u001b[0;34m)\u001b[0m\u001b[0;34m\u001b[0m\u001b[0;34m\u001b[0m\u001b[0m\n\u001b[0m\u001b[1;32m    712\u001b[0m         \u001b[0;32mexcept\u001b[0m \u001b[0mException\u001b[0m \u001b[0;32mas\u001b[0m \u001b[0me\u001b[0m\u001b[0;34m:\u001b[0m\u001b[0;34m\u001b[0m\u001b[0;34m\u001b[0m\u001b[0m\n\u001b[1;32m    713\u001b[0m             self.meta.events.emit(\n",
            "\u001b[0;32m/usr/local/lib/python3.7/dist-packages/botocore/endpoint.py\u001b[0m in \u001b[0;36mmake_request\u001b[0;34m(self, operation_model, request_dict)\u001b[0m\n\u001b[1;32m    100\u001b[0m         logger.debug(\"Making request for %s with params: %s\",\n\u001b[1;32m    101\u001b[0m                      operation_model, request_dict)\n\u001b[0;32m--> 102\u001b[0;31m         \u001b[0;32mreturn\u001b[0m \u001b[0mself\u001b[0m\u001b[0;34m.\u001b[0m\u001b[0m_send_request\u001b[0m\u001b[0;34m(\u001b[0m\u001b[0mrequest_dict\u001b[0m\u001b[0;34m,\u001b[0m \u001b[0moperation_model\u001b[0m\u001b[0;34m)\u001b[0m\u001b[0;34m\u001b[0m\u001b[0;34m\u001b[0m\u001b[0m\n\u001b[0m\u001b[1;32m    103\u001b[0m \u001b[0;34m\u001b[0m\u001b[0m\n\u001b[1;32m    104\u001b[0m     \u001b[0;32mdef\u001b[0m \u001b[0mcreate_request\u001b[0m\u001b[0;34m(\u001b[0m\u001b[0mself\u001b[0m\u001b[0;34m,\u001b[0m \u001b[0mparams\u001b[0m\u001b[0;34m,\u001b[0m \u001b[0moperation_model\u001b[0m\u001b[0;34m=\u001b[0m\u001b[0;32mNone\u001b[0m\u001b[0;34m)\u001b[0m\u001b[0;34m:\u001b[0m\u001b[0;34m\u001b[0m\u001b[0;34m\u001b[0m\u001b[0m\n",
            "\u001b[0;32m/usr/local/lib/python3.7/dist-packages/botocore/endpoint.py\u001b[0m in \u001b[0;36m_send_request\u001b[0;34m(self, request_dict, operation_model)\u001b[0m\n\u001b[1;32m    133\u001b[0m         \u001b[0mcontext\u001b[0m \u001b[0;34m=\u001b[0m \u001b[0mrequest_dict\u001b[0m\u001b[0;34m[\u001b[0m\u001b[0;34m'context'\u001b[0m\u001b[0;34m]\u001b[0m\u001b[0;34m\u001b[0m\u001b[0;34m\u001b[0m\u001b[0m\n\u001b[1;32m    134\u001b[0m         success_response, exception = self._get_response(\n\u001b[0;32m--> 135\u001b[0;31m             request, operation_model, context)\n\u001b[0m\u001b[1;32m    136\u001b[0m         while self._needs_retry(attempts, operation_model, request_dict,\n\u001b[1;32m    137\u001b[0m                                 success_response, exception):\n",
            "\u001b[0;32m/usr/local/lib/python3.7/dist-packages/botocore/endpoint.py\u001b[0m in \u001b[0;36m_get_response\u001b[0;34m(self, request, operation_model, context)\u001b[0m\n\u001b[1;32m    165\u001b[0m         \u001b[0;31m# If no exception occurs then exception is None.\u001b[0m\u001b[0;34m\u001b[0m\u001b[0;34m\u001b[0m\u001b[0;34m\u001b[0m\u001b[0m\n\u001b[1;32m    166\u001b[0m         success_response, exception = self._do_get_response(\n\u001b[0;32m--> 167\u001b[0;31m             request, operation_model)\n\u001b[0m\u001b[1;32m    168\u001b[0m         kwargs_to_emit = {\n\u001b[1;32m    169\u001b[0m             \u001b[0;34m'response_dict'\u001b[0m\u001b[0;34m:\u001b[0m \u001b[0;32mNone\u001b[0m\u001b[0;34m,\u001b[0m\u001b[0;34m\u001b[0m\u001b[0;34m\u001b[0m\u001b[0m\n",
            "\u001b[0;32m/usr/local/lib/python3.7/dist-packages/botocore/endpoint.py\u001b[0m in \u001b[0;36m_do_get_response\u001b[0;34m(self, request, operation_model)\u001b[0m\n\u001b[1;32m    216\u001b[0m         \u001b[0mparser\u001b[0m \u001b[0;34m=\u001b[0m \u001b[0mself\u001b[0m\u001b[0;34m.\u001b[0m\u001b[0m_response_parser_factory\u001b[0m\u001b[0;34m.\u001b[0m\u001b[0mcreate_parser\u001b[0m\u001b[0;34m(\u001b[0m\u001b[0mprotocol\u001b[0m\u001b[0;34m)\u001b[0m\u001b[0;34m\u001b[0m\u001b[0;34m\u001b[0m\u001b[0m\n\u001b[1;32m    217\u001b[0m         parsed_response = parser.parse(\n\u001b[0;32m--> 218\u001b[0;31m             response_dict, operation_model.output_shape)\n\u001b[0m\u001b[1;32m    219\u001b[0m         \u001b[0;31m# Do a second parsing pass to pick up on any modeled error fields\u001b[0m\u001b[0;34m\u001b[0m\u001b[0;34m\u001b[0m\u001b[0;34m\u001b[0m\u001b[0m\n\u001b[1;32m    220\u001b[0m         \u001b[0;31m# NOTE: Ideally, we would push this down into the parser classes but\u001b[0m\u001b[0;34m\u001b[0m\u001b[0;34m\u001b[0m\u001b[0;34m\u001b[0m\u001b[0m\n",
            "\u001b[0;32m/usr/local/lib/python3.7/dist-packages/botocore/parsers.py\u001b[0m in \u001b[0;36mparse\u001b[0;34m(self, response, shape)\u001b[0m\n\u001b[1;32m    243\u001b[0m                 \u001b[0mparsed\u001b[0m \u001b[0;34m=\u001b[0m \u001b[0mself\u001b[0m\u001b[0;34m.\u001b[0m\u001b[0m_do_error_parse\u001b[0m\u001b[0;34m(\u001b[0m\u001b[0mresponse\u001b[0m\u001b[0;34m,\u001b[0m \u001b[0mshape\u001b[0m\u001b[0;34m)\u001b[0m\u001b[0;34m\u001b[0m\u001b[0;34m\u001b[0m\u001b[0m\n\u001b[1;32m    244\u001b[0m         \u001b[0;32melse\u001b[0m\u001b[0;34m:\u001b[0m\u001b[0;34m\u001b[0m\u001b[0;34m\u001b[0m\u001b[0m\n\u001b[0;32m--> 245\u001b[0;31m             \u001b[0mparsed\u001b[0m \u001b[0;34m=\u001b[0m \u001b[0mself\u001b[0m\u001b[0;34m.\u001b[0m\u001b[0m_do_parse\u001b[0m\u001b[0;34m(\u001b[0m\u001b[0mresponse\u001b[0m\u001b[0;34m,\u001b[0m \u001b[0mshape\u001b[0m\u001b[0;34m)\u001b[0m\u001b[0;34m\u001b[0m\u001b[0;34m\u001b[0m\u001b[0m\n\u001b[0m\u001b[1;32m    246\u001b[0m \u001b[0;34m\u001b[0m\u001b[0m\n\u001b[1;32m    247\u001b[0m         \u001b[0;31m# We don't want to decorate event stream responses with metadata\u001b[0m\u001b[0;34m\u001b[0m\u001b[0;34m\u001b[0m\u001b[0;34m\u001b[0m\u001b[0m\n",
            "\u001b[0;32m/usr/local/lib/python3.7/dist-packages/botocore/parsers.py\u001b[0m in \u001b[0;36m_do_parse\u001b[0;34m(self, response, shape)\u001b[0m\n\u001b[1;32m    811\u001b[0m         final_parsed['ResponseMetadata'] = self._populate_response_metadata(\n\u001b[1;32m    812\u001b[0m             response)\n\u001b[0;32m--> 813\u001b[0;31m         \u001b[0mself\u001b[0m\u001b[0;34m.\u001b[0m\u001b[0m_add_modeled_parse\u001b[0m\u001b[0;34m(\u001b[0m\u001b[0mresponse\u001b[0m\u001b[0;34m,\u001b[0m \u001b[0mshape\u001b[0m\u001b[0;34m,\u001b[0m \u001b[0mfinal_parsed\u001b[0m\u001b[0;34m)\u001b[0m\u001b[0;34m\u001b[0m\u001b[0;34m\u001b[0m\u001b[0m\n\u001b[0m\u001b[1;32m    814\u001b[0m         \u001b[0;32mreturn\u001b[0m \u001b[0mfinal_parsed\u001b[0m\u001b[0;34m\u001b[0m\u001b[0;34m\u001b[0m\u001b[0m\n\u001b[1;32m    815\u001b[0m \u001b[0;34m\u001b[0m\u001b[0m\n",
            "\u001b[0;32m/usr/local/lib/python3.7/dist-packages/botocore/parsers.py\u001b[0m in \u001b[0;36m_add_modeled_parse\u001b[0;34m(self, response, shape, final_parsed)\u001b[0m\n\u001b[1;32m    820\u001b[0m         self._parse_non_payload_attrs(response, shape,\n\u001b[1;32m    821\u001b[0m                                       member_shapes, final_parsed)\n\u001b[0;32m--> 822\u001b[0;31m         \u001b[0mself\u001b[0m\u001b[0;34m.\u001b[0m\u001b[0m_parse_payload\u001b[0m\u001b[0;34m(\u001b[0m\u001b[0mresponse\u001b[0m\u001b[0;34m,\u001b[0m \u001b[0mshape\u001b[0m\u001b[0;34m,\u001b[0m \u001b[0mmember_shapes\u001b[0m\u001b[0;34m,\u001b[0m \u001b[0mfinal_parsed\u001b[0m\u001b[0;34m)\u001b[0m\u001b[0;34m\u001b[0m\u001b[0;34m\u001b[0m\u001b[0m\n\u001b[0m\u001b[1;32m    823\u001b[0m \u001b[0;34m\u001b[0m\u001b[0m\n\u001b[1;32m    824\u001b[0m     \u001b[0;32mdef\u001b[0m \u001b[0m_do_modeled_error_parse\u001b[0m\u001b[0;34m(\u001b[0m\u001b[0mself\u001b[0m\u001b[0;34m,\u001b[0m \u001b[0mresponse\u001b[0m\u001b[0;34m,\u001b[0m \u001b[0mshape\u001b[0m\u001b[0;34m)\u001b[0m\u001b[0;34m:\u001b[0m\u001b[0;34m\u001b[0m\u001b[0;34m\u001b[0m\u001b[0m\n",
            "\u001b[0;32m/usr/local/lib/python3.7/dist-packages/botocore/parsers.py\u001b[0m in \u001b[0;36m_parse_payload\u001b[0;34m(self, response, shape, member_shapes, final_parsed)\u001b[0m\n\u001b[1;32m    861\u001b[0m         \u001b[0;32melse\u001b[0m\u001b[0;34m:\u001b[0m\u001b[0;34m\u001b[0m\u001b[0;34m\u001b[0m\u001b[0m\n\u001b[1;32m    862\u001b[0m             \u001b[0moriginal_parsed\u001b[0m \u001b[0;34m=\u001b[0m \u001b[0mself\u001b[0m\u001b[0;34m.\u001b[0m\u001b[0m_initial_body_parse\u001b[0m\u001b[0;34m(\u001b[0m\u001b[0mresponse\u001b[0m\u001b[0;34m[\u001b[0m\u001b[0;34m'body'\u001b[0m\u001b[0;34m]\u001b[0m\u001b[0;34m)\u001b[0m\u001b[0;34m\u001b[0m\u001b[0;34m\u001b[0m\u001b[0m\n\u001b[0;32m--> 863\u001b[0;31m             \u001b[0mbody_parsed\u001b[0m \u001b[0;34m=\u001b[0m \u001b[0mself\u001b[0m\u001b[0;34m.\u001b[0m\u001b[0m_parse_shape\u001b[0m\u001b[0;34m(\u001b[0m\u001b[0mshape\u001b[0m\u001b[0;34m,\u001b[0m \u001b[0moriginal_parsed\u001b[0m\u001b[0;34m)\u001b[0m\u001b[0;34m\u001b[0m\u001b[0;34m\u001b[0m\u001b[0m\n\u001b[0m\u001b[1;32m    864\u001b[0m             \u001b[0mfinal_parsed\u001b[0m\u001b[0;34m.\u001b[0m\u001b[0mupdate\u001b[0m\u001b[0;34m(\u001b[0m\u001b[0mbody_parsed\u001b[0m\u001b[0;34m)\u001b[0m\u001b[0;34m\u001b[0m\u001b[0;34m\u001b[0m\u001b[0m\n\u001b[1;32m    865\u001b[0m \u001b[0;34m\u001b[0m\u001b[0m\n",
            "\u001b[0;32m/usr/local/lib/python3.7/dist-packages/botocore/parsers.py\u001b[0m in \u001b[0;36m_parse_shape\u001b[0;34m(self, shape, node)\u001b[0m\n\u001b[1;32m    310\u001b[0m         handler = getattr(self, '_handle_%s' % shape.type_name,\n\u001b[1;32m    311\u001b[0m                           self._default_handle)\n\u001b[0;32m--> 312\u001b[0;31m         \u001b[0;32mreturn\u001b[0m \u001b[0mhandler\u001b[0m\u001b[0;34m(\u001b[0m\u001b[0mshape\u001b[0m\u001b[0;34m,\u001b[0m \u001b[0mnode\u001b[0m\u001b[0;34m)\u001b[0m\u001b[0;34m\u001b[0m\u001b[0;34m\u001b[0m\u001b[0m\n\u001b[0m\u001b[1;32m    313\u001b[0m \u001b[0;34m\u001b[0m\u001b[0m\n\u001b[1;32m    314\u001b[0m     \u001b[0;32mdef\u001b[0m \u001b[0m_handle_list\u001b[0m\u001b[0;34m(\u001b[0m\u001b[0mself\u001b[0m\u001b[0;34m,\u001b[0m \u001b[0mshape\u001b[0m\u001b[0;34m,\u001b[0m \u001b[0mnode\u001b[0m\u001b[0;34m)\u001b[0m\u001b[0;34m:\u001b[0m\u001b[0;34m\u001b[0m\u001b[0;34m\u001b[0m\u001b[0m\n",
            "\u001b[0;32m/usr/local/lib/python3.7/dist-packages/botocore/parsers.py\u001b[0m in \u001b[0;36m_handle_structure\u001b[0;34m(self, shape, node)\u001b[0m\n\u001b[1;32m    387\u001b[0m             \u001b[0;32mif\u001b[0m \u001b[0mmember_node\u001b[0m \u001b[0;32mis\u001b[0m \u001b[0;32mnot\u001b[0m \u001b[0;32mNone\u001b[0m\u001b[0;34m:\u001b[0m\u001b[0;34m\u001b[0m\u001b[0;34m\u001b[0m\u001b[0m\n\u001b[1;32m    388\u001b[0m                 parsed[member_name] = self._parse_shape(\n\u001b[0;32m--> 389\u001b[0;31m                     member_shape, member_node)\n\u001b[0m\u001b[1;32m    390\u001b[0m             \u001b[0;32melif\u001b[0m \u001b[0mmember_shape\u001b[0m\u001b[0;34m.\u001b[0m\u001b[0mserialization\u001b[0m\u001b[0;34m.\u001b[0m\u001b[0mget\u001b[0m\u001b[0;34m(\u001b[0m\u001b[0;34m'xmlAttribute'\u001b[0m\u001b[0;34m)\u001b[0m\u001b[0;34m:\u001b[0m\u001b[0;34m\u001b[0m\u001b[0;34m\u001b[0m\u001b[0m\n\u001b[1;32m    391\u001b[0m                 \u001b[0mattribs\u001b[0m \u001b[0;34m=\u001b[0m \u001b[0;34m{\u001b[0m\u001b[0;34m}\u001b[0m\u001b[0;34m\u001b[0m\u001b[0;34m\u001b[0m\u001b[0m\n",
            "\u001b[0;32m/usr/local/lib/python3.7/dist-packages/botocore/parsers.py\u001b[0m in \u001b[0;36m_parse_shape\u001b[0;34m(self, shape, node)\u001b[0m\n\u001b[1;32m    310\u001b[0m         handler = getattr(self, '_handle_%s' % shape.type_name,\n\u001b[1;32m    311\u001b[0m                           self._default_handle)\n\u001b[0;32m--> 312\u001b[0;31m         \u001b[0;32mreturn\u001b[0m \u001b[0mhandler\u001b[0m\u001b[0;34m(\u001b[0m\u001b[0mshape\u001b[0m\u001b[0;34m,\u001b[0m \u001b[0mnode\u001b[0m\u001b[0;34m)\u001b[0m\u001b[0;34m\u001b[0m\u001b[0;34m\u001b[0m\u001b[0m\n\u001b[0m\u001b[1;32m    313\u001b[0m \u001b[0;34m\u001b[0m\u001b[0m\n\u001b[1;32m    314\u001b[0m     \u001b[0;32mdef\u001b[0m \u001b[0m_handle_list\u001b[0m\u001b[0;34m(\u001b[0m\u001b[0mself\u001b[0m\u001b[0;34m,\u001b[0m \u001b[0mshape\u001b[0m\u001b[0;34m,\u001b[0m \u001b[0mnode\u001b[0m\u001b[0;34m)\u001b[0m\u001b[0;34m:\u001b[0m\u001b[0;34m\u001b[0m\u001b[0;34m\u001b[0m\u001b[0m\n",
            "\u001b[0;32m/usr/local/lib/python3.7/dist-packages/botocore/parsers.py\u001b[0m in \u001b[0;36m_handle_list\u001b[0;34m(self, shape, node)\u001b[0m\n\u001b[1;32m    368\u001b[0m         \u001b[0;32mif\u001b[0m \u001b[0mshape\u001b[0m\u001b[0;34m.\u001b[0m\u001b[0mserialization\u001b[0m\u001b[0;34m.\u001b[0m\u001b[0mget\u001b[0m\u001b[0;34m(\u001b[0m\u001b[0;34m'flattened'\u001b[0m\u001b[0;34m)\u001b[0m \u001b[0;32mand\u001b[0m \u001b[0;32mnot\u001b[0m \u001b[0misinstance\u001b[0m\u001b[0;34m(\u001b[0m\u001b[0mnode\u001b[0m\u001b[0;34m,\u001b[0m \u001b[0mlist\u001b[0m\u001b[0;34m)\u001b[0m\u001b[0;34m:\u001b[0m\u001b[0;34m\u001b[0m\u001b[0;34m\u001b[0m\u001b[0m\n\u001b[1;32m    369\u001b[0m             \u001b[0mnode\u001b[0m \u001b[0;34m=\u001b[0m \u001b[0;34m[\u001b[0m\u001b[0mnode\u001b[0m\u001b[0;34m]\u001b[0m\u001b[0;34m\u001b[0m\u001b[0;34m\u001b[0m\u001b[0m\n\u001b[0;32m--> 370\u001b[0;31m         \u001b[0;32mreturn\u001b[0m \u001b[0msuper\u001b[0m\u001b[0;34m(\u001b[0m\u001b[0mBaseXMLResponseParser\u001b[0m\u001b[0;34m,\u001b[0m \u001b[0mself\u001b[0m\u001b[0;34m)\u001b[0m\u001b[0;34m.\u001b[0m\u001b[0m_handle_list\u001b[0m\u001b[0;34m(\u001b[0m\u001b[0mshape\u001b[0m\u001b[0;34m,\u001b[0m \u001b[0mnode\u001b[0m\u001b[0;34m)\u001b[0m\u001b[0;34m\u001b[0m\u001b[0;34m\u001b[0m\u001b[0m\n\u001b[0m\u001b[1;32m    371\u001b[0m \u001b[0;34m\u001b[0m\u001b[0m\n\u001b[1;32m    372\u001b[0m     \u001b[0;32mdef\u001b[0m \u001b[0m_handle_structure\u001b[0m\u001b[0;34m(\u001b[0m\u001b[0mself\u001b[0m\u001b[0;34m,\u001b[0m \u001b[0mshape\u001b[0m\u001b[0;34m,\u001b[0m \u001b[0mnode\u001b[0m\u001b[0;34m)\u001b[0m\u001b[0;34m:\u001b[0m\u001b[0;34m\u001b[0m\u001b[0;34m\u001b[0m\u001b[0m\n",
            "\u001b[0;32m/usr/local/lib/python3.7/dist-packages/botocore/parsers.py\u001b[0m in \u001b[0;36m_handle_list\u001b[0;34m(self, shape, node)\u001b[0m\n\u001b[1;32m    318\u001b[0m         \u001b[0mmember_shape\u001b[0m \u001b[0;34m=\u001b[0m \u001b[0mshape\u001b[0m\u001b[0;34m.\u001b[0m\u001b[0mmember\u001b[0m\u001b[0;34m\u001b[0m\u001b[0;34m\u001b[0m\u001b[0m\n\u001b[1;32m    319\u001b[0m         \u001b[0;32mfor\u001b[0m \u001b[0mitem\u001b[0m \u001b[0;32min\u001b[0m \u001b[0mnode\u001b[0m\u001b[0;34m:\u001b[0m\u001b[0;34m\u001b[0m\u001b[0;34m\u001b[0m\u001b[0m\n\u001b[0;32m--> 320\u001b[0;31m             \u001b[0mparsed\u001b[0m\u001b[0;34m.\u001b[0m\u001b[0mappend\u001b[0m\u001b[0;34m(\u001b[0m\u001b[0mself\u001b[0m\u001b[0;34m.\u001b[0m\u001b[0m_parse_shape\u001b[0m\u001b[0;34m(\u001b[0m\u001b[0mmember_shape\u001b[0m\u001b[0;34m,\u001b[0m \u001b[0mitem\u001b[0m\u001b[0;34m)\u001b[0m\u001b[0;34m)\u001b[0m\u001b[0;34m\u001b[0m\u001b[0;34m\u001b[0m\u001b[0m\n\u001b[0m\u001b[1;32m    321\u001b[0m         \u001b[0;32mreturn\u001b[0m \u001b[0mparsed\u001b[0m\u001b[0;34m\u001b[0m\u001b[0;34m\u001b[0m\u001b[0m\n\u001b[1;32m    322\u001b[0m \u001b[0;34m\u001b[0m\u001b[0m\n",
            "\u001b[0;32m/usr/local/lib/python3.7/dist-packages/botocore/parsers.py\u001b[0m in \u001b[0;36m_parse_shape\u001b[0;34m(self, shape, node)\u001b[0m\n\u001b[1;32m    310\u001b[0m         handler = getattr(self, '_handle_%s' % shape.type_name,\n\u001b[1;32m    311\u001b[0m                           self._default_handle)\n\u001b[0;32m--> 312\u001b[0;31m         \u001b[0;32mreturn\u001b[0m \u001b[0mhandler\u001b[0m\u001b[0;34m(\u001b[0m\u001b[0mshape\u001b[0m\u001b[0;34m,\u001b[0m \u001b[0mnode\u001b[0m\u001b[0;34m)\u001b[0m\u001b[0;34m\u001b[0m\u001b[0;34m\u001b[0m\u001b[0m\n\u001b[0m\u001b[1;32m    313\u001b[0m \u001b[0;34m\u001b[0m\u001b[0m\n\u001b[1;32m    314\u001b[0m     \u001b[0;32mdef\u001b[0m \u001b[0m_handle_list\u001b[0m\u001b[0;34m(\u001b[0m\u001b[0mself\u001b[0m\u001b[0;34m,\u001b[0m \u001b[0mshape\u001b[0m\u001b[0;34m,\u001b[0m \u001b[0mnode\u001b[0m\u001b[0;34m)\u001b[0m\u001b[0;34m:\u001b[0m\u001b[0;34m\u001b[0m\u001b[0;34m\u001b[0m\u001b[0m\n",
            "\u001b[0;32m/usr/local/lib/python3.7/dist-packages/botocore/parsers.py\u001b[0m in \u001b[0;36m_handle_structure\u001b[0;34m(self, shape, node)\u001b[0m\n\u001b[1;32m    387\u001b[0m             \u001b[0;32mif\u001b[0m \u001b[0mmember_node\u001b[0m \u001b[0;32mis\u001b[0m \u001b[0;32mnot\u001b[0m \u001b[0;32mNone\u001b[0m\u001b[0;34m:\u001b[0m\u001b[0;34m\u001b[0m\u001b[0;34m\u001b[0m\u001b[0m\n\u001b[1;32m    388\u001b[0m                 parsed[member_name] = self._parse_shape(\n\u001b[0;32m--> 389\u001b[0;31m                     member_shape, member_node)\n\u001b[0m\u001b[1;32m    390\u001b[0m             \u001b[0;32melif\u001b[0m \u001b[0mmember_shape\u001b[0m\u001b[0;34m.\u001b[0m\u001b[0mserialization\u001b[0m\u001b[0;34m.\u001b[0m\u001b[0mget\u001b[0m\u001b[0;34m(\u001b[0m\u001b[0;34m'xmlAttribute'\u001b[0m\u001b[0;34m)\u001b[0m\u001b[0;34m:\u001b[0m\u001b[0;34m\u001b[0m\u001b[0;34m\u001b[0m\u001b[0m\n\u001b[1;32m    391\u001b[0m                 \u001b[0mattribs\u001b[0m \u001b[0;34m=\u001b[0m \u001b[0;34m{\u001b[0m\u001b[0;34m}\u001b[0m\u001b[0;34m\u001b[0m\u001b[0;34m\u001b[0m\u001b[0m\n",
            "\u001b[0;32m/usr/local/lib/python3.7/dist-packages/botocore/parsers.py\u001b[0m in \u001b[0;36m_parse_shape\u001b[0;34m(self, shape, node)\u001b[0m\n\u001b[1;32m    310\u001b[0m         handler = getattr(self, '_handle_%s' % shape.type_name,\n\u001b[1;32m    311\u001b[0m                           self._default_handle)\n\u001b[0;32m--> 312\u001b[0;31m         \u001b[0;32mreturn\u001b[0m \u001b[0mhandler\u001b[0m\u001b[0;34m(\u001b[0m\u001b[0mshape\u001b[0m\u001b[0;34m,\u001b[0m \u001b[0mnode\u001b[0m\u001b[0;34m)\u001b[0m\u001b[0;34m\u001b[0m\u001b[0;34m\u001b[0m\u001b[0m\n\u001b[0m\u001b[1;32m    313\u001b[0m \u001b[0;34m\u001b[0m\u001b[0m\n\u001b[1;32m    314\u001b[0m     \u001b[0;32mdef\u001b[0m \u001b[0m_handle_list\u001b[0m\u001b[0;34m(\u001b[0m\u001b[0mself\u001b[0m\u001b[0;34m,\u001b[0m \u001b[0mshape\u001b[0m\u001b[0;34m,\u001b[0m \u001b[0mnode\u001b[0m\u001b[0;34m)\u001b[0m\u001b[0;34m:\u001b[0m\u001b[0;34m\u001b[0m\u001b[0;34m\u001b[0m\u001b[0m\n",
            "\u001b[0;32m/usr/local/lib/python3.7/dist-packages/botocore/parsers.py\u001b[0m in \u001b[0;36m_get_text_content\u001b[0;34m(self, shape, node_or_string)\u001b[0m\n\u001b[1;32m    172\u001b[0m         \u001b[0;32melse\u001b[0m\u001b[0;34m:\u001b[0m\u001b[0;34m\u001b[0m\u001b[0;34m\u001b[0m\u001b[0m\n\u001b[1;32m    173\u001b[0m             \u001b[0mtext\u001b[0m \u001b[0;34m=\u001b[0m \u001b[0mnode_or_string\u001b[0m\u001b[0;34m\u001b[0m\u001b[0;34m\u001b[0m\u001b[0m\n\u001b[0;32m--> 174\u001b[0;31m         \u001b[0;32mreturn\u001b[0m \u001b[0mfunc\u001b[0m\u001b[0;34m(\u001b[0m\u001b[0mself\u001b[0m\u001b[0;34m,\u001b[0m \u001b[0mshape\u001b[0m\u001b[0;34m,\u001b[0m \u001b[0mtext\u001b[0m\u001b[0;34m)\u001b[0m\u001b[0;34m\u001b[0m\u001b[0;34m\u001b[0m\u001b[0m\n\u001b[0m\u001b[1;32m    175\u001b[0m     \u001b[0;32mreturn\u001b[0m \u001b[0m_get_text_content\u001b[0m\u001b[0;34m\u001b[0m\u001b[0;34m\u001b[0m\u001b[0m\n\u001b[1;32m    176\u001b[0m \u001b[0;34m\u001b[0m\u001b[0m\n",
            "\u001b[0;32m/usr/local/lib/python3.7/dist-packages/botocore/parsers.py\u001b[0m in \u001b[0;36m_handle_timestamp\u001b[0;34m(self, shape, text)\u001b[0m\n\u001b[1;32m    480\u001b[0m     \u001b[0;34m@\u001b[0m\u001b[0m_text_content\u001b[0m\u001b[0;34m\u001b[0m\u001b[0;34m\u001b[0m\u001b[0m\n\u001b[1;32m    481\u001b[0m     \u001b[0;32mdef\u001b[0m \u001b[0m_handle_timestamp\u001b[0m\u001b[0;34m(\u001b[0m\u001b[0mself\u001b[0m\u001b[0;34m,\u001b[0m \u001b[0mshape\u001b[0m\u001b[0;34m,\u001b[0m \u001b[0mtext\u001b[0m\u001b[0;34m)\u001b[0m\u001b[0;34m:\u001b[0m\u001b[0;34m\u001b[0m\u001b[0;34m\u001b[0m\u001b[0m\n\u001b[0;32m--> 482\u001b[0;31m         \u001b[0;32mreturn\u001b[0m \u001b[0mself\u001b[0m\u001b[0;34m.\u001b[0m\u001b[0m_timestamp_parser\u001b[0m\u001b[0;34m(\u001b[0m\u001b[0mtext\u001b[0m\u001b[0;34m)\u001b[0m\u001b[0;34m\u001b[0m\u001b[0;34m\u001b[0m\u001b[0m\n\u001b[0m\u001b[1;32m    483\u001b[0m \u001b[0;34m\u001b[0m\u001b[0m\n\u001b[1;32m    484\u001b[0m     \u001b[0;34m@\u001b[0m\u001b[0m_text_content\u001b[0m\u001b[0;34m\u001b[0m\u001b[0;34m\u001b[0m\u001b[0m\n",
            "\u001b[0;32m/usr/local/lib/python3.7/dist-packages/botocore/utils.py\u001b[0m in \u001b[0;36mparse_timestamp\u001b[0;34m(value)\u001b[0m\n\u001b[1;32m    738\u001b[0m     \u001b[0;32mfor\u001b[0m \u001b[0mtzinfo\u001b[0m \u001b[0;32min\u001b[0m \u001b[0mget_tzinfo_options\u001b[0m\u001b[0;34m(\u001b[0m\u001b[0;34m)\u001b[0m\u001b[0;34m:\u001b[0m\u001b[0;34m\u001b[0m\u001b[0;34m\u001b[0m\u001b[0m\n\u001b[1;32m    739\u001b[0m         \u001b[0;32mtry\u001b[0m\u001b[0;34m:\u001b[0m\u001b[0;34m\u001b[0m\u001b[0;34m\u001b[0m\u001b[0m\n\u001b[0;32m--> 740\u001b[0;31m             \u001b[0;32mreturn\u001b[0m \u001b[0m_parse_timestamp_with_tzinfo\u001b[0m\u001b[0;34m(\u001b[0m\u001b[0mvalue\u001b[0m\u001b[0;34m,\u001b[0m \u001b[0mtzinfo\u001b[0m\u001b[0;34m)\u001b[0m\u001b[0;34m\u001b[0m\u001b[0;34m\u001b[0m\u001b[0m\n\u001b[0m\u001b[1;32m    741\u001b[0m         \u001b[0;32mexcept\u001b[0m \u001b[0mOSError\u001b[0m \u001b[0;32mas\u001b[0m \u001b[0me\u001b[0m\u001b[0;34m:\u001b[0m\u001b[0;34m\u001b[0m\u001b[0;34m\u001b[0m\u001b[0m\n\u001b[1;32m    742\u001b[0m             logger.debug('Unable to parse timestamp with \"%s\" timezone info.',\n",
            "\u001b[0;32m/usr/local/lib/python3.7/dist-packages/botocore/utils.py\u001b[0m in \u001b[0;36m_parse_timestamp_with_tzinfo\u001b[0;34m(value, tzinfo)\u001b[0m\n\u001b[1;32m    719\u001b[0m         \u001b[0;31m# different time zone, so here we provide a context which will\u001b[0m\u001b[0;34m\u001b[0m\u001b[0;34m\u001b[0m\u001b[0;34m\u001b[0m\u001b[0m\n\u001b[1;32m    720\u001b[0m         \u001b[0;31m# enforce that GMT == UTC.\u001b[0m\u001b[0;34m\u001b[0m\u001b[0;34m\u001b[0m\u001b[0;34m\u001b[0m\u001b[0m\n\u001b[0;32m--> 721\u001b[0;31m         \u001b[0;32mreturn\u001b[0m \u001b[0mdateutil\u001b[0m\u001b[0;34m.\u001b[0m\u001b[0mparser\u001b[0m\u001b[0;34m.\u001b[0m\u001b[0mparse\u001b[0m\u001b[0;34m(\u001b[0m\u001b[0mvalue\u001b[0m\u001b[0;34m,\u001b[0m \u001b[0mtzinfos\u001b[0m\u001b[0;34m=\u001b[0m\u001b[0;34m{\u001b[0m\u001b[0;34m'GMT'\u001b[0m\u001b[0;34m:\u001b[0m \u001b[0mtzutc\u001b[0m\u001b[0;34m(\u001b[0m\u001b[0;34m)\u001b[0m\u001b[0;34m}\u001b[0m\u001b[0;34m)\u001b[0m\u001b[0;34m\u001b[0m\u001b[0;34m\u001b[0m\u001b[0m\n\u001b[0m\u001b[1;32m    722\u001b[0m     \u001b[0;32mexcept\u001b[0m \u001b[0;34m(\u001b[0m\u001b[0mTypeError\u001b[0m\u001b[0;34m,\u001b[0m \u001b[0mValueError\u001b[0m\u001b[0;34m)\u001b[0m \u001b[0;32mas\u001b[0m \u001b[0me\u001b[0m\u001b[0;34m:\u001b[0m\u001b[0;34m\u001b[0m\u001b[0;34m\u001b[0m\u001b[0m\n\u001b[1;32m    723\u001b[0m         \u001b[0;32mraise\u001b[0m \u001b[0mValueError\u001b[0m\u001b[0;34m(\u001b[0m\u001b[0;34m'Invalid timestamp \"%s\": %s'\u001b[0m \u001b[0;34m%\u001b[0m \u001b[0;34m(\u001b[0m\u001b[0mvalue\u001b[0m\u001b[0;34m,\u001b[0m \u001b[0me\u001b[0m\u001b[0;34m)\u001b[0m\u001b[0;34m)\u001b[0m\u001b[0;34m\u001b[0m\u001b[0;34m\u001b[0m\u001b[0m\n",
            "\u001b[0;32m/usr/local/lib/python3.7/dist-packages/dateutil/parser/_parser.py\u001b[0m in \u001b[0;36mparse\u001b[0;34m(timestr, parserinfo, **kwargs)\u001b[0m\n\u001b[1;32m   1366\u001b[0m         \u001b[0;32mreturn\u001b[0m \u001b[0mparser\u001b[0m\u001b[0;34m(\u001b[0m\u001b[0mparserinfo\u001b[0m\u001b[0;34m)\u001b[0m\u001b[0;34m.\u001b[0m\u001b[0mparse\u001b[0m\u001b[0;34m(\u001b[0m\u001b[0mtimestr\u001b[0m\u001b[0;34m,\u001b[0m \u001b[0;34m**\u001b[0m\u001b[0mkwargs\u001b[0m\u001b[0;34m)\u001b[0m\u001b[0;34m\u001b[0m\u001b[0;34m\u001b[0m\u001b[0m\n\u001b[1;32m   1367\u001b[0m     \u001b[0;32melse\u001b[0m\u001b[0;34m:\u001b[0m\u001b[0;34m\u001b[0m\u001b[0;34m\u001b[0m\u001b[0m\n\u001b[0;32m-> 1368\u001b[0;31m         \u001b[0;32mreturn\u001b[0m \u001b[0mDEFAULTPARSER\u001b[0m\u001b[0;34m.\u001b[0m\u001b[0mparse\u001b[0m\u001b[0;34m(\u001b[0m\u001b[0mtimestr\u001b[0m\u001b[0;34m,\u001b[0m \u001b[0;34m**\u001b[0m\u001b[0mkwargs\u001b[0m\u001b[0;34m)\u001b[0m\u001b[0;34m\u001b[0m\u001b[0;34m\u001b[0m\u001b[0m\n\u001b[0m\u001b[1;32m   1369\u001b[0m \u001b[0;34m\u001b[0m\u001b[0m\n\u001b[1;32m   1370\u001b[0m \u001b[0;34m\u001b[0m\u001b[0m\n",
            "\u001b[0;32m/usr/local/lib/python3.7/dist-packages/dateutil/parser/_parser.py\u001b[0m in \u001b[0;36mparse\u001b[0;34m(self, timestr, default, ignoretz, tzinfos, **kwargs)\u001b[0m\n\u001b[1;32m    638\u001b[0m                                                       second=0, microsecond=0)\n\u001b[1;32m    639\u001b[0m \u001b[0;34m\u001b[0m\u001b[0m\n\u001b[0;32m--> 640\u001b[0;31m         \u001b[0mres\u001b[0m\u001b[0;34m,\u001b[0m \u001b[0mskipped_tokens\u001b[0m \u001b[0;34m=\u001b[0m \u001b[0mself\u001b[0m\u001b[0;34m.\u001b[0m\u001b[0m_parse\u001b[0m\u001b[0;34m(\u001b[0m\u001b[0mtimestr\u001b[0m\u001b[0;34m,\u001b[0m \u001b[0;34m**\u001b[0m\u001b[0mkwargs\u001b[0m\u001b[0;34m)\u001b[0m\u001b[0;34m\u001b[0m\u001b[0;34m\u001b[0m\u001b[0m\n\u001b[0m\u001b[1;32m    641\u001b[0m \u001b[0;34m\u001b[0m\u001b[0m\n\u001b[1;32m    642\u001b[0m         \u001b[0;32mif\u001b[0m \u001b[0mres\u001b[0m \u001b[0;32mis\u001b[0m \u001b[0;32mNone\u001b[0m\u001b[0;34m:\u001b[0m\u001b[0;34m\u001b[0m\u001b[0;34m\u001b[0m\u001b[0m\n",
            "\u001b[0;32m/usr/local/lib/python3.7/dist-packages/dateutil/parser/_parser.py\u001b[0m in \u001b[0;36m_parse\u001b[0;34m(self, timestr, dayfirst, yearfirst, fuzzy, fuzzy_with_tokens)\u001b[0m\n\u001b[1;32m    717\u001b[0m \u001b[0;34m\u001b[0m\u001b[0m\n\u001b[1;32m    718\u001b[0m         \u001b[0mres\u001b[0m \u001b[0;34m=\u001b[0m \u001b[0mself\u001b[0m\u001b[0;34m.\u001b[0m\u001b[0m_result\u001b[0m\u001b[0;34m(\u001b[0m\u001b[0;34m)\u001b[0m\u001b[0;34m\u001b[0m\u001b[0;34m\u001b[0m\u001b[0m\n\u001b[0;32m--> 719\u001b[0;31m         \u001b[0ml\u001b[0m \u001b[0;34m=\u001b[0m \u001b[0m_timelex\u001b[0m\u001b[0;34m.\u001b[0m\u001b[0msplit\u001b[0m\u001b[0;34m(\u001b[0m\u001b[0mtimestr\u001b[0m\u001b[0;34m)\u001b[0m         \u001b[0;31m# Splits the timestr into tokens\u001b[0m\u001b[0;34m\u001b[0m\u001b[0;34m\u001b[0m\u001b[0m\n\u001b[0m\u001b[1;32m    720\u001b[0m \u001b[0;34m\u001b[0m\u001b[0m\n\u001b[1;32m    721\u001b[0m         \u001b[0mskipped_idxs\u001b[0m \u001b[0;34m=\u001b[0m \u001b[0;34m[\u001b[0m\u001b[0;34m]\u001b[0m\u001b[0;34m\u001b[0m\u001b[0;34m\u001b[0m\u001b[0m\n",
            "\u001b[0;32m/usr/local/lib/python3.7/dist-packages/dateutil/parser/_parser.py\u001b[0m in \u001b[0;36msplit\u001b[0;34m(cls, s)\u001b[0m\n\u001b[1;32m    199\u001b[0m     \u001b[0;34m@\u001b[0m\u001b[0mclassmethod\u001b[0m\u001b[0;34m\u001b[0m\u001b[0;34m\u001b[0m\u001b[0m\n\u001b[1;32m    200\u001b[0m     \u001b[0;32mdef\u001b[0m \u001b[0msplit\u001b[0m\u001b[0;34m(\u001b[0m\u001b[0mcls\u001b[0m\u001b[0;34m,\u001b[0m \u001b[0ms\u001b[0m\u001b[0;34m)\u001b[0m\u001b[0;34m:\u001b[0m\u001b[0;34m\u001b[0m\u001b[0;34m\u001b[0m\u001b[0m\n\u001b[0;32m--> 201\u001b[0;31m         \u001b[0;32mreturn\u001b[0m \u001b[0mlist\u001b[0m\u001b[0;34m(\u001b[0m\u001b[0mcls\u001b[0m\u001b[0;34m(\u001b[0m\u001b[0ms\u001b[0m\u001b[0;34m)\u001b[0m\u001b[0;34m)\u001b[0m\u001b[0;34m\u001b[0m\u001b[0;34m\u001b[0m\u001b[0m\n\u001b[0m\u001b[1;32m    202\u001b[0m \u001b[0;34m\u001b[0m\u001b[0m\n\u001b[1;32m    203\u001b[0m     \u001b[0;34m@\u001b[0m\u001b[0mclassmethod\u001b[0m\u001b[0;34m\u001b[0m\u001b[0;34m\u001b[0m\u001b[0m\n",
            "\u001b[0;32m/usr/local/lib/python3.7/dist-packages/dateutil/parser/_parser.py\u001b[0m in \u001b[0;36m__next__\u001b[0;34m(self)\u001b[0m\n\u001b[1;32m    188\u001b[0m \u001b[0;34m\u001b[0m\u001b[0m\n\u001b[1;32m    189\u001b[0m     \u001b[0;32mdef\u001b[0m \u001b[0m__next__\u001b[0m\u001b[0;34m(\u001b[0m\u001b[0mself\u001b[0m\u001b[0;34m)\u001b[0m\u001b[0;34m:\u001b[0m\u001b[0;34m\u001b[0m\u001b[0;34m\u001b[0m\u001b[0m\n\u001b[0;32m--> 190\u001b[0;31m         \u001b[0mtoken\u001b[0m \u001b[0;34m=\u001b[0m \u001b[0mself\u001b[0m\u001b[0;34m.\u001b[0m\u001b[0mget_token\u001b[0m\u001b[0;34m(\u001b[0m\u001b[0;34m)\u001b[0m\u001b[0;34m\u001b[0m\u001b[0;34m\u001b[0m\u001b[0m\n\u001b[0m\u001b[1;32m    191\u001b[0m         \u001b[0;32mif\u001b[0m \u001b[0mtoken\u001b[0m \u001b[0;32mis\u001b[0m \u001b[0;32mNone\u001b[0m\u001b[0;34m:\u001b[0m\u001b[0;34m\u001b[0m\u001b[0;34m\u001b[0m\u001b[0m\n\u001b[1;32m    192\u001b[0m             \u001b[0;32mraise\u001b[0m \u001b[0mStopIteration\u001b[0m\u001b[0;34m\u001b[0m\u001b[0;34m\u001b[0m\u001b[0m\n",
            "\u001b[0;32m/usr/local/lib/python3.7/dist-packages/dateutil/parser/_parser.py\u001b[0m in \u001b[0;36mget_token\u001b[0;34m(self)\u001b[0m\n\u001b[1;32m    115\u001b[0m                 \u001b[0;31m# to parse a word, a number or something else.\u001b[0m\u001b[0;34m\u001b[0m\u001b[0;34m\u001b[0m\u001b[0;34m\u001b[0m\u001b[0m\n\u001b[1;32m    116\u001b[0m                 \u001b[0mtoken\u001b[0m \u001b[0;34m=\u001b[0m \u001b[0mnextchar\u001b[0m\u001b[0;34m\u001b[0m\u001b[0;34m\u001b[0m\u001b[0m\n\u001b[0;32m--> 117\u001b[0;31m                 \u001b[0;32mif\u001b[0m \u001b[0mself\u001b[0m\u001b[0;34m.\u001b[0m\u001b[0misword\u001b[0m\u001b[0;34m(\u001b[0m\u001b[0mnextchar\u001b[0m\u001b[0;34m)\u001b[0m\u001b[0;34m:\u001b[0m\u001b[0;34m\u001b[0m\u001b[0;34m\u001b[0m\u001b[0m\n\u001b[0m\u001b[1;32m    118\u001b[0m                     \u001b[0mstate\u001b[0m \u001b[0;34m=\u001b[0m \u001b[0;34m'a'\u001b[0m\u001b[0;34m\u001b[0m\u001b[0;34m\u001b[0m\u001b[0m\n\u001b[1;32m    119\u001b[0m                 \u001b[0;32melif\u001b[0m \u001b[0mself\u001b[0m\u001b[0;34m.\u001b[0m\u001b[0misnum\u001b[0m\u001b[0;34m(\u001b[0m\u001b[0mnextchar\u001b[0m\u001b[0;34m)\u001b[0m\u001b[0;34m:\u001b[0m\u001b[0;34m\u001b[0m\u001b[0;34m\u001b[0m\u001b[0m\n",
            "\u001b[0;32m/usr/local/lib/python3.7/dist-packages/dateutil/parser/_parser.py\u001b[0m in \u001b[0;36misword\u001b[0;34m(cls, nextchar)\u001b[0m\n\u001b[1;32m    204\u001b[0m     \u001b[0;32mdef\u001b[0m \u001b[0misword\u001b[0m\u001b[0;34m(\u001b[0m\u001b[0mcls\u001b[0m\u001b[0;34m,\u001b[0m \u001b[0mnextchar\u001b[0m\u001b[0;34m)\u001b[0m\u001b[0;34m:\u001b[0m\u001b[0;34m\u001b[0m\u001b[0;34m\u001b[0m\u001b[0m\n\u001b[1;32m    205\u001b[0m         \u001b[0;34m\"\"\" Whether or not the next character is part of a word \"\"\"\u001b[0m\u001b[0;34m\u001b[0m\u001b[0;34m\u001b[0m\u001b[0m\n\u001b[0;32m--> 206\u001b[0;31m         \u001b[0;32mreturn\u001b[0m \u001b[0mnextchar\u001b[0m\u001b[0;34m.\u001b[0m\u001b[0misalpha\u001b[0m\u001b[0;34m(\u001b[0m\u001b[0;34m)\u001b[0m\u001b[0;34m\u001b[0m\u001b[0;34m\u001b[0m\u001b[0m\n\u001b[0m\u001b[1;32m    207\u001b[0m \u001b[0;34m\u001b[0m\u001b[0m\n\u001b[1;32m    208\u001b[0m     \u001b[0;34m@\u001b[0m\u001b[0mclassmethod\u001b[0m\u001b[0;34m\u001b[0m\u001b[0;34m\u001b[0m\u001b[0m\n",
            "\u001b[0;31mKeyboardInterrupt\u001b[0m: "
          ]
        }
      ]
    },
    {
      "cell_type": "code",
      "metadata": {
        "id": "_XFXkroM1tgk"
      },
      "source": [
        "s3 = boto3.resource('s3', aws_access_key_id=access_Key, aws_secret_access_key=secret_Access_Key)\n",
        "\n",
        "my_bucket = s3.Bucket('dogshelterimgs')\n",
        "listofactualfilenames = [img.key for img in my_bucket.objects.filter(Prefix='allimgs/')]"
      ],
      "execution_count": null,
      "outputs": []
    },
    {
      "cell_type": "code",
      "metadata": {
        "id": "M9GorlrnwarY"
      },
      "source": [
        "list1 = ['allimgs/' + name for name in traindf['full_filename'].unique()]\n",
        "list2 = ['allimgs/' + name for name in valdf['full_filename'].unique()]\n",
        "list3 = ['allimgs/' + name for name in testdf['full_filename'].unique()]\n",
        "listofdffilenames = list1 + list2 + list3 "
      ],
      "execution_count": null,
      "outputs": []
    },
    {
      "cell_type": "code",
      "metadata": {
        "id": "bjSXFuoB2zNV"
      },
      "source": [
        "problems = set(listofdffilenames)-set(listofactualfilenames)"
      ],
      "execution_count": null,
      "outputs": []
    },
    {
      "cell_type": "code",
      "metadata": {
        "id": "vxZ-V7Td8fBI"
      },
      "source": [
        "traindf.to_csv('traindff.csv')\n",
        "valdf.to_csv('valdff.csv')\n",
        "testdf.to_csv('testdff.csv')"
      ],
      "execution_count": null,
      "outputs": []
    },
    {
      "cell_type": "code",
      "metadata": {
        "id": "tanTeDem3Jr3"
      },
      "source": [
        "nonjpg = [files for files in listofactualfilenames if files[-3:] != 'jpg']"
      ],
      "execution_count": null,
      "outputs": []
    },
    {
      "cell_type": "code",
      "metadata": {
        "id": "LJFP58eN3ym6"
      },
      "source": [
        "cutnonjpg = [name[name.find('/')+1:] for name in nonjpg]\n",
        "cutnonjpg = [name[0:-4] for name in cutnonjpg]\n",
        "\n",
        "problemscut = [name[name.find('/')+1:] for name in problems]\n",
        "problemscut = [name[0:-4] for name in problemscut]\n"
      ],
      "execution_count": null,
      "outputs": []
    },
    {
      "cell_type": "code",
      "metadata": {
        "id": "AODX3qhi5EkO"
      },
      "source": [
        "actualproblems = set(problemscut)-set(cutnonjpg)"
      ],
      "execution_count": null,
      "outputs": []
    },
    {
      "cell_type": "code",
      "metadata": {
        "id": "Ei8-wvZM5laf"
      },
      "source": [
        "colstoswitch = [name for name in problemscut if name in cutnonjpg]"
      ],
      "execution_count": null,
      "outputs": []
    },
    {
      "cell_type": "code",
      "metadata": {
        "id": "857zWfZO5mSy"
      },
      "source": [
        "dictswtich = {name+'.jpg':name+'.png' for name in colstoswitch}"
      ],
      "execution_count": null,
      "outputs": []
    },
    {
      "cell_type": "code",
      "metadata": {
        "colab": {
          "base_uri": "https://localhost:8080/"
        },
        "id": "GGS-duBS61iK",
        "outputId": "74b2ee6b-7418-4b80-d2f3-715d256061d5"
      },
      "source": [
        "list(dictswtich.keys())"
      ],
      "execution_count": null,
      "outputs": [
        {
          "output_type": "execute_result",
          "data": {
            "text/plain": [
              "['American-Pit-Bull-Terrier/74789.jpg',\n",
              " 'American-Pit-Bull-Terrier/74784.jpg',\n",
              " 'American-Pit-Bull-Terrier/74791.jpg',\n",
              " 'American-Pit-Bull-Terrier/74783.jpg',\n",
              " 'Siberian-Husky/78188.jpg',\n",
              " 'Hound/76614.jpg',\n",
              " 'Mixed-Breed/76359.jpg',\n",
              " 'Chihuahua/78546.jpg',\n",
              " 'Fox-Terrier/74799.jpg',\n",
              " 'Terrier/75554.jpg',\n",
              " 'Chihuahua/76129.jpg',\n",
              " 'Chihuahua/78547.jpg',\n",
              " 'Labrador-Retriever/78543.jpg',\n",
              " 'American-Pit-Bull-Terrier/74780.jpg',\n",
              " 'Terrier/76628.jpg',\n",
              " 'Chihuahua/78548.jpg',\n",
              " 'Chihuahua/78545.jpg',\n",
              " 'Australian-Cattle-Dog-Blue-Heeler/74755.jpg',\n",
              " 'American-Pit-Bull-Terrier/74779.jpg',\n",
              " 'Labrador-Retriever/78544.jpg',\n",
              " 'American-Pit-Bull-Terrier/76212.jpg',\n",
              " 'American-Pit-Bull-Terrier/74790.jpg',\n",
              " 'Labrador-Retriever/76633.jpg',\n",
              " 'American-Pit-Bull-Terrier/74788.jpg',\n",
              " 'Mixed-Breed/76357.jpg',\n",
              " 'Labrador-Retriever/76603.jpg',\n",
              " 'Anatolian-Shepherd/76382.jpg',\n",
              " 'American-Pit-Bull-Terrier/74787.jpg',\n",
              " 'American-Pit-Bull-Terrier/74785.jpg',\n",
              " 'American-Pit-Bull-Terrier/76216.jpg',\n",
              " 'American-Pit-Bull-Terrier/74781.jpg',\n",
              " 'Chihuahua/76130.jpg',\n",
              " 'American-Pit-Bull-Terrier/74786.jpg',\n",
              " 'American-Pit-Bull-Terrier/74782.jpg',\n",
              " 'American-Staffordshire-Terrier/74820.jpg']"
            ]
          },
          "metadata": {},
          "execution_count": 57
        }
      ]
    },
    {
      "cell_type": "code",
      "metadata": {
        "id": "w6W54kxS52Jx"
      },
      "source": [
        "def replacefilenames(df,switchdict):\n",
        "  for i in range(len(df)):\n",
        "    entry = df['full_filename'][i]\n",
        "\n",
        "    if entry in list(switchdict.keys()):\n",
        "      print(f'Entry switched {entry}. Index: {i}')\n",
        "      df.at[i,'full_filename'] = switchdict[entry]"
      ],
      "execution_count": null,
      "outputs": []
    },
    {
      "cell_type": "code",
      "metadata": {
        "colab": {
          "base_uri": "https://localhost:8080/"
        },
        "id": "mC7JnSkh6BF5",
        "outputId": "e8ffa4f6-eefb-469a-a3fc-ecd4ff1ddb35"
      },
      "source": [
        "replacefilenames(valdf,dictswtich)"
      ],
      "execution_count": null,
      "outputs": [
        {
          "output_type": "stream",
          "text": [
            "Entry switched American-Pit-Bull-Terrier/74780.jpg. Index: 632\n",
            "Entry switched American-Pit-Bull-Terrier/74787.jpg. Index: 1053\n",
            "Entry switched Chihuahua/78548.jpg. Index: 1125\n",
            "Entry switched American-Pit-Bull-Terrier/76216.jpg. Index: 5903\n",
            "Entry switched Anatolian-Shepherd/76382.jpg. Index: 6053\n",
            "Entry switched Labrador-Retriever/78543.jpg. Index: 6756\n",
            "Entry switched American-Pit-Bull-Terrier/74779.jpg. Index: 6842\n",
            "Entry switched American-Pit-Bull-Terrier/74784.jpg. Index: 6972\n",
            "Entry switched American-Pit-Bull-Terrier/74791.jpg. Index: 10716\n",
            "Entry switched American-Pit-Bull-Terrier/74789.jpg. Index: 11891\n"
          ],
          "name": "stdout"
        }
      ]
    },
    {
      "cell_type": "code",
      "metadata": {
        "id": "M5l1N7kh7SU8"
      },
      "source": [
        "traindfnew = traindf.drop(3811)"
      ],
      "execution_count": null,
      "outputs": []
    },
    {
      "cell_type": "code",
      "metadata": {
        "colab": {
          "base_uri": "https://localhost:8080/"
        },
        "id": "vFsrbB7i70-m",
        "outputId": "9fde27ea-f9cc-4135-a080-bccaa7fd4455"
      },
      "source": [
        "len(traindfnew)"
      ],
      "execution_count": null,
      "outputs": [
        {
          "output_type": "execute_result",
          "data": {
            "text/plain": [
              "64888"
            ]
          },
          "metadata": {},
          "execution_count": 74
        }
      ]
    },
    {
      "cell_type": "code",
      "metadata": {
        "colab": {
          "base_uri": "https://localhost:8080/"
        },
        "id": "N9aWI2o073ik",
        "outputId": "bc56b6ed-1d1d-4ed7-825a-5499f880a5df"
      },
      "source": [
        "len(traindf)"
      ],
      "execution_count": null,
      "outputs": [
        {
          "output_type": "execute_result",
          "data": {
            "text/plain": [
              "64889"
            ]
          },
          "metadata": {},
          "execution_count": 75
        }
      ]
    },
    {
      "cell_type": "code",
      "metadata": {
        "id": "L1KfWUvZ74fC"
      },
      "source": [
        "traindfnew.reset_index(inplace=True, drop=True)"
      ],
      "execution_count": null,
      "outputs": []
    },
    {
      "cell_type": "code",
      "metadata": {
        "colab": {
          "base_uri": "https://localhost:8080/",
          "height": 677
        },
        "id": "vJrH3oOU78aN",
        "outputId": "b5f77b8a-b026-46ee-d978-31ce12b51a29"
      },
      "source": [
        "traindfnew"
      ],
      "execution_count": null,
      "outputs": [
        {
          "output_type": "execute_result",
          "data": {
            "text/html": [
              "<div>\n",
              "<style scoped>\n",
              "    .dataframe tbody tr th:only-of-type {\n",
              "        vertical-align: middle;\n",
              "    }\n",
              "\n",
              "    .dataframe tbody tr th {\n",
              "        vertical-align: top;\n",
              "    }\n",
              "\n",
              "    .dataframe thead th {\n",
              "        text-align: right;\n",
              "    }\n",
              "</style>\n",
              "<table border=\"1\" class=\"dataframe\">\n",
              "  <thead>\n",
              "    <tr style=\"text-align: right;\">\n",
              "      <th></th>\n",
              "      <th>index</th>\n",
              "      <th>original.resolutionX</th>\n",
              "      <th>original.resolutionY</th>\n",
              "      <th>sex</th>\n",
              "      <th>primaryBreed</th>\n",
              "      <th>secondaryBreed</th>\n",
              "      <th>mixed</th>\n",
              "      <th>age</th>\n",
              "      <th>birthdate</th>\n",
              "      <th>exact_age</th>\n",
              "      <th>clean_url</th>\n",
              "      <th>source</th>\n",
              "      <th>filename</th>\n",
              "      <th>norm_age</th>\n",
              "      <th>full_filename</th>\n",
              "      <th>breed_mapping</th>\n",
              "    </tr>\n",
              "  </thead>\n",
              "  <tbody>\n",
              "    <tr>\n",
              "      <th>0</th>\n",
              "      <td>1954</td>\n",
              "      <td>1024.0</td>\n",
              "      <td>768.0</td>\n",
              "      <td>Female</td>\n",
              "      <td>Labrador Retriever</td>\n",
              "      <td>Collie</td>\n",
              "      <td>Yes</td>\n",
              "      <td>Adult</td>\n",
              "      <td>11\\/5\\/2013</td>\n",
              "      <td>4.000000</td>\n",
              "      <td>https://s3.amazonaws.com/filestore.rescuegroup...</td>\n",
              "      <td>Rescue Groups</td>\n",
              "      <td>Labrador-Retriever</td>\n",
              "      <td>0.317460</td>\n",
              "      <td>Labrador-Retriever/2557.jpg</td>\n",
              "      <td>149</td>\n",
              "    </tr>\n",
              "    <tr>\n",
              "      <th>1</th>\n",
              "      <td>68793</td>\n",
              "      <td>NaN</td>\n",
              "      <td>NaN</td>\n",
              "      <td>Male</td>\n",
              "      <td>Mixed Breed</td>\n",
              "      <td>NaN</td>\n",
              "      <td>NaN</td>\n",
              "      <td>NaN</td>\n",
              "      <td>NaN</td>\n",
              "      <td>0.083333</td>\n",
              "      <td>train_images/d1052eb2d-3.jpg</td>\n",
              "      <td>Kaggle</td>\n",
              "      <td>Mixed-Breed</td>\n",
              "      <td>0.006667</td>\n",
              "      <td>Mixed-Breed/d1052eb2d-3.jpg</td>\n",
              "      <td>167</td>\n",
              "    </tr>\n",
              "    <tr>\n",
              "      <th>2</th>\n",
              "      <td>89277</td>\n",
              "      <td>NaN</td>\n",
              "      <td>NaN</td>\n",
              "      <td>NaN</td>\n",
              "      <td>Mastiff</td>\n",
              "      <td>cane corso</td>\n",
              "      <td>NaN</td>\n",
              "      <td>NaN</td>\n",
              "      <td>NaN</td>\n",
              "      <td>4.916667</td>\n",
              "      <td>https://g.petango.com/photos/2282/005e9d85-d06...</td>\n",
              "      <td>Petango</td>\n",
              "      <td>Mastiff</td>\n",
              "      <td>0.655556</td>\n",
              "      <td>Mastiff/52999162.jpg</td>\n",
              "      <td>160</td>\n",
              "    </tr>\n",
              "    <tr>\n",
              "      <th>3</th>\n",
              "      <td>37295</td>\n",
              "      <td>881.0</td>\n",
              "      <td>884.0</td>\n",
              "      <td>Male</td>\n",
              "      <td>Standard Poodle</td>\n",
              "      <td>Schnauzer</td>\n",
              "      <td>Yes</td>\n",
              "      <td>NaN</td>\n",
              "      <td>6\\/6\\/2016</td>\n",
              "      <td>5.000000</td>\n",
              "      <td>https://s3.amazonaws.com/filestore.rescuegroup...</td>\n",
              "      <td>Rescue Groups</td>\n",
              "      <td>Standard-Poodle</td>\n",
              "      <td>0.416667</td>\n",
              "      <td>Standard-Poodle/57372.jpg</td>\n",
              "      <td>243</td>\n",
              "    </tr>\n",
              "    <tr>\n",
              "      <th>4</th>\n",
              "      <td>39787</td>\n",
              "      <td>752.0</td>\n",
              "      <td>710.0</td>\n",
              "      <td>Male</td>\n",
              "      <td>Great Dane</td>\n",
              "      <td>NaN</td>\n",
              "      <td>No</td>\n",
              "      <td>Adult</td>\n",
              "      <td>6\\/13\\/2017</td>\n",
              "      <td>4.000000</td>\n",
              "      <td>https://s3.amazonaws.com/filestore.rescuegroup...</td>\n",
              "      <td>Rescue Groups</td>\n",
              "      <td>Great-Dane</td>\n",
              "      <td>0.476190</td>\n",
              "      <td>Great-Dane/62134.jpg</td>\n",
              "      <td>119</td>\n",
              "    </tr>\n",
              "    <tr>\n",
              "      <th>...</th>\n",
              "      <td>...</td>\n",
              "      <td>...</td>\n",
              "      <td>...</td>\n",
              "      <td>...</td>\n",
              "      <td>...</td>\n",
              "      <td>...</td>\n",
              "      <td>...</td>\n",
              "      <td>...</td>\n",
              "      <td>...</td>\n",
              "      <td>...</td>\n",
              "      <td>...</td>\n",
              "      <td>...</td>\n",
              "      <td>...</td>\n",
              "      <td>...</td>\n",
              "      <td>...</td>\n",
              "      <td>...</td>\n",
              "    </tr>\n",
              "    <tr>\n",
              "      <th>64883</th>\n",
              "      <td>77162</td>\n",
              "      <td>NaN</td>\n",
              "      <td>NaN</td>\n",
              "      <td>Female</td>\n",
              "      <td>English Bulldog</td>\n",
              "      <td>NaN</td>\n",
              "      <td>NaN</td>\n",
              "      <td>NaN</td>\n",
              "      <td>NaN</td>\n",
              "      <td>4.000000</td>\n",
              "      <td>test_images/0a6d1c439-2.jpg</td>\n",
              "      <td>Kaggle</td>\n",
              "      <td>English-Bulldog</td>\n",
              "      <td>0.363636</td>\n",
              "      <td>English-Bulldog/0a6d1c439-2.jpg</td>\n",
              "      <td>89</td>\n",
              "    </tr>\n",
              "    <tr>\n",
              "      <th>64884</th>\n",
              "      <td>12809</td>\n",
              "      <td>1536.0</td>\n",
              "      <td>2048.0</td>\n",
              "      <td>Male</td>\n",
              "      <td>American Pit Bull Terrier</td>\n",
              "      <td>American Staffordshire Terrier</td>\n",
              "      <td>Yes</td>\n",
              "      <td>Adult</td>\n",
              "      <td>9\\/24\\/2015</td>\n",
              "      <td>5.000000</td>\n",
              "      <td>https://s3.amazonaws.com/filestore.rescuegroup...</td>\n",
              "      <td>Rescue Groups</td>\n",
              "      <td>American-Pit-Bull-Terrier</td>\n",
              "      <td>0.454545</td>\n",
              "      <td>American-Pit-Bull-Terrier/17053.jpg</td>\n",
              "      <td>11</td>\n",
              "    </tr>\n",
              "    <tr>\n",
              "      <th>64885</th>\n",
              "      <td>50840</td>\n",
              "      <td>NaN</td>\n",
              "      <td>NaN</td>\n",
              "      <td>NaN</td>\n",
              "      <td>German Shepherd Dog</td>\n",
              "      <td>NaN</td>\n",
              "      <td>Yes</td>\n",
              "      <td>NaN</td>\n",
              "      <td>NaN</td>\n",
              "      <td>3.005556</td>\n",
              "      <td>http://www.allatok.info/images/27984/1006.jpg</td>\n",
              "      <td>Hungarian Website</td>\n",
              "      <td>German-Shepherd-Dog</td>\n",
              "      <td>0.291802</td>\n",
              "      <td>German-Shepherd-Dog/82487.jpg</td>\n",
              "      <td>110</td>\n",
              "    </tr>\n",
              "    <tr>\n",
              "      <th>64886</th>\n",
              "      <td>33075</td>\n",
              "      <td>1869.0</td>\n",
              "      <td>2666.0</td>\n",
              "      <td>Female</td>\n",
              "      <td>Mountain Cur</td>\n",
              "      <td>Australian Cattle Dog\\/Blue Heeler</td>\n",
              "      <td>Yes</td>\n",
              "      <td>Adult</td>\n",
              "      <td>6\\/11\\/2018</td>\n",
              "      <td>3.000000</td>\n",
              "      <td>https://s3.amazonaws.com/filestore.rescuegroup...</td>\n",
              "      <td>Rescue Groups</td>\n",
              "      <td>Mountain-Cur</td>\n",
              "      <td>0.200000</td>\n",
              "      <td>Mountain-Cur/49586.jpg</td>\n",
              "      <td>169</td>\n",
              "    </tr>\n",
              "    <tr>\n",
              "      <th>64887</th>\n",
              "      <td>1502</td>\n",
              "      <td>1974.0</td>\n",
              "      <td>1283.0</td>\n",
              "      <td>Male</td>\n",
              "      <td>Boxer</td>\n",
              "      <td>Corgi</td>\n",
              "      <td>Yes</td>\n",
              "      <td>Adult</td>\n",
              "      <td>6\\/4\\/2014</td>\n",
              "      <td>1.000000</td>\n",
              "      <td>https://s3.amazonaws.com/filestore.rescuegroup...</td>\n",
              "      <td>Rescue Groups</td>\n",
              "      <td>Boxer</td>\n",
              "      <td>0.096154</td>\n",
              "      <td>Boxer/1977.jpg</td>\n",
              "      <td>48</td>\n",
              "    </tr>\n",
              "  </tbody>\n",
              "</table>\n",
              "<p>64888 rows × 16 columns</p>\n",
              "</div>"
            ],
            "text/plain": [
              "       index  ...  breed_mapping\n",
              "0       1954  ...            149\n",
              "1      68793  ...            167\n",
              "2      89277  ...            160\n",
              "3      37295  ...            243\n",
              "4      39787  ...            119\n",
              "...      ...  ...            ...\n",
              "64883  77162  ...             89\n",
              "64884  12809  ...             11\n",
              "64885  50840  ...            110\n",
              "64886  33075  ...            169\n",
              "64887   1502  ...             48\n",
              "\n",
              "[64888 rows x 16 columns]"
            ]
          },
          "metadata": {},
          "execution_count": 77
        }
      ]
    },
    {
      "cell_type": "code",
      "metadata": {
        "colab": {
          "base_uri": "https://localhost:8080/"
        },
        "id": "PFswCi8M79Ve",
        "outputId": "ed121277-caf0-438e-8129-5571692167c4"
      },
      "source": [
        "#where do the EXIF errors happen?\n",
        "#where are there corrupt images?\n",
        "\n",
        "import PIL\n",
        "from pathlib import Path\n",
        "from PIL import UnidentifiedImageError\n",
        "import os\n",
        "import boto3\n",
        "from PIL import Image\n",
        "import pandas as pd\n",
        "import io\n",
        "from io import BytesIO\n",
        "\n",
        "access_Key = \"key\"\n",
        "secret_Access_Key = \"secret\"\n",
        "\n",
        "s3 = boto3.resource('s3',aws_access_key_id=access_Key, aws_secret_access_key=secret_Access_Key)\n",
        "\n",
        "traindf = pd.read_csv('/content/traindff.csv', index_col = 0, header = 0, engine='python', dtype = {'breed_mapping': \"Int64\"})\n",
        "\n",
        "\n",
        "def image_from_s3(bucket, key):\n",
        "    key = f'allimgs/{key}'\n",
        "    bucket = s3.Bucket(bucket)\n",
        "    image = bucket.Object(key)\n",
        "    img_data = image.get().get('Body').read()\n",
        "    try:\n",
        "      Image.open(io.BytesIO(img_data))\n",
        "      return 'Sucess'\n",
        "    except Exception as e:\n",
        "      print(f'Problem opening image from S3: {e}')\n",
        "      print(key) \n",
        "      return 'Error'\n",
        "\n",
        "listofpotentialdrops = []\n",
        "\n",
        "for i in range(len(traindf)):\n",
        "  entry = traindf['full_filename'][i]\n",
        "  try:\n",
        "\n",
        "    response = image_from_s3('dogshelterimgs', entry)\n",
        "\n",
        "    if response == 'Error':\n",
        "      print(f'Index of error: {i}.')\n",
        "      listofpotentialdrops.append(entry)\n",
        "\n",
        "  except Exception as e:\n",
        "\n",
        "    print(f'Problem: {e}')\n",
        "    print(f'Filename:{entry}. Index:{i}.')\n",
        "    listofpotentialdrops.append(entry)"
      ],
      "execution_count": null,
      "outputs": [
        {
          "output_type": "stream",
          "text": [
            "/usr/local/lib/python3.7/dist-packages/PIL/TiffImagePlugin.py:788: UserWarning: Corrupt EXIF data.  Expecting to read 4 bytes but only got 0. \n",
            "  warnings.warn(str(msg))\n"
          ],
          "name": "stderr"
        },
        {
          "output_type": "stream",
          "text": [
            "Problem opening image from S3: cannot identify image file <_io.BytesIO object at 0x7ff7bd10d470>\n",
            "allimgs/Great-Dane/33764252.jpg\n",
            "Index of error: 3845.\n",
            "Problem opening image from S3: cannot identify image file <_io.BytesIO object at 0x7ff7bd0694d0>\n",
            "allimgs/Chihuahua/27014354.jpg\n",
            "Index of error: 8067.\n",
            "Problem: An error occurred (NoSuchKey) when calling the GetObject operation: The specified key does not exist.\n",
            "Filename:Anatolian-Shepherd/59350605.jpg. Index:11105.\n",
            "Problem opening image from S3: cannot identify image file <_io.BytesIO object at 0x7ff7bce92530>\n",
            "allimgs/Terrier/82918571.jpg\n",
            "Index of error: 11715.\n",
            "Problem opening image from S3: cannot identify image file <_io.BytesIO object at 0x7ff7bd7e6650>\n",
            "allimgs/Shepherd/54195647.jpg\n",
            "Index of error: 14215.\n",
            "Problem opening image from S3: cannot identify image file <_io.BytesIO object at 0x7ff7bda65290>\n",
            "allimgs/American-Pit-Bull-Terrier/92565233.jpg\n",
            "Index of error: 19388.\n",
            "Problem opening image from S3: cannot identify image file <_io.BytesIO object at 0x7ff7bc73ead0>\n",
            "allimgs/Shepherd/79078608.jpg\n",
            "Index of error: 20612.\n",
            "Problem: An error occurred (NoSuchKey) when calling the GetObject operation: The specified key does not exist.\n",
            "Filename:Great-Pyrenees/63951.jpg. Index:21524.\n",
            "Problem opening image from S3: cannot identify image file <_io.BytesIO object at 0x7ff7bd5026b0>\n",
            "allimgs/Retriever/6506994.jpg\n",
            "Index of error: 21944.\n",
            "Problem opening image from S3: cannot identify image file <_io.BytesIO object at 0x7ff7bd17e6b0>\n",
            "allimgs/Chihuahua/63629315.jpg\n",
            "Index of error: 29464.\n",
            "Problem opening image from S3: cannot identify image file <_io.BytesIO object at 0x7ff7bcb667d0>\n",
            "allimgs/Labrador-Retriever/80039220.jpg\n",
            "Index of error: 30058.\n",
            "Problem: An error occurred (NoSuchKey) when calling the GetObject operation: The specified key does not exist.\n",
            "Filename:American-Staffordshire-Terrier/79624395.jpg. Index:34831.\n",
            "Problem opening image from S3: cannot identify image file <_io.BytesIO object at 0x7ff7bcc56110>\n",
            "allimgs/English-Bulldog/2176555.jpg\n",
            "Index of error: 35177.\n",
            "Problem opening image from S3: cannot identify image file <_io.BytesIO object at 0x7ff7bda65410>\n",
            "allimgs/Beagle/82226503.jpg\n",
            "Index of error: 42557.\n",
            "Problem opening image from S3: cannot identify image file <_io.BytesIO object at 0x7ff7bdafbd10>\n",
            "allimgs/Shepherd/41060578.jpg\n",
            "Index of error: 44782.\n",
            "Problem opening image from S3: cannot identify image file <_io.BytesIO object at 0x7ff7bd984dd0>\n",
            "allimgs/Labrador-Retriever/24598707.jpg\n",
            "Index of error: 46505.\n",
            "Problem opening image from S3: cannot identify image file <_io.BytesIO object at 0x7ff7bc73ea10>\n",
            "allimgs/Boxer/5943692.jpg\n",
            "Index of error: 46708.\n",
            "Problem opening image from S3: cannot identify image file <_io.BytesIO object at 0x7ff7bdbe0710>\n",
            "allimgs/Treeing-Walker-Coonhound/30319050.jpg\n",
            "Index of error: 53081.\n",
            "Problem opening image from S3: cannot identify image file <_io.BytesIO object at 0x7ff7bdc24ad0>\n",
            "allimgs/American-Pit-Bull-Terrier/52106344.jpg\n",
            "Index of error: 54165.\n",
            "Problem opening image from S3: cannot identify image file <_io.BytesIO object at 0x7ff7bd048230>\n",
            "allimgs/Chihuahua/55861047.jpg\n",
            "Index of error: 60791.\n"
          ],
          "name": "stdout"
        }
      ]
    },
    {
      "cell_type": "code",
      "metadata": {
        "id": "bx16LbtxFWXU"
      },
      "source": [
        "index = [60791,54165,53081,46708,46505,44782,42557,35177,34831,30058,29464,21944,21524,20612,19388,3845,8067,11105,11715,14215]"
      ],
      "execution_count": null,
      "outputs": []
    },
    {
      "cell_type": "code",
      "metadata": {
        "colab": {
          "base_uri": "https://localhost:8080/"
        },
        "id": "qS1f3ogJj4FL",
        "outputId": "7cd286db-63c8-46d6-dc2e-a010193268f3"
      },
      "source": [
        "len(listofpotentialdrops)"
      ],
      "execution_count": null,
      "outputs": [
        {
          "output_type": "execute_result",
          "data": {
            "text/plain": [
              "20"
            ]
          },
          "metadata": {},
          "execution_count": 3
        }
      ]
    },
    {
      "cell_type": "code",
      "metadata": {
        "colab": {
          "base_uri": "https://localhost:8080/"
        },
        "id": "DWPIwUqOj5V3",
        "outputId": "be7c5a44-b51b-4fab-8a86-68f6b8d417a4"
      },
      "source": [
        "len(index)"
      ],
      "execution_count": null,
      "outputs": [
        {
          "output_type": "execute_result",
          "data": {
            "text/plain": [
              "20"
            ]
          },
          "metadata": {},
          "execution_count": 6
        }
      ]
    },
    {
      "cell_type": "code",
      "metadata": {
        "id": "Nf-xzZrLj6LK"
      },
      "source": [
        "traindf = traindf.drop(index)\n",
        "traindf.reset_index(inplace=True, drop=True)"
      ],
      "execution_count": null,
      "outputs": []
    },
    {
      "cell_type": "code",
      "metadata": {
        "colab": {
          "base_uri": "https://localhost:8080/"
        },
        "id": "Q6T88UjfkF43",
        "outputId": "dbf0aae5-1e26-4d28-da4a-d4e92ddd881a"
      },
      "source": [
        "#where do the EXIF errors happen?\n",
        "#where are there corrupt images?\n",
        "\n",
        "import PIL\n",
        "from pathlib import Path\n",
        "from PIL import UnidentifiedImageError\n",
        "import os\n",
        "import boto3\n",
        "from PIL import Image\n",
        "import pandas as pd\n",
        "import io\n",
        "from io import BytesIO\n",
        "import warnings\n",
        "\n",
        "\n",
        "access_Key = \"key\"\n",
        "secret_Access_Key = \"secret\"\n",
        "\n",
        "s3 = boto3.resource('s3',aws_access_key_id=access_Key, aws_secret_access_key=secret_Access_Key)\n",
        "\n",
        "\n",
        "\n",
        "def image_from_s3(bucket, key):\n",
        "    key = f'allimgs/{key}'\n",
        "    bucket = s3.Bucket(bucket)\n",
        "    image = bucket.Object(key)\n",
        "    img_data = image.get().get('Body').read()\n",
        "\n",
        "    Image.open(io.BytesIO(img_data))\n",
        "    return 'Sucess'\n",
        "\n",
        "\n",
        "listofpotentialdrops = []\n",
        "\n",
        "\n",
        "entry = 'Australian-Shepherd/42086.jpg'\n",
        "response = image_from_s3('dogshelterimgs', entry)\n",
        "\n",
        "\n",
        "  \n"
      ],
      "execution_count": null,
      "outputs": [
        {
          "output_type": "stream",
          "text": [
            "Exception ignored in: <ssl.SSLSocket fd=55, family=AddressFamily.AF_INET, type=SocketKind.SOCK_STREAM, proto=6, laddr=('172.28.0.2', 36250), raddr=('52.219.112.57', 443)>\n",
            "ResourceWarning: unclosed <ssl.SSLSocket fd=55, family=AddressFamily.AF_INET, type=SocketKind.SOCK_STREAM, proto=6, laddr=('172.28.0.2', 36250), raddr=('52.219.112.57', 443)>\n"
          ],
          "name": "stderr"
        }
      ]
    },
    {
      "cell_type": "code",
      "metadata": {
        "colab": {
          "base_uri": "https://localhost:8080/"
        },
        "id": "Cv4VZUxQOxZF",
        "outputId": "ba021f10-0011-4c62-fedd-13bde2976de9"
      },
      "source": [
        "!pip install boto3"
      ],
      "execution_count": null,
      "outputs": [
        {
          "output_type": "stream",
          "text": [
            "Collecting boto3\n",
            "  Downloading boto3-1.18.30-py3-none-any.whl (131 kB)\n",
            "\u001b[?25l\r\u001b[K     |██▌                             | 10 kB 9.7 MB/s eta 0:00:01\r\u001b[K     |█████                           | 20 kB 13.4 MB/s eta 0:00:01\r\u001b[K     |███████▌                        | 30 kB 16.4 MB/s eta 0:00:01\r\u001b[K     |██████████                      | 40 kB 18.6 MB/s eta 0:00:01\r\u001b[K     |████████████▌                   | 51 kB 20.0 MB/s eta 0:00:01\r\u001b[K     |███████████████                 | 61 kB 21.4 MB/s eta 0:00:01\r\u001b[K     |█████████████████▍              | 71 kB 22.0 MB/s eta 0:00:01\r\u001b[K     |████████████████████            | 81 kB 23.5 MB/s eta 0:00:01\r\u001b[K     |██████████████████████▍         | 92 kB 24.6 MB/s eta 0:00:01\r\u001b[K     |█████████████████████████       | 102 kB 24.8 MB/s eta 0:00:01\r\u001b[K     |███████████████████████████▍    | 112 kB 24.8 MB/s eta 0:00:01\r\u001b[K     |█████████████████████████████▉  | 122 kB 24.8 MB/s eta 0:00:01\r\u001b[K     |████████████████████████████████| 131 kB 24.8 MB/s \n",
            "\u001b[?25hCollecting s3transfer<0.6.0,>=0.5.0\n",
            "  Downloading s3transfer-0.5.0-py3-none-any.whl (79 kB)\n",
            "\u001b[?25l\r\u001b[K     |████▏                           | 10 kB 4.9 MB/s eta 0:00:01\r\u001b[K     |████████▎                       | 20 kB 8.3 MB/s eta 0:00:01\r\u001b[K     |████████████▍                   | 30 kB 11.5 MB/s eta 0:00:01\r\u001b[K     |████████████████▌               | 40 kB 14.0 MB/s eta 0:00:01\r\u001b[K     |████████████████████▊           | 51 kB 16.3 MB/s eta 0:00:01\r\u001b[K     |████████████████████████▉       | 61 kB 18.6 MB/s eta 0:00:01\r\u001b[K     |█████████████████████████████   | 71 kB 20.2 MB/s eta 0:00:01\r\u001b[K     |████████████████████████████████| 79 kB 4.6 MB/s \n",
            "\u001b[?25hCollecting jmespath<1.0.0,>=0.7.1\n",
            "  Downloading jmespath-0.10.0-py2.py3-none-any.whl (24 kB)\n",
            "Collecting botocore<1.22.0,>=1.21.30\n",
            "  Downloading botocore-1.21.30-py3-none-any.whl (7.8 MB)\n",
            "\u001b[K     |████████████████████████████████| 7.8 MB 36.5 MB/s \n",
            "\u001b[?25hCollecting urllib3<1.27,>=1.25.4\n",
            "  Downloading urllib3-1.26.6-py2.py3-none-any.whl (138 kB)\n",
            "\u001b[K     |████████████████████████████████| 138 kB 51.5 MB/s \n",
            "\u001b[?25hRequirement already satisfied: python-dateutil<3.0.0,>=2.1 in /usr/local/lib/python3.7/dist-packages (from botocore<1.22.0,>=1.21.30->boto3) (2.8.2)\n",
            "Requirement already satisfied: six>=1.5 in /usr/local/lib/python3.7/dist-packages (from python-dateutil<3.0.0,>=2.1->botocore<1.22.0,>=1.21.30->boto3) (1.15.0)\n",
            "Installing collected packages: urllib3, jmespath, botocore, s3transfer, boto3\n",
            "  Attempting uninstall: urllib3\n",
            "    Found existing installation: urllib3 1.24.3\n",
            "    Uninstalling urllib3-1.24.3:\n",
            "      Successfully uninstalled urllib3-1.24.3\n",
            "\u001b[31mERROR: pip's dependency resolver does not currently take into account all the packages that are installed. This behaviour is the source of the following dependency conflicts.\n",
            "requests 2.23.0 requires urllib3!=1.25.0,!=1.25.1,<1.26,>=1.21.1, but you have urllib3 1.26.6 which is incompatible.\n",
            "datascience 0.10.6 requires folium==0.2.1, but you have folium 0.8.3 which is incompatible.\u001b[0m\n",
            "Successfully installed boto3-1.18.30 botocore-1.21.30 jmespath-0.10.0 s3transfer-0.5.0 urllib3-1.26.6\n"
          ],
          "name": "stdout"
        }
      ]
    },
    {
      "cell_type": "code",
      "metadata": {
        "id": "IOcb7yDekPzD"
      },
      "source": [
        "import piexif\n",
        "piexif.remove('/content/6392.jpg')"
      ],
      "execution_count": null,
      "outputs": []
    },
    {
      "cell_type": "code",
      "metadata": {
        "colab": {
          "base_uri": "https://localhost:8080/"
        },
        "id": "039w2XarooSh",
        "outputId": "b3663282-dccd-477b-9225-960303f3834e"
      },
      "source": [
        "!pip install piexif"
      ],
      "execution_count": null,
      "outputs": [
        {
          "output_type": "stream",
          "text": [
            "Collecting piexif\n",
            "  Downloading piexif-1.1.3-py2.py3-none-any.whl (20 kB)\n",
            "Installing collected packages: piexif\n",
            "Successfully installed piexif-1.1.3\n"
          ],
          "name": "stdout"
        }
      ]
    },
    {
      "cell_type": "code",
      "metadata": {
        "id": "ke3wKyftfsZn",
        "colab": {
          "base_uri": "https://localhost:8080/"
        },
        "outputId": "a4106e6c-e5ac-43cc-a384-b1dbacf577f1"
      },
      "source": [
        "listofpotentialdrops"
      ],
      "execution_count": null,
      "outputs": [
        {
          "output_type": "execute_result",
          "data": {
            "text/plain": [
              "['Australian-Shepherd/42086.jpg']"
            ]
          },
          "metadata": {},
          "execution_count": 14
        }
      ]
    },
    {
      "cell_type": "code",
      "metadata": {
        "id": "4e0EsSsQoqW1"
      },
      "source": [
        "import boto3\n",
        "from botocore.exceptions import NoCredentialsError\n",
        "\n",
        "access_Key = \"key\"\n",
        "secret_Access_Key = \"secret\"\n",
        "\n",
        "def upload_kaggle_photo(filename, bucket):\n",
        "\n",
        "  actualfilepath = '/' + filename\n",
        "\n",
        "  for name in listofpotentialdrops:\n",
        "    if actualfilepath in name:\n",
        "      \n",
        "      key = 'allimgs/' +name\n",
        "      print(key)\n",
        "  \n",
        "\n",
        "  print(actualfilepath)\n",
        "\n",
        "\n",
        "\n",
        "  s3 = boto3.client('s3', aws_access_key_id= access_Key, aws_secret_access_key=secret_Access_Key)\n",
        "  try:\n",
        "    s3.upload_file(actualfilepath,bucket,key)\n",
        "  except FileNotFoundError:\n",
        "    print('no file at link')\n",
        "  except NoCredentialsError:\n",
        "    print('credential error')\n"
      ],
      "execution_count": null,
      "outputs": []
    },
    {
      "cell_type": "code",
      "metadata": {
        "id": "isyZ1vzXpBg6"
      },
      "source": [
        "s3 = boto3.client('s3', aws_access_key_id= access_Key, aws_secret_access_key=secret_Access_Key)\n",
        "\n",
        "s3.upload_file('/content/6392.jpg','dogshelterimgs','allimgs/American-Staffordshire-Terrier/6392.jpg')"
      ],
      "execution_count": null,
      "outputs": []
    },
    {
      "cell_type": "code",
      "metadata": {
        "id": "A-eMkbEgpLsN"
      },
      "source": [
        "traindf.to_csv('traindfclean.csv')"
      ],
      "execution_count": null,
      "outputs": []
    },
    {
      "cell_type": "code",
      "metadata": {
        "id": "3LTEK34opQam"
      },
      "source": [
        "traindf = pd.read_csv('/content/valdfclean2.csv', index_col = 0, header = 0, engine='python', dtype = {'breed_mapping': \"Int64\"})\n",
        "\n"
      ],
      "execution_count": null,
      "outputs": []
    },
    {
      "cell_type": "code",
      "metadata": {
        "id": "H42srvFhR6KA"
      },
      "source": [
        "warnings.filterwarnings(\"ignore\", \"Image size\")\n",
        "warnings.filterwarnings(\"ignore\", \"Corrupt EXIF data\", UserWarning)\n",
        "\n",
        "warnings.filterwarnings(\"ignore\", \"UserWarning: Corrupt EXIF data\", UserWarning)\n",
        "warnings.filterwarnings(\"ignore\", \"/usr/local/lib/python3.7/site-packages/PIL/TiffImagePlugin.py:785: UserWarning: Corrupt EXIF data\", UserWarning)"
      ],
      "execution_count": null,
      "outputs": []
    },
    {
      "cell_type": "code",
      "metadata": {
        "id": "3qnSGPMqjh69"
      },
      "source": [
        ""
      ],
      "execution_count": null,
      "outputs": []
    }
  ]
}