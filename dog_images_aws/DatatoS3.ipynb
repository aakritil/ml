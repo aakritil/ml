{
  "nbformat": 4,
  "nbformat_minor": 0,
  "metadata": {
    "colab": {
      "name": "DatatoS3.ipynb",
      "provenance": [],
      "collapsed_sections": []
    },
    "kernelspec": {
      "name": "python3",
      "display_name": "Python 3"
    },
    "language_info": {
      "name": "python"
    }
  },
  "cells": [
    {
      "cell_type": "code",
      "metadata": {
        "id": "RMee4behwRnY"
      },
      "source": [
        "import PIL\n",
        "from pathlib import Path\n",
        "from PIL import UnidentifiedImageError\n",
        "import os\n",
        "import boto3\n",
        "from PIL import Image\n",
        "import pandas as pd\n",
        "import io\n",
        "from io import BytesIO\n",
        "\n",
        "wholedf = pd.read_csv('/content/train_df2-2.csv', index_col = 0, header = 0, engine='python', dtype = {'breed_mapping': \"Int64\"})\n",
        "problem = wholedf.iloc[listindex,:]\n",
        "problem.reset_index(inplace=True)\n",
        "\n",
        "access_Key = \"key\"\n",
        "secret_Access_Key = \"secret\"\n",
        "\n",
        "s3 = boto3.resource('s3',aws_access_key_id=access_Key, aws_secret_access_key=secret_Access_Key)\n",
        "\n",
        "count = 3775\n",
        "def image_from_s3(bucket, key):\n",
        "\n",
        "    key = f'allimgs/{key}'\n",
        "    bucket = s3.Bucket(bucket)\n",
        "    image = bucket.Object(key)\n",
        "    img_data = image.get().get('Body').read()\n",
        "    try:\n",
        "      Image.open(io.BytesIO(img_data))\n",
        "    except:\n",
        "      print(key) \n",
        "\n",
        "for i in range(len(wholedf)):\n",
        "  entry = wholedf['full_filename'][i]\n",
        "  if 'http' in wholedf['clean_url'][i]:\n",
        "    try:\n",
        "      image_from_s3('dogshelterimgs',entry)\n",
        "    except Exception as e:\n",
        "      print(f'Problem: {e}')\n",
        "      print(f'Filename:{entry}. Index:{i}.')\n",
        "      print(entry)\n",
        "\n",
        "    \n",
        "\n"
      ],
      "execution_count": null,
      "outputs": []
    },
    {
      "cell_type": "code",
      "metadata": {
        "id": "a3MooiPx0j2C"
      },
      "source": [
        "listindex = list(range(57*64,3712+64*3))"
      ],
      "execution_count": null,
      "outputs": []
    },
    {
      "cell_type": "code",
      "metadata": {
        "id": "xdGxNmeaoYTT"
      },
      "source": [
        "!pip install boto3"
      ],
      "execution_count": null,
      "outputs": []
    },
    {
      "cell_type": "code",
      "metadata": {
        "id": "1AA4SLsz0e8U"
      },
      "source": [
        "import requests\n",
        "import piexif\n",
        "def upload_photo(url,bucket,filepath):\n",
        "  s3 = boto3.client('s3', aws_access_key_id= access_Key, aws_secret_access_key=secret_Access_Key)\n",
        "  try:\n",
        "    imageresp = requests.get(url, stream = True).raw\n",
        "    piexif.remove(imageresp)\n",
        "    s3.upload_fileobj(imageresp,bucket,'allimgs/'+filepath)\n",
        "    print(url)\n",
        "  except FileNotFoundError:\n",
        "    print('no file at link')\n",
        "  except NoCredentialsError:\n",
        "    print('credential error')\n"
      ],
      "execution_count": null,
      "outputs": []
    },
    {
      "cell_type": "code",
      "metadata": {
        "colab": {
          "base_uri": "https://localhost:8080/"
        },
        "id": "KSOVVWPS4FY4",
        "outputId": "3e0d2840-775a-46dc-f487-156ab502a00a"
      },
      "source": [
        "! pip install piexif"
      ],
      "execution_count": null,
      "outputs": [
        {
          "output_type": "stream",
          "text": [
            "Requirement already satisfied: piexif in /usr/local/lib/python3.7/dist-packages (1.1.3)\n"
          ],
          "name": "stdout"
        }
      ]
    },
    {
      "cell_type": "code",
      "metadata": {
        "id": "8iXYDLCo2D7a"
      },
      "source": [
        "upload_photo('https://s3.amazonaws.com/filestore.rescuegroups.org/8832/pictures/animals/13410/13410436/71555152_800x800.jpg','dogshelterimgs','American-Staffordshire-Terrier/6392.jpg')"
      ],
      "execution_count": null,
      "outputs": []
    },
    {
      "cell_type": "code",
      "metadata": {
        "id": "nm92YwG42SRe"
      },
      "source": [
        "import pandas as pd\n",
        "wholedf = pd.read_csv('/content/train_df2-2.csv', index_col = 0, header = 0, engine='python', dtype = {'breed_mapping': \"Int64\"})"
      ],
      "execution_count": null,
      "outputs": []
    },
    {
      "cell_type": "code",
      "metadata": {
        "id": "rROw7vlOYHg7"
      },
      "source": [
        "problem = wholedf.iloc[[3811],:]"
      ],
      "execution_count": null,
      "outputs": []
    },
    {
      "cell_type": "code",
      "metadata": {
        "colab": {
          "base_uri": "https://localhost:8080/",
          "height": 134
        },
        "id": "Na-JOPwzYKti",
        "outputId": "b67a3384-c623-4817-b0d9-4dd4965a6b0e"
      },
      "source": [
        "problem"
      ],
      "execution_count": null,
      "outputs": [
        {
          "output_type": "execute_result",
          "data": {
            "text/html": [
              "<div>\n",
              "<style scoped>\n",
              "    .dataframe tbody tr th:only-of-type {\n",
              "        vertical-align: middle;\n",
              "    }\n",
              "\n",
              "    .dataframe tbody tr th {\n",
              "        vertical-align: top;\n",
              "    }\n",
              "\n",
              "    .dataframe thead th {\n",
              "        text-align: right;\n",
              "    }\n",
              "</style>\n",
              "<table border=\"1\" class=\"dataframe\">\n",
              "  <thead>\n",
              "    <tr style=\"text-align: right;\">\n",
              "      <th></th>\n",
              "      <th>index</th>\n",
              "      <th>original.resolutionX</th>\n",
              "      <th>original.resolutionY</th>\n",
              "      <th>sex</th>\n",
              "      <th>primaryBreed</th>\n",
              "      <th>secondaryBreed</th>\n",
              "      <th>mixed</th>\n",
              "      <th>age</th>\n",
              "      <th>birthdate</th>\n",
              "      <th>exact_age</th>\n",
              "      <th>clean_url</th>\n",
              "      <th>source</th>\n",
              "      <th>filename</th>\n",
              "      <th>norm_age</th>\n",
              "      <th>full_filename</th>\n",
              "      <th>breed_mapping</th>\n",
              "    </tr>\n",
              "  </thead>\n",
              "  <tbody>\n",
              "    <tr>\n",
              "      <th>3811</th>\n",
              "      <td>5017</td>\n",
              "      <td>800.0</td>\n",
              "      <td>800.0</td>\n",
              "      <td>Male</td>\n",
              "      <td>American Staffordshire Terrier</td>\n",
              "      <td>Terrier</td>\n",
              "      <td>No</td>\n",
              "      <td>Adult</td>\n",
              "      <td>1\\/28\\/2014</td>\n",
              "      <td>6.0</td>\n",
              "      <td>https://s3.amazonaws.com/filestore.rescuegroup...</td>\n",
              "      <td>Rescue Groups</td>\n",
              "      <td>American-Staffordshire-Terrier</td>\n",
              "      <td>0.461538</td>\n",
              "      <td>American-Staffordshire-Terrier/6392.jpg</td>\n",
              "      <td>12</td>\n",
              "    </tr>\n",
              "  </tbody>\n",
              "</table>\n",
              "</div>"
            ],
            "text/plain": [
              "      index  ...  breed_mapping\n",
              "3811   5017  ...             12\n",
              "\n",
              "[1 rows x 16 columns]"
            ]
          },
          "metadata": {
            "tags": []
          },
          "execution_count": 14
        }
      ]
    },
    {
      "cell_type": "code",
      "metadata": {
        "colab": {
          "base_uri": "https://localhost:8080/"
        },
        "id": "bqKxqNZNYr8l",
        "outputId": "55ecb66f-ec7e-4a0c-81a6-754c063108d9"
      },
      "source": [
        "import PIL\n",
        "from pathlib import Path\n",
        "from PIL import UnidentifiedImageError\n",
        "import os\n",
        "import boto3\n",
        "from PIL import Image\n",
        "import pandas as pd\n",
        "import io\n",
        "from io import BytesIO\n",
        "\n",
        "\n",
        "\n",
        "access_Key = \"key\"\n",
        "secret_Access_Key = \"secret\"\n",
        "\n",
        "s3 = boto3.resource('s3',aws_access_key_id=access_Key, aws_secret_access_key=secret_Access_Key)\n",
        "\n",
        "def image_from_s3(bucket, key):\n",
        "    key = f'allimgs/{key}'\n",
        "    bucket = s3.Bucket(bucket)\n",
        "    image = bucket.Object(key)\n",
        "    img_data = image.get().get('Body').read()\n",
        "    try:\n",
        "      Image.open(io.BytesIO(img_data))\n",
        "    except:\n",
        "      print(key) \n",
        "\n",
        "for i in range(len(traindf)):\n",
        "  entry = traindf['full_filename'][i]\n",
        "  try:\n",
        "    image_from_s3('dogshelterimgs',entry)\n",
        "  except:\n",
        "    print(entry)"
      ],
      "execution_count": null,
      "outputs": [
        {
          "metadata": {
            "tags": null
          },
          "name": "stdout",
          "output_type": "stream",
          "text": [
            "American-Staffordshire-Terrier/45640.jpg\n",
            "Mixed-Breed/945346188-4.jpg\n",
            "Mixed-Breed/aa7548beb-5.jpg\n"
          ]
        },
        {
          "metadata": {
            "tags": null
          },
          "name": "stderr",
          "output_type": "stream",
          "text": [
            "/usr/local/lib/python3.7/dist-packages/PIL/TiffImagePlugin.py:788: UserWarning: Corrupt EXIF data.  Expecting to read 4 bytes but only got 0. \n",
            "  warnings.warn(str(msg))\n"
          ]
        },
        {
          "output_type": "stream",
          "text": [
            "allimgs/Great-Dane/33764252.jpg\n",
            "allimgs/Chihuahua/27014354.jpg\n",
            "Anatolian-Shepherd/59350605.jpg\n",
            "allimgs/Terrier/82918571.jpg\n",
            "allimgs/Shepherd/54195647.jpg\n",
            "Spitz/edba94b45-1.jpg\n",
            "Great-Dane/14202.jpg\n",
            "Boxer/64203.jpg\n",
            "Labrador-Retriever/9844.jpg\n"
          ],
          "name": "stdout"
        }
      ]
    },
    {
      "cell_type": "code",
      "metadata": {
        "id": "C51vxk8uZWqd"
      },
      "source": [
        "wholedf.drop(3811,inplace=True)\n",
        "wholedf.reset_index(inplace=True)"
      ],
      "execution_count": null,
      "outputs": []
    },
    {
      "cell_type": "code",
      "metadata": {
        "id": "WO44f0EP9FY4"
      },
      "source": [
        "for i in range(len(valdf)):\n",
        "  entry = valdf['full_filename'][i]\n",
        "  try:\n",
        "    image_from_s3('dogshelterimgs',entry)\n",
        "  except:\n",
        "    print(entry)\n",
        "\n",
        "for i in range(len(testdf)):\n",
        "  entry = testdf['full_filename'][i]\n",
        "  try:\n",
        "    image_from_s3('dogshelterimgs',entry)\n",
        "  except:\n",
        "    print(entry)"
      ],
      "execution_count": null,
      "outputs": []
    },
    {
      "cell_type": "code",
      "metadata": {
        "colab": {
          "base_uri": "https://localhost:8080/"
        },
        "id": "hQruTACeZomc",
        "outputId": "910662fe-6369-43a8-f086-f5c7e3125b38"
      },
      "source": [
        "len(wholedf)"
      ],
      "execution_count": null,
      "outputs": [
        {
          "output_type": "execute_result",
          "data": {
            "text/plain": [
              "57686"
            ]
          },
          "metadata": {
            "tags": []
          },
          "execution_count": 25
        }
      ]
    },
    {
      "cell_type": "code",
      "metadata": {
        "id": "l_ebMk8QaPRM"
      },
      "source": [
        "#the point of this code is to get rid of the 21 invalid filenames error. There should not be any invalid filenames - this could be cause for concern\n",
        "import pandas as pd\n",
        "\n",
        "#64889\n",
        "traindf = pd.read_csv('/content/train_df2-2.csv', index_col = 0, header = 0, engine='python', dtype = {'breed_mapping': \"Int64\"})\n",
        "\n",
        "#13905\n",
        "valdf = pd.read_csv('/content/valid_df2-2.csv', index_col = 0, header = 0, engine='python', dtype = {'breed_mapping': \"Int64\"})\n",
        "\n",
        "#13905\n",
        "testdf = pd.read_csv('/content/test_df2-2.csv', index_col = 0, header = 0, engine='python', dtype = {'breed_mapping': \"Int64\"})\n",
        "\n",
        "#there are NO repeated filenames\n",
        "\n",
        "#EXIF error occurs on index 3811 of traindf :/"
      ],
      "execution_count": null,
      "outputs": []
    },
    {
      "cell_type": "code",
      "metadata": {
        "id": "ic3b17k9wVo3"
      },
      "source": [
        "import boto3\n",
        "\n",
        "access_Key = \"key\"\n",
        "secret_Access_Key = \"secret\"\n",
        "\n",
        "s3_paginator = boto3.client('s3', aws_access_key_id=access_Key, aws_secret_access_key=secret_Access_Key).get_paginator('list_objects_v2')\n",
        "\n",
        "\n",
        "def keys(bucket_name, prefix='/', delimiter='/', start_after=''):\n",
        "    prefix = prefix[1:] if prefix.startswith(delimiter) else prefix\n",
        "    start_after = (start_after or prefix) if prefix.endswith(delimiter) else start_after\n",
        "    for page in s3_paginator.paginate(Bucket=bucket_name, Prefix=prefix, StartAfter=start_after):\n",
        "        for content in page.get('Contents', ()):\n",
        "            yield content['Key']"
      ],
      "execution_count": null,
      "outputs": []
    },
    {
      "cell_type": "code",
      "metadata": {
        "id": "3Jy2l1qzwZbA"
      },
      "source": [
        "listofs3filenames = []\n",
        "while True:\n",
        "  listofs3filenames.append(next(keys('dogshelterimgs',prefix = 'allimgs/')))"
      ],
      "execution_count": null,
      "outputs": []
    },
    {
      "cell_type": "code",
      "metadata": {
        "id": "_XFXkroM1tgk"
      },
      "source": [
        "s3 = boto3.resource('s3', aws_access_key_id=access_Key, aws_secret_access_key=secret_Access_Key)\n",
        "\n",
        "my_bucket = s3.Bucket('dogshelterimgs')\n",
        "listofactualfilenames = [img.key for img in my_bucket.objects.filter(Prefix='allimgs/')]"
      ],
      "execution_count": null,
      "outputs": []
    },
    {
      "cell_type": "code",
      "metadata": {
        "id": "M9GorlrnwarY"
      },
      "source": [
        "list1 = ['allimgs/' + name for name in traindf['full_filename'].unique()]\n",
        "list2 = ['allimgs/' + name for name in valdf['full_filename'].unique()]\n",
        "list3 = ['allimgs/' + name for name in testdf['full_filename'].unique()]\n",
        "listofdffilenames = list1 + list2 + list3 "
      ],
      "execution_count": null,
      "outputs": []
    },
    {
      "cell_type": "code",
      "metadata": {
        "id": "bjSXFuoB2zNV"
      },
      "source": [
        "problems = set(listofdffilenames)-set(listofactualfilenames)"
      ],
      "execution_count": null,
      "outputs": []
    },
    {
      "cell_type": "code",
      "metadata": {
        "id": "vxZ-V7Td8fBI"
      },
      "source": [
        "traindf.to_csv('traindff.csv')\n",
        "valdf.to_csv('valdff.csv')\n",
        "testdf.to_csv('testdff.csv')"
      ],
      "execution_count": null,
      "outputs": []
    },
    {
      "cell_type": "code",
      "metadata": {
        "id": "tanTeDem3Jr3"
      },
      "source": [
        "nonjpg = [files for files in listofactualfilenames if files[-3:] != 'jpg']"
      ],
      "execution_count": null,
      "outputs": []
    },
    {
      "cell_type": "code",
      "metadata": {
        "id": "LJFP58eN3ym6"
      },
      "source": [
        "cutnonjpg = [name[name.find('/')+1:] for name in nonjpg]\n",
        "cutnonjpg = [name[0:-4] for name in cutnonjpg]\n",
        "\n",
        "problemscut = [name[name.find('/')+1:] for name in problems]\n",
        "problemscut = [name[0:-4] for name in problemscut]\n"
      ],
      "execution_count": null,
      "outputs": []
    },
    {
      "cell_type": "code",
      "metadata": {
        "id": "AODX3qhi5EkO"
      },
      "source": [
        "actualproblems = set(problemscut)-set(cutnonjpg)"
      ],
      "execution_count": null,
      "outputs": []
    },
    {
      "cell_type": "code",
      "metadata": {
        "id": "Ei8-wvZM5laf"
      },
      "source": [
        "colstoswitch = [name for name in problemscut if name in cutnonjpg]"
      ],
      "execution_count": null,
      "outputs": []
    },
    {
      "cell_type": "code",
      "metadata": {
        "id": "857zWfZO5mSy"
      },
      "source": [
        "dictswtich = {name+'.jpg':name+'.png' for name in colstoswitch}"
      ],
      "execution_count": null,
      "outputs": []
    },
    {
      "cell_type": "code",
      "metadata": {
        "colab": {
          "base_uri": "https://localhost:8080/"
        },
        "id": "GGS-duBS61iK",
        "outputId": "74b2ee6b-7418-4b80-d2f3-715d256061d5"
      },
      "source": [
        "list(dictswtich.keys())"
      ],
      "execution_count": null,
      "outputs": [
        {
          "output_type": "execute_result",
          "data": {
            "text/plain": [
              "['American-Pit-Bull-Terrier/74789.jpg',\n",
              " 'American-Pit-Bull-Terrier/74784.jpg',\n",
              " 'American-Pit-Bull-Terrier/74791.jpg',\n",
              " 'American-Pit-Bull-Terrier/74783.jpg',\n",
              " 'Siberian-Husky/78188.jpg',\n",
              " 'Hound/76614.jpg',\n",
              " 'Mixed-Breed/76359.jpg',\n",
              " 'Chihuahua/78546.jpg',\n",
              " 'Fox-Terrier/74799.jpg',\n",
              " 'Terrier/75554.jpg',\n",
              " 'Chihuahua/76129.jpg',\n",
              " 'Chihuahua/78547.jpg',\n",
              " 'Labrador-Retriever/78543.jpg',\n",
              " 'American-Pit-Bull-Terrier/74780.jpg',\n",
              " 'Terrier/76628.jpg',\n",
              " 'Chihuahua/78548.jpg',\n",
              " 'Chihuahua/78545.jpg',\n",
              " 'Australian-Cattle-Dog-Blue-Heeler/74755.jpg',\n",
              " 'American-Pit-Bull-Terrier/74779.jpg',\n",
              " 'Labrador-Retriever/78544.jpg',\n",
              " 'American-Pit-Bull-Terrier/76212.jpg',\n",
              " 'American-Pit-Bull-Terrier/74790.jpg',\n",
              " 'Labrador-Retriever/76633.jpg',\n",
              " 'American-Pit-Bull-Terrier/74788.jpg',\n",
              " 'Mixed-Breed/76357.jpg',\n",
              " 'Labrador-Retriever/76603.jpg',\n",
              " 'Anatolian-Shepherd/76382.jpg',\n",
              " 'American-Pit-Bull-Terrier/74787.jpg',\n",
              " 'American-Pit-Bull-Terrier/74785.jpg',\n",
              " 'American-Pit-Bull-Terrier/76216.jpg',\n",
              " 'American-Pit-Bull-Terrier/74781.jpg',\n",
              " 'Chihuahua/76130.jpg',\n",
              " 'American-Pit-Bull-Terrier/74786.jpg',\n",
              " 'American-Pit-Bull-Terrier/74782.jpg',\n",
              " 'American-Staffordshire-Terrier/74820.jpg']"
            ]
          },
          "metadata": {},
          "execution_count": 57
        }
      ]
    },
    {
      "cell_type": "code",
      "metadata": {
        "id": "w6W54kxS52Jx"
      },
      "source": [
        "def replacefilenames(df,switchdict):\n",
        "  for i in range(len(df)):\n",
        "    entry = df['full_filename'][i]\n",
        "\n",
        "    if entry in list(switchdict.keys()):\n",
        "      print(f'Entry switched {entry}. Index: {i}')\n",
        "      df.at[i,'full_filename'] = switchdict[entry]"
      ],
      "execution_count": null,
      "outputs": []
    },
    {
      "cell_type": "code",
      "metadata": {
        "colab": {
          "base_uri": "https://localhost:8080/"
        },
        "id": "mC7JnSkh6BF5",
        "outputId": "e8ffa4f6-eefb-469a-a3fc-ecd4ff1ddb35"
      },
      "source": [
        "replacefilenames(valdf,dictswtich)"
      ],
      "execution_count": null,
      "outputs": [
        {
          "output_type": "stream",
          "text": [
            "Entry switched American-Pit-Bull-Terrier/74780.jpg. Index: 632\n",
            "Entry switched American-Pit-Bull-Terrier/74787.jpg. Index: 1053\n",
            "Entry switched Chihuahua/78548.jpg. Index: 1125\n",
            "Entry switched American-Pit-Bull-Terrier/76216.jpg. Index: 5903\n",
            "Entry switched Anatolian-Shepherd/76382.jpg. Index: 6053\n",
            "Entry switched Labrador-Retriever/78543.jpg. Index: 6756\n",
            "Entry switched American-Pit-Bull-Terrier/74779.jpg. Index: 6842\n",
            "Entry switched American-Pit-Bull-Terrier/74784.jpg. Index: 6972\n",
            "Entry switched American-Pit-Bull-Terrier/74791.jpg. Index: 10716\n",
            "Entry switched American-Pit-Bull-Terrier/74789.jpg. Index: 11891\n"
          ],
          "name": "stdout"
        }
      ]
    },
    {
      "cell_type": "code",
      "metadata": {
        "id": "M5l1N7kh7SU8"
      },
      "source": [
        "traindfnew = traindf.drop(3811)"
      ],
      "execution_count": null,
      "outputs": []
    },
    {
      "cell_type": "code",
      "metadata": {
        "colab": {
          "base_uri": "https://localhost:8080/"
        },
        "id": "vFsrbB7i70-m",
        "outputId": "9fde27ea-f9cc-4135-a080-bccaa7fd4455"
      },
      "source": [
        "len(traindfnew)"
      ],
      "execution_count": null,
      "outputs": [
        {
          "output_type": "execute_result",
          "data": {
            "text/plain": [
              "64888"
            ]
          },
          "metadata": {},
          "execution_count": 74
        }
      ]
    },
    {
      "cell_type": "code",
      "metadata": {
        "colab": {
          "base_uri": "https://localhost:8080/"
        },
        "id": "N9aWI2o073ik",
        "outputId": "bc56b6ed-1d1d-4ed7-825a-5499f880a5df"
      },
      "source": [
        "len(traindf)"
      ],
      "execution_count": null,
      "outputs": [
        {
          "output_type": "execute_result",
          "data": {
            "text/plain": [
              "64889"
            ]
          },
          "metadata": {},
          "execution_count": 75
        }
      ]
    },
    {
      "cell_type": "code",
      "metadata": {
        "id": "L1KfWUvZ74fC"
      },
      "source": [
        "traindfnew.reset_index(inplace=True, drop=True)"
      ],
      "execution_count": null,
      "outputs": []
    },
    {
      "cell_type": "code",
      "metadata": {
        "id": "vJrH3oOU78aN"
      },
      "source": [
        "traindfnew"
      ],
      "execution_count": null,
      "outputs": []
    },
    {
      "cell_type": "code",
      "metadata": {
        "id": "PFswCi8M79Ve"
      },
      "source": [
        "#where do the EXIF errors happen?\n",
        "#where are there corrupt images?\n",
        "\n",
        "import PIL\n",
        "from pathlib import Path\n",
        "from PIL import UnidentifiedImageError\n",
        "import os\n",
        "import boto3\n",
        "from PIL import Image\n",
        "import pandas as pd\n",
        "import io\n",
        "from io import BytesIO\n",
        "\n",
        "access_Key = \"key\"\n",
        "secret_Access_Key = \"secret\"\n",
        "\n",
        "s3 = boto3.resource('s3',aws_access_key_id=access_Key, aws_secret_access_key=secret_Access_Key)\n",
        "\n",
        "traindf = pd.read_csv('/content/traindff.csv', index_col = 0, header = 0, engine='python', dtype = {'breed_mapping': \"Int64\"})\n",
        "\n",
        "\n",
        "def image_from_s3(bucket, key):\n",
        "    key = f'allimgs/{key}'\n",
        "    bucket = s3.Bucket(bucket)\n",
        "    image = bucket.Object(key)\n",
        "    img_data = image.get().get('Body').read()\n",
        "    try:\n",
        "      Image.open(io.BytesIO(img_data))\n",
        "      return 'Sucess'\n",
        "    except Exception as e:\n",
        "      print(f'Problem opening image from S3: {e}')\n",
        "      print(key) \n",
        "      return 'Error'\n",
        "\n",
        "listofpotentialdrops = []\n",
        "\n",
        "for i in range(len(traindf)):\n",
        "  entry = traindf['full_filename'][i]\n",
        "  try:\n",
        "\n",
        "    response = image_from_s3('dogshelterimgs', entry)\n",
        "\n",
        "    if response == 'Error':\n",
        "      print(f'Index of error: {i}.')\n",
        "      listofpotentialdrops.append(entry)\n",
        "\n",
        "  except Exception as e:\n",
        "\n",
        "    print(f'Problem: {e}')\n",
        "    print(f'Filename:{entry}. Index:{i}.')\n",
        "    listofpotentialdrops.append(entry)"
      ],
      "execution_count": null,
      "outputs": []
    },
    {
      "cell_type": "code",
      "metadata": {
        "id": "bx16LbtxFWXU"
      },
      "source": [
        "index = [60791,54165,53081,46708,46505,44782,42557,35177,34831,30058,29464,21944,21524,20612,19388,3845,8067,11105,11715,14215]"
      ],
      "execution_count": null,
      "outputs": []
    },
    {
      "cell_type": "code",
      "metadata": {
        "colab": {
          "base_uri": "https://localhost:8080/"
        },
        "id": "qS1f3ogJj4FL",
        "outputId": "7cd286db-63c8-46d6-dc2e-a010193268f3"
      },
      "source": [
        "len(listofpotentialdrops)"
      ],
      "execution_count": null,
      "outputs": [
        {
          "output_type": "execute_result",
          "data": {
            "text/plain": [
              "20"
            ]
          },
          "metadata": {},
          "execution_count": 3
        }
      ]
    },
    {
      "cell_type": "code",
      "metadata": {
        "colab": {
          "base_uri": "https://localhost:8080/"
        },
        "id": "DWPIwUqOj5V3",
        "outputId": "be7c5a44-b51b-4fab-8a86-68f6b8d417a4"
      },
      "source": [
        "len(index)"
      ],
      "execution_count": null,
      "outputs": [
        {
          "output_type": "execute_result",
          "data": {
            "text/plain": [
              "20"
            ]
          },
          "metadata": {},
          "execution_count": 6
        }
      ]
    },
    {
      "cell_type": "code",
      "metadata": {
        "id": "Nf-xzZrLj6LK"
      },
      "source": [
        "traindf = traindf.drop(index)\n",
        "traindf.reset_index(inplace=True, drop=True)"
      ],
      "execution_count": null,
      "outputs": []
    },
    {
      "cell_type": "code",
      "metadata": {
        "colab": {
          "base_uri": "https://localhost:8080/"
        },
        "id": "Q6T88UjfkF43",
        "outputId": "dbf0aae5-1e26-4d28-da4a-d4e92ddd881a"
      },
      "source": [
        "#where do the EXIF errors happen?\n",
        "#where are there corrupt images?\n",
        "\n",
        "import PIL\n",
        "from pathlib import Path\n",
        "from PIL import UnidentifiedImageError\n",
        "import os\n",
        "import boto3\n",
        "from PIL import Image\n",
        "import pandas as pd\n",
        "import io\n",
        "from io import BytesIO\n",
        "import warnings\n",
        "\n",
        "\n",
        "access_Key = \"key\"\n",
        "secret_Access_Key = \"secret\"\n",
        "\n",
        "s3 = boto3.resource('s3',aws_access_key_id=access_Key, aws_secret_access_key=secret_Access_Key)\n",
        "\n",
        "\n",
        "\n",
        "def image_from_s3(bucket, key):\n",
        "    key = f'allimgs/{key}'\n",
        "    bucket = s3.Bucket(bucket)\n",
        "    image = bucket.Object(key)\n",
        "    img_data = image.get().get('Body').read()\n",
        "\n",
        "    Image.open(io.BytesIO(img_data))\n",
        "    return 'Sucess'\n",
        "\n",
        "\n",
        "listofpotentialdrops = []\n",
        "\n",
        "\n",
        "entry = 'Australian-Shepherd/42086.jpg'\n",
        "response = image_from_s3('dogshelterimgs', entry)\n",
        "\n",
        "\n",
        "  \n"
      ],
      "execution_count": null,
      "outputs": [
        {
          "output_type": "stream",
          "text": [
            "Exception ignored in: <ssl.SSLSocket fd=55, family=AddressFamily.AF_INET, type=SocketKind.SOCK_STREAM, proto=6, laddr=('172.28.0.2', 36250), raddr=('52.219.112.57', 443)>\n",
            "ResourceWarning: unclosed <ssl.SSLSocket fd=55, family=AddressFamily.AF_INET, type=SocketKind.SOCK_STREAM, proto=6, laddr=('172.28.0.2', 36250), raddr=('52.219.112.57', 443)>\n"
          ],
          "name": "stderr"
        }
      ]
    },
    {
      "cell_type": "code",
      "metadata": {
        "colab": {
          "base_uri": "https://localhost:8080/"
        },
        "id": "Cv4VZUxQOxZF",
        "outputId": "ba021f10-0011-4c62-fedd-13bde2976de9"
      },
      "source": [
        "!pip install boto3"
      ],
      "execution_count": null,
      "outputs": [
        {
          "output_type": "stream",
          "text": [
            "Collecting boto3\n",
            "  Downloading boto3-1.18.30-py3-none-any.whl (131 kB)\n",
            "\u001b[?25l\r\u001b[K     |██▌                             | 10 kB 9.7 MB/s eta 0:00:01\r\u001b[K     |█████                           | 20 kB 13.4 MB/s eta 0:00:01\r\u001b[K     |███████▌                        | 30 kB 16.4 MB/s eta 0:00:01\r\u001b[K     |██████████                      | 40 kB 18.6 MB/s eta 0:00:01\r\u001b[K     |████████████▌                   | 51 kB 20.0 MB/s eta 0:00:01\r\u001b[K     |███████████████                 | 61 kB 21.4 MB/s eta 0:00:01\r\u001b[K     |█████████████████▍              | 71 kB 22.0 MB/s eta 0:00:01\r\u001b[K     |████████████████████            | 81 kB 23.5 MB/s eta 0:00:01\r\u001b[K     |██████████████████████▍         | 92 kB 24.6 MB/s eta 0:00:01\r\u001b[K     |█████████████████████████       | 102 kB 24.8 MB/s eta 0:00:01\r\u001b[K     |███████████████████████████▍    | 112 kB 24.8 MB/s eta 0:00:01\r\u001b[K     |█████████████████████████████▉  | 122 kB 24.8 MB/s eta 0:00:01\r\u001b[K     |████████████████████████████████| 131 kB 24.8 MB/s \n",
            "\u001b[?25hCollecting s3transfer<0.6.0,>=0.5.0\n",
            "  Downloading s3transfer-0.5.0-py3-none-any.whl (79 kB)\n",
            "\u001b[?25l\r\u001b[K     |████▏                           | 10 kB 4.9 MB/s eta 0:00:01\r\u001b[K     |████████▎                       | 20 kB 8.3 MB/s eta 0:00:01\r\u001b[K     |████████████▍                   | 30 kB 11.5 MB/s eta 0:00:01\r\u001b[K     |████████████████▌               | 40 kB 14.0 MB/s eta 0:00:01\r\u001b[K     |████████████████████▊           | 51 kB 16.3 MB/s eta 0:00:01\r\u001b[K     |████████████████████████▉       | 61 kB 18.6 MB/s eta 0:00:01\r\u001b[K     |█████████████████████████████   | 71 kB 20.2 MB/s eta 0:00:01\r\u001b[K     |████████████████████████████████| 79 kB 4.6 MB/s \n",
            "\u001b[?25hCollecting jmespath<1.0.0,>=0.7.1\n",
            "  Downloading jmespath-0.10.0-py2.py3-none-any.whl (24 kB)\n",
            "Collecting botocore<1.22.0,>=1.21.30\n",
            "  Downloading botocore-1.21.30-py3-none-any.whl (7.8 MB)\n",
            "\u001b[K     |████████████████████████████████| 7.8 MB 36.5 MB/s \n",
            "\u001b[?25hCollecting urllib3<1.27,>=1.25.4\n",
            "  Downloading urllib3-1.26.6-py2.py3-none-any.whl (138 kB)\n",
            "\u001b[K     |████████████████████████████████| 138 kB 51.5 MB/s \n",
            "\u001b[?25hRequirement already satisfied: python-dateutil<3.0.0,>=2.1 in /usr/local/lib/python3.7/dist-packages (from botocore<1.22.0,>=1.21.30->boto3) (2.8.2)\n",
            "Requirement already satisfied: six>=1.5 in /usr/local/lib/python3.7/dist-packages (from python-dateutil<3.0.0,>=2.1->botocore<1.22.0,>=1.21.30->boto3) (1.15.0)\n",
            "Installing collected packages: urllib3, jmespath, botocore, s3transfer, boto3\n",
            "  Attempting uninstall: urllib3\n",
            "    Found existing installation: urllib3 1.24.3\n",
            "    Uninstalling urllib3-1.24.3:\n",
            "      Successfully uninstalled urllib3-1.24.3\n",
            "\u001b[31mERROR: pip's dependency resolver does not currently take into account all the packages that are installed. This behaviour is the source of the following dependency conflicts.\n",
            "requests 2.23.0 requires urllib3!=1.25.0,!=1.25.1,<1.26,>=1.21.1, but you have urllib3 1.26.6 which is incompatible.\n",
            "datascience 0.10.6 requires folium==0.2.1, but you have folium 0.8.3 which is incompatible.\u001b[0m\n",
            "Successfully installed boto3-1.18.30 botocore-1.21.30 jmespath-0.10.0 s3transfer-0.5.0 urllib3-1.26.6\n"
          ],
          "name": "stdout"
        }
      ]
    },
    {
      "cell_type": "code",
      "metadata": {
        "id": "IOcb7yDekPzD"
      },
      "source": [
        "import piexif\n",
        "piexif.remove('/content/6392.jpg')"
      ],
      "execution_count": null,
      "outputs": []
    },
    {
      "cell_type": "code",
      "metadata": {
        "colab": {
          "base_uri": "https://localhost:8080/"
        },
        "id": "039w2XarooSh",
        "outputId": "b3663282-dccd-477b-9225-960303f3834e"
      },
      "source": [
        "!pip install piexif"
      ],
      "execution_count": null,
      "outputs": [
        {
          "output_type": "stream",
          "text": [
            "Collecting piexif\n",
            "  Downloading piexif-1.1.3-py2.py3-none-any.whl (20 kB)\n",
            "Installing collected packages: piexif\n",
            "Successfully installed piexif-1.1.3\n"
          ],
          "name": "stdout"
        }
      ]
    },
    {
      "cell_type": "code",
      "metadata": {
        "id": "ke3wKyftfsZn",
        "colab": {
          "base_uri": "https://localhost:8080/"
        },
        "outputId": "a4106e6c-e5ac-43cc-a384-b1dbacf577f1"
      },
      "source": [
        "listofpotentialdrops"
      ],
      "execution_count": null,
      "outputs": [
        {
          "output_type": "execute_result",
          "data": {
            "text/plain": [
              "['Australian-Shepherd/42086.jpg']"
            ]
          },
          "metadata": {},
          "execution_count": 14
        }
      ]
    },
    {
      "cell_type": "code",
      "metadata": {
        "id": "4e0EsSsQoqW1"
      },
      "source": [
        "import boto3\n",
        "from botocore.exceptions import NoCredentialsError\n",
        "\n",
        "access_Key = \"key\"\n",
        "secret_Access_Key = \"secret\"\n",
        "\n",
        "def upload_kaggle_photo(filename, bucket):\n",
        "\n",
        "  actualfilepath = '/' + filename\n",
        "\n",
        "  for name in listofpotentialdrops:\n",
        "    if actualfilepath in name:\n",
        "      \n",
        "      key = 'allimgs/' +name\n",
        "      print(key)\n",
        "  \n",
        "\n",
        "  print(actualfilepath)\n",
        "\n",
        "\n",
        "\n",
        "  s3 = boto3.client('s3', aws_access_key_id= access_Key, aws_secret_access_key=secret_Access_Key)\n",
        "  try:\n",
        "    s3.upload_file(actualfilepath,bucket,key)\n",
        "  except FileNotFoundError:\n",
        "    print('no file at link')\n",
        "  except NoCredentialsError:\n",
        "    print('credential error')\n"
      ],
      "execution_count": null,
      "outputs": []
    },
    {
      "cell_type": "code",
      "metadata": {
        "id": "isyZ1vzXpBg6"
      },
      "source": [
        "s3 = boto3.client('s3', aws_access_key_id= access_Key, aws_secret_access_key=secret_Access_Key)\n",
        "\n",
        "s3.upload_file('/content/6392.jpg','dogshelterimgs','allimgs/American-Staffordshire-Terrier/6392.jpg')"
      ],
      "execution_count": null,
      "outputs": []
    },
    {
      "cell_type": "code",
      "metadata": {
        "id": "A-eMkbEgpLsN"
      },
      "source": [
        "traindf.to_csv('traindfclean.csv')"
      ],
      "execution_count": null,
      "outputs": []
    },
    {
      "cell_type": "code",
      "metadata": {
        "id": "3LTEK34opQam"
      },
      "source": [
        "traindf = pd.read_csv('/content/valdfclean2.csv', index_col = 0, header = 0, engine='python', dtype = {'breed_mapping': \"Int64\"})\n",
        "\n"
      ],
      "execution_count": null,
      "outputs": []
    },
    {
      "cell_type": "code",
      "metadata": {
        "id": "H42srvFhR6KA"
      },
      "source": [
        "warnings.filterwarnings(\"ignore\", \"Image size\")\n",
        "warnings.filterwarnings(\"ignore\", \"Corrupt EXIF data\", UserWarning)\n",
        "\n",
        "warnings.filterwarnings(\"ignore\", \"UserWarning: Corrupt EXIF data\", UserWarning)\n",
        "warnings.filterwarnings(\"ignore\", \"/usr/local/lib/python3.7/site-packages/PIL/TiffImagePlugin.py:785: UserWarning: Corrupt EXIF data\", UserWarning)"
      ],
      "execution_count": null,
      "outputs": []
    }
  ]
}