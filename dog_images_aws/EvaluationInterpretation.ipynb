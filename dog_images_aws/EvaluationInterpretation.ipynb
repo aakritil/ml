{
  "nbformat": 4,
  "nbformat_minor": 0,
  "metadata": {
    "colab": {
      "name": "EvaluationInterpretation.ipynb",
      "provenance": [],
      "collapsed_sections": []
    },
    "kernelspec": {
      "name": "python3",
      "display_name": "Python 3"
    },
    "language_info": {
      "name": "python"
    }
  },
  "cells": [
    {
      "cell_type": "code",
      "metadata": {
        "id": "QKhMbk0FgK_Y"
      },
      "source": [
        "pip install s3fs"
      ],
      "execution_count": null,
      "outputs": []
    },
    {
      "cell_type": "code",
      "metadata": {
        "id": "kquh0OAegRxu"
      },
      "source": [
        "import s3fs\n",
        "import pandas as pd\n",
        "import tarfile\n",
        "\n",
        "fs = s3fs.S3FileSystem(anon=False, key=\"KEY\", secret=\"SECRET\")\n",
        "\n",
        "lifespans = pd.read_csv('/content/lifespans.csv', header=0)\n",
        "testdf = pd.read_csv('/content/testdfclean.csv', header=0)"
      ],
      "execution_count": null,
      "outputs": []
    },
    {
      "cell_type": "code",
      "metadata": {
        "id": "DWsItZXajcMW"
      },
      "source": [
        "def interpretresults(jobname,addtlname):\n",
        "\n",
        "  fs.download(f'sagemaker-us-west-1-727244991076/{jobname}/output/output.tar.gz',f'{jobname}.tar.gz')\n",
        "\n",
        "  with tarfile.open(f'{jobname}.tar.gz') as tar:\n",
        "        tar.extractall(f'{addtlname}_results')\n",
        "        tar.close()\n",
        "\n",
        "  preds = pd.read_csv(f'/content/{addtlname}_results/predictions.csv', header=0, index_col=0)\n",
        "\n",
        "  testdf2 = testdf.set_index('full_filename')\n",
        "  testdf2 = testdf2.reindex(index=preds['Filename'])\n",
        "  testdf2 = testdf2.reset_index()\n",
        "\n",
        "  for i in range(len(preds)):\n",
        "    preds.at[i,'Pred_Exact_Age'] = preds['Pred_Exact_Age'][i].replace('[','').replace(']','')\n",
        "    preds.at[i,'Pred_Norm_Age'] = preds['Pred_Norm_Age'][i].replace('[','').replace(']','')\n",
        "    preds.at[i,'Exact_Age_MAE'] = preds['Exact_Age_MAE'][i].replace('[','').replace(']','')\n",
        "    preds.at[i,'Norm_Age_MAE'] = preds['Norm_Age_MAE'][i].replace('[','').replace(']','')\n",
        "\n",
        "  for i in range(len(preds)):\n",
        "    if preds['Exact_Age_MAE'][i] == 'nan':\n",
        "\n",
        "      #lifespan = lifespans[preds['primaryBreed'][i]][0]\n",
        " \n",
        "      lifespan = lifespans[testdf2['primaryBreed'][i]][0]\n",
        "      preds.at[i,'Pred_Exact_Age'] = float(preds['Pred_Norm_Age'][i]) * lifespan\n",
        "      preds.at[i,'Exact_Age_MAE'] = abs(preds['Pred_Exact_Age'][i] - preds['Exact_Age'][i])\n",
        "  \n",
        "  return preds\n",
        "\n",
        "def splitdata(preds):\n",
        "  oldonly = preds[preds['Norm_Age']>.5]\n",
        "  oldonly['Norm_Age_MAE'] = pd.to_numeric(oldonly['Norm_Age_MAE'])\n",
        "  oldonly['Exact_Age_MAE'] = pd.to_numeric(oldonly['Exact_Age_MAE'])\n",
        "\n",
        "  youngonly = preds[preds['Norm_Age']<.5]\n",
        "  youngonly['Norm_Age_MAE'] = pd.to_numeric(youngonly['Norm_Age_MAE'])\n",
        "  youngonly['Exact_Age_MAE'] = pd.to_numeric(youngonly['Exact_Age_MAE'])\n",
        "\n",
        "  return oldonly, youngonly"
      ],
      "execution_count": null,
      "outputs": []
    },
    {
      "cell_type": "code",
      "metadata": {
        "id": "vXM4Jmz-kNZ3"
      },
      "source": [
        "finetunedmodel = interpretresults('VGG-Finetuned-Evaluation-2021-08-26-01-18-13-111', 'vggfinetuned')\n",
        "finold, finyoung = splitdata(finetunedmodel)"
      ],
      "execution_count": null,
      "outputs": []
    },
    {
      "cell_type": "code",
      "metadata": {
        "colab": {
          "base_uri": "https://localhost:8080/",
          "height": 297
        },
        "id": "n-_5k51xhAM5",
        "outputId": "b2c70225-0f37-47ac-e7cb-839750d15533"
      },
      "source": [
        "finold[['Norm_Age_MAE','Exact_Age_MAE']].describe()"
      ],
      "execution_count": null,
      "outputs": [
        {
          "output_type": "execute_result",
          "data": {
            "text/html": [
              "<div>\n",
              "<style scoped>\n",
              "    .dataframe tbody tr th:only-of-type {\n",
              "        vertical-align: middle;\n",
              "    }\n",
              "\n",
              "    .dataframe tbody tr th {\n",
              "        vertical-align: top;\n",
              "    }\n",
              "\n",
              "    .dataframe thead th {\n",
              "        text-align: right;\n",
              "    }\n",
              "</style>\n",
              "<table border=\"1\" class=\"dataframe\">\n",
              "  <thead>\n",
              "    <tr style=\"text-align: right;\">\n",
              "      <th></th>\n",
              "      <th>Norm_Age_MAE</th>\n",
              "      <th>Exact_Age_MAE</th>\n",
              "    </tr>\n",
              "  </thead>\n",
              "  <tbody>\n",
              "    <tr>\n",
              "      <th>count</th>\n",
              "      <td>2.070000e+03</td>\n",
              "      <td>2070.000000</td>\n",
              "    </tr>\n",
              "    <tr>\n",
              "      <th>mean</th>\n",
              "      <td>3.401649e-01</td>\n",
              "      <td>4.036209</td>\n",
              "    </tr>\n",
              "    <tr>\n",
              "      <th>std</th>\n",
              "      <td>2.163911e-01</td>\n",
              "      <td>2.590702</td>\n",
              "    </tr>\n",
              "    <tr>\n",
              "      <th>min</th>\n",
              "      <td>3.576279e-07</td>\n",
              "      <td>0.000006</td>\n",
              "    </tr>\n",
              "    <tr>\n",
              "      <th>25%</th>\n",
              "      <td>1.788376e-01</td>\n",
              "      <td>2.104098</td>\n",
              "    </tr>\n",
              "    <tr>\n",
              "      <th>50%</th>\n",
              "      <td>3.225435e-01</td>\n",
              "      <td>3.779666</td>\n",
              "    </tr>\n",
              "    <tr>\n",
              "      <th>75%</th>\n",
              "      <td>4.656190e-01</td>\n",
              "      <td>5.520180</td>\n",
              "    </tr>\n",
              "    <tr>\n",
              "      <th>max</th>\n",
              "      <td>1.568055e+00</td>\n",
              "      <td>19.332592</td>\n",
              "    </tr>\n",
              "  </tbody>\n",
              "</table>\n",
              "</div>"
            ],
            "text/plain": [
              "       Norm_Age_MAE  Exact_Age_MAE\n",
              "count  2.070000e+03    2070.000000\n",
              "mean   3.401649e-01       4.036209\n",
              "std    2.163911e-01       2.590702\n",
              "min    3.576279e-07       0.000006\n",
              "25%    1.788376e-01       2.104098\n",
              "50%    3.225435e-01       3.779666\n",
              "75%    4.656190e-01       5.520180\n",
              "max    1.568055e+00      19.332592"
            ]
          },
          "metadata": {},
          "execution_count": 34
        }
      ]
    },
    {
      "cell_type": "code",
      "metadata": {
        "colab": {
          "base_uri": "https://localhost:8080/",
          "height": 297
        },
        "id": "20RDX0DShAkk",
        "outputId": "ff327816-fc1d-4265-fa9d-9aef1a5289ce"
      },
      "source": [
        "finyoung[['Norm_Age_MAE','Exact_Age_MAE']].describe()"
      ],
      "execution_count": null,
      "outputs": [
        {
          "output_type": "execute_result",
          "data": {
            "text/html": [
              "<div>\n",
              "<style scoped>\n",
              "    .dataframe tbody tr th:only-of-type {\n",
              "        vertical-align: middle;\n",
              "    }\n",
              "\n",
              "    .dataframe tbody tr th {\n",
              "        vertical-align: top;\n",
              "    }\n",
              "\n",
              "    .dataframe thead th {\n",
              "        text-align: right;\n",
              "    }\n",
              "</style>\n",
              "<table border=\"1\" class=\"dataframe\">\n",
              "  <thead>\n",
              "    <tr style=\"text-align: right;\">\n",
              "      <th></th>\n",
              "      <th>Norm_Age_MAE</th>\n",
              "      <th>Exact_Age_MAE</th>\n",
              "    </tr>\n",
              "  </thead>\n",
              "  <tbody>\n",
              "    <tr>\n",
              "      <th>count</th>\n",
              "      <td>11775.000000</td>\n",
              "      <td>11775.000000</td>\n",
              "    </tr>\n",
              "    <tr>\n",
              "      <th>mean</th>\n",
              "      <td>0.082688</td>\n",
              "      <td>1.001870</td>\n",
              "    </tr>\n",
              "    <tr>\n",
              "      <th>std</th>\n",
              "      <td>0.092437</td>\n",
              "      <td>1.127741</td>\n",
              "    </tr>\n",
              "    <tr>\n",
              "      <th>min</th>\n",
              "      <td>0.000003</td>\n",
              "      <td>0.000043</td>\n",
              "    </tr>\n",
              "    <tr>\n",
              "      <th>25%</th>\n",
              "      <td>0.014796</td>\n",
              "      <td>0.181617</td>\n",
              "    </tr>\n",
              "    <tr>\n",
              "      <th>50%</th>\n",
              "      <td>0.047124</td>\n",
              "      <td>0.575266</td>\n",
              "    </tr>\n",
              "    <tr>\n",
              "      <th>75%</th>\n",
              "      <td>0.121265</td>\n",
              "      <td>1.465105</td>\n",
              "    </tr>\n",
              "    <tr>\n",
              "      <th>max</th>\n",
              "      <td>0.707121</td>\n",
              "      <td>10.746359</td>\n",
              "    </tr>\n",
              "  </tbody>\n",
              "</table>\n",
              "</div>"
            ],
            "text/plain": [
              "       Norm_Age_MAE  Exact_Age_MAE\n",
              "count  11775.000000   11775.000000\n",
              "mean       0.082688       1.001870\n",
              "std        0.092437       1.127741\n",
              "min        0.000003       0.000043\n",
              "25%        0.014796       0.181617\n",
              "50%        0.047124       0.575266\n",
              "75%        0.121265       1.465105\n",
              "max        0.707121      10.746359"
            ]
          },
          "metadata": {},
          "execution_count": 35
        }
      ]
    },
    {
      "cell_type": "code",
      "metadata": {
        "id": "0axvyGpvlAvL"
      },
      "source": [
        "weightermodel = interpretresults('VGG-Weighted-Evaluation-2021-08-26-18-26-11-287', 'vggweighted')\n",
        "wold, wyoung = splitdata(weightermodel)"
      ],
      "execution_count": null,
      "outputs": []
    },
    {
      "cell_type": "code",
      "metadata": {
        "colab": {
          "base_uri": "https://localhost:8080/",
          "height": 297
        },
        "id": "q25XlNPhk8ck",
        "outputId": "feba13cb-caf4-470d-a25f-cc55407def63"
      },
      "source": [
        "wold[['Norm_Age_MAE','Exact_Age_MAE']].describe()"
      ],
      "execution_count": null,
      "outputs": [
        {
          "output_type": "execute_result",
          "data": {
            "text/html": [
              "<div>\n",
              "<style scoped>\n",
              "    .dataframe tbody tr th:only-of-type {\n",
              "        vertical-align: middle;\n",
              "    }\n",
              "\n",
              "    .dataframe tbody tr th {\n",
              "        vertical-align: top;\n",
              "    }\n",
              "\n",
              "    .dataframe thead th {\n",
              "        text-align: right;\n",
              "    }\n",
              "</style>\n",
              "<table border=\"1\" class=\"dataframe\">\n",
              "  <thead>\n",
              "    <tr style=\"text-align: right;\">\n",
              "      <th></th>\n",
              "      <th>Norm_Age_MAE</th>\n",
              "      <th>Exact_Age_MAE</th>\n",
              "    </tr>\n",
              "  </thead>\n",
              "  <tbody>\n",
              "    <tr>\n",
              "      <th>count</th>\n",
              "      <td>2070.000000</td>\n",
              "      <td>2070.000000</td>\n",
              "    </tr>\n",
              "    <tr>\n",
              "      <th>mean</th>\n",
              "      <td>0.265018</td>\n",
              "      <td>3.110470</td>\n",
              "    </tr>\n",
              "    <tr>\n",
              "      <th>std</th>\n",
              "      <td>0.188457</td>\n",
              "      <td>2.193638</td>\n",
              "    </tr>\n",
              "    <tr>\n",
              "      <th>min</th>\n",
              "      <td>0.000028</td>\n",
              "      <td>0.000309</td>\n",
              "    </tr>\n",
              "    <tr>\n",
              "      <th>25%</th>\n",
              "      <td>0.117161</td>\n",
              "      <td>1.405257</td>\n",
              "    </tr>\n",
              "    <tr>\n",
              "      <th>50%</th>\n",
              "      <td>0.236035</td>\n",
              "      <td>2.795617</td>\n",
              "    </tr>\n",
              "    <tr>\n",
              "      <th>75%</th>\n",
              "      <td>0.380926</td>\n",
              "      <td>4.390283</td>\n",
              "    </tr>\n",
              "    <tr>\n",
              "      <th>max</th>\n",
              "      <td>1.446980</td>\n",
              "      <td>18.087248</td>\n",
              "    </tr>\n",
              "  </tbody>\n",
              "</table>\n",
              "</div>"
            ],
            "text/plain": [
              "       Norm_Age_MAE  Exact_Age_MAE\n",
              "count   2070.000000    2070.000000\n",
              "mean       0.265018       3.110470\n",
              "std        0.188457       2.193638\n",
              "min        0.000028       0.000309\n",
              "25%        0.117161       1.405257\n",
              "50%        0.236035       2.795617\n",
              "75%        0.380926       4.390283\n",
              "max        1.446980      18.087248"
            ]
          },
          "metadata": {},
          "execution_count": 37
        }
      ]
    },
    {
      "cell_type": "code",
      "metadata": {
        "colab": {
          "base_uri": "https://localhost:8080/",
          "height": 297
        },
        "id": "8mYAEJIalP_T",
        "outputId": "e51cafb0-8611-403f-a946-38fbe4270bc5"
      },
      "source": [
        "wyoung[['Norm_Age_MAE','Exact_Age_MAE']].describe()"
      ],
      "execution_count": null,
      "outputs": [
        {
          "output_type": "execute_result",
          "data": {
            "text/html": [
              "<div>\n",
              "<style scoped>\n",
              "    .dataframe tbody tr th:only-of-type {\n",
              "        vertical-align: middle;\n",
              "    }\n",
              "\n",
              "    .dataframe tbody tr th {\n",
              "        vertical-align: top;\n",
              "    }\n",
              "\n",
              "    .dataframe thead th {\n",
              "        text-align: right;\n",
              "    }\n",
              "</style>\n",
              "<table border=\"1\" class=\"dataframe\">\n",
              "  <thead>\n",
              "    <tr style=\"text-align: right;\">\n",
              "      <th></th>\n",
              "      <th>Norm_Age_MAE</th>\n",
              "      <th>Exact_Age_MAE</th>\n",
              "    </tr>\n",
              "  </thead>\n",
              "  <tbody>\n",
              "    <tr>\n",
              "      <th>count</th>\n",
              "      <td>11775.000000</td>\n",
              "      <td>11775.000000</td>\n",
              "    </tr>\n",
              "    <tr>\n",
              "      <th>mean</th>\n",
              "      <td>0.561709</td>\n",
              "      <td>6.806785</td>\n",
              "    </tr>\n",
              "    <tr>\n",
              "      <th>std</th>\n",
              "      <td>0.246800</td>\n",
              "      <td>2.937719</td>\n",
              "    </tr>\n",
              "    <tr>\n",
              "      <th>min</th>\n",
              "      <td>0.000044</td>\n",
              "      <td>0.000555</td>\n",
              "    </tr>\n",
              "    <tr>\n",
              "      <th>25%</th>\n",
              "      <td>0.396504</td>\n",
              "      <td>4.912797</td>\n",
              "    </tr>\n",
              "    <tr>\n",
              "      <th>50%</th>\n",
              "      <td>0.529967</td>\n",
              "      <td>6.440641</td>\n",
              "    </tr>\n",
              "    <tr>\n",
              "      <th>75%</th>\n",
              "      <td>0.734203</td>\n",
              "      <td>8.784397</td>\n",
              "    </tr>\n",
              "    <tr>\n",
              "      <th>max</th>\n",
              "      <td>1.771517</td>\n",
              "      <td>19.365374</td>\n",
              "    </tr>\n",
              "  </tbody>\n",
              "</table>\n",
              "</div>"
            ],
            "text/plain": [
              "       Norm_Age_MAE  Exact_Age_MAE\n",
              "count  11775.000000   11775.000000\n",
              "mean       0.561709       6.806785\n",
              "std        0.246800       2.937719\n",
              "min        0.000044       0.000555\n",
              "25%        0.396504       4.912797\n",
              "50%        0.529967       6.440641\n",
              "75%        0.734203       8.784397\n",
              "max        1.771517      19.365374"
            ]
          },
          "metadata": {},
          "execution_count": 38
        }
      ]
    },
    {
      "cell_type": "code",
      "metadata": {
        "id": "7Rz0l00eJU7K"
      },
      "source": [
        "xception = interpretresults('Xception-Evaluation-CustomWeight-2021-08-27-21-45-09-163', 'xception') \n",
        "xold, xyoung = splitdata(xception)"
      ],
      "execution_count": null,
      "outputs": []
    },
    {
      "cell_type": "code",
      "metadata": {
        "colab": {
          "base_uri": "https://localhost:8080/",
          "height": 297
        },
        "id": "MlNgcOKOKRmo",
        "outputId": "04b4181f-617d-40f1-f2eb-fb9c5ecdc3e3"
      },
      "source": [
        "xyoung[['Norm_Age_MAE','Exact_Age_MAE']].describe()"
      ],
      "execution_count": null,
      "outputs": [
        {
          "output_type": "execute_result",
          "data": {
            "text/html": [
              "<div>\n",
              "<style scoped>\n",
              "    .dataframe tbody tr th:only-of-type {\n",
              "        vertical-align: middle;\n",
              "    }\n",
              "\n",
              "    .dataframe tbody tr th {\n",
              "        vertical-align: top;\n",
              "    }\n",
              "\n",
              "    .dataframe thead th {\n",
              "        text-align: right;\n",
              "    }\n",
              "</style>\n",
              "<table border=\"1\" class=\"dataframe\">\n",
              "  <thead>\n",
              "    <tr style=\"text-align: right;\">\n",
              "      <th></th>\n",
              "      <th>Norm_Age_MAE</th>\n",
              "      <th>Exact_Age_MAE</th>\n",
              "    </tr>\n",
              "  </thead>\n",
              "  <tbody>\n",
              "    <tr>\n",
              "      <th>count</th>\n",
              "      <td>11775.000000</td>\n",
              "      <td>11775.000000</td>\n",
              "    </tr>\n",
              "    <tr>\n",
              "      <th>mean</th>\n",
              "      <td>0.093857</td>\n",
              "      <td>1.134652</td>\n",
              "    </tr>\n",
              "    <tr>\n",
              "      <th>std</th>\n",
              "      <td>0.093887</td>\n",
              "      <td>1.142441</td>\n",
              "    </tr>\n",
              "    <tr>\n",
              "      <th>min</th>\n",
              "      <td>0.000013</td>\n",
              "      <td>0.000160</td>\n",
              "    </tr>\n",
              "    <tr>\n",
              "      <th>25%</th>\n",
              "      <td>0.018638</td>\n",
              "      <td>0.230995</td>\n",
              "    </tr>\n",
              "    <tr>\n",
              "      <th>50%</th>\n",
              "      <td>0.064535</td>\n",
              "      <td>0.787790</td>\n",
              "    </tr>\n",
              "    <tr>\n",
              "      <th>75%</th>\n",
              "      <td>0.139597</td>\n",
              "      <td>1.680140</td>\n",
              "    </tr>\n",
              "    <tr>\n",
              "      <th>max</th>\n",
              "      <td>0.602011</td>\n",
              "      <td>7.525139</td>\n",
              "    </tr>\n",
              "  </tbody>\n",
              "</table>\n",
              "</div>"
            ],
            "text/plain": [
              "       Norm_Age_MAE  Exact_Age_MAE\n",
              "count  11775.000000   11775.000000\n",
              "mean       0.093857       1.134652\n",
              "std        0.093887       1.142441\n",
              "min        0.000013       0.000160\n",
              "25%        0.018638       0.230995\n",
              "50%        0.064535       0.787790\n",
              "75%        0.139597       1.680140\n",
              "max        0.602011       7.525139"
            ]
          },
          "metadata": {},
          "execution_count": 41
        }
      ]
    },
    {
      "cell_type": "code",
      "metadata": {
        "colab": {
          "base_uri": "https://localhost:8080/",
          "height": 297
        },
        "id": "TlzcVjCIKYa9",
        "outputId": "c9e2341d-d4bd-4294-ae9f-81decedc0d94"
      },
      "source": [
        "xold[['Norm_Age_MAE','Exact_Age_MAE']].describe()"
      ],
      "execution_count": null,
      "outputs": [
        {
          "output_type": "execute_result",
          "data": {
            "text/html": [
              "<div>\n",
              "<style scoped>\n",
              "    .dataframe tbody tr th:only-of-type {\n",
              "        vertical-align: middle;\n",
              "    }\n",
              "\n",
              "    .dataframe tbody tr th {\n",
              "        vertical-align: top;\n",
              "    }\n",
              "\n",
              "    .dataframe thead th {\n",
              "        text-align: right;\n",
              "    }\n",
              "</style>\n",
              "<table border=\"1\" class=\"dataframe\">\n",
              "  <thead>\n",
              "    <tr style=\"text-align: right;\">\n",
              "      <th></th>\n",
              "      <th>Norm_Age_MAE</th>\n",
              "      <th>Exact_Age_MAE</th>\n",
              "    </tr>\n",
              "  </thead>\n",
              "  <tbody>\n",
              "    <tr>\n",
              "      <th>count</th>\n",
              "      <td>2070.000000</td>\n",
              "      <td>2070.000000</td>\n",
              "    </tr>\n",
              "    <tr>\n",
              "      <th>mean</th>\n",
              "      <td>0.536136</td>\n",
              "      <td>6.399382</td>\n",
              "    </tr>\n",
              "    <tr>\n",
              "      <th>std</th>\n",
              "      <td>0.195790</td>\n",
              "      <td>2.456390</td>\n",
              "    </tr>\n",
              "    <tr>\n",
              "      <th>min</th>\n",
              "      <td>0.015611</td>\n",
              "      <td>0.117085</td>\n",
              "    </tr>\n",
              "    <tr>\n",
              "      <th>25%</th>\n",
              "      <td>0.416552</td>\n",
              "      <td>4.797313</td>\n",
              "    </tr>\n",
              "    <tr>\n",
              "      <th>50%</th>\n",
              "      <td>0.512408</td>\n",
              "      <td>6.087110</td>\n",
              "    </tr>\n",
              "    <tr>\n",
              "      <th>75%</th>\n",
              "      <td>0.638238</td>\n",
              "      <td>7.759269</td>\n",
              "    </tr>\n",
              "    <tr>\n",
              "      <th>max</th>\n",
              "      <td>1.545540</td>\n",
              "      <td>19.319250</td>\n",
              "    </tr>\n",
              "  </tbody>\n",
              "</table>\n",
              "</div>"
            ],
            "text/plain": [
              "       Norm_Age_MAE  Exact_Age_MAE\n",
              "count   2070.000000    2070.000000\n",
              "mean       0.536136       6.399382\n",
              "std        0.195790       2.456390\n",
              "min        0.015611       0.117085\n",
              "25%        0.416552       4.797313\n",
              "50%        0.512408       6.087110\n",
              "75%        0.638238       7.759269\n",
              "max        1.545540      19.319250"
            ]
          },
          "metadata": {},
          "execution_count": 43
        }
      ]
    },
    {
      "cell_type": "code",
      "metadata": {
        "id": "phy3KrqCK_ik"
      },
      "source": [
        "xceptionraw = interpretresults('Xception-Evaluation-NotFineTuned-2021-08-26-20-28-33-963', 'xceptionraw') \n",
        "xoldraw, xyoungraw = splitdata(xceptionraw)"
      ],
      "execution_count": null,
      "outputs": []
    },
    {
      "cell_type": "code",
      "metadata": {
        "colab": {
          "base_uri": "https://localhost:8080/",
          "height": 297
        },
        "id": "zq7_pZh5ODqK",
        "outputId": "a04c105f-0d6d-4b47-a6db-72a2096903e9"
      },
      "source": [
        "xyoungraw[['Norm_Age_MAE','Exact_Age_MAE']].describe()"
      ],
      "execution_count": null,
      "outputs": [
        {
          "output_type": "execute_result",
          "data": {
            "text/html": [
              "<div>\n",
              "<style scoped>\n",
              "    .dataframe tbody tr th:only-of-type {\n",
              "        vertical-align: middle;\n",
              "    }\n",
              "\n",
              "    .dataframe tbody tr th {\n",
              "        vertical-align: top;\n",
              "    }\n",
              "\n",
              "    .dataframe thead th {\n",
              "        text-align: right;\n",
              "    }\n",
              "</style>\n",
              "<table border=\"1\" class=\"dataframe\">\n",
              "  <thead>\n",
              "    <tr style=\"text-align: right;\">\n",
              "      <th></th>\n",
              "      <th>Norm_Age_MAE</th>\n",
              "      <th>Exact_Age_MAE</th>\n",
              "    </tr>\n",
              "  </thead>\n",
              "  <tbody>\n",
              "    <tr>\n",
              "      <th>count</th>\n",
              "      <td>11775.000000</td>\n",
              "      <td>11775.000000</td>\n",
              "    </tr>\n",
              "    <tr>\n",
              "      <th>mean</th>\n",
              "      <td>0.126461</td>\n",
              "      <td>1.530710</td>\n",
              "    </tr>\n",
              "    <tr>\n",
              "      <th>std</th>\n",
              "      <td>0.101716</td>\n",
              "      <td>1.223076</td>\n",
              "    </tr>\n",
              "    <tr>\n",
              "      <th>min</th>\n",
              "      <td>0.000041</td>\n",
              "      <td>0.000516</td>\n",
              "    </tr>\n",
              "    <tr>\n",
              "      <th>25%</th>\n",
              "      <td>0.042358</td>\n",
              "      <td>0.515686</td>\n",
              "    </tr>\n",
              "    <tr>\n",
              "      <th>50%</th>\n",
              "      <td>0.100725</td>\n",
              "      <td>1.231904</td>\n",
              "    </tr>\n",
              "    <tr>\n",
              "      <th>75%</th>\n",
              "      <td>0.193008</td>\n",
              "      <td>2.328781</td>\n",
              "    </tr>\n",
              "    <tr>\n",
              "      <th>max</th>\n",
              "      <td>0.727038</td>\n",
              "      <td>9.087975</td>\n",
              "    </tr>\n",
              "  </tbody>\n",
              "</table>\n",
              "</div>"
            ],
            "text/plain": [
              "       Norm_Age_MAE  Exact_Age_MAE\n",
              "count  11775.000000   11775.000000\n",
              "mean       0.126461       1.530710\n",
              "std        0.101716       1.223076\n",
              "min        0.000041       0.000516\n",
              "25%        0.042358       0.515686\n",
              "50%        0.100725       1.231904\n",
              "75%        0.193008       2.328781\n",
              "max        0.727038       9.087975"
            ]
          },
          "metadata": {},
          "execution_count": 46
        }
      ]
    },
    {
      "cell_type": "code",
      "metadata": {
        "colab": {
          "base_uri": "https://localhost:8080/",
          "height": 297
        },
        "id": "ddl554ccOSKH",
        "outputId": "dfff7c3a-e4b0-4102-f283-04aef1281112"
      },
      "source": [
        "xoldraw[['Norm_Age_MAE','Exact_Age_MAE']].describe()"
      ],
      "execution_count": null,
      "outputs": [
        {
          "output_type": "execute_result",
          "data": {
            "text/html": [
              "<div>\n",
              "<style scoped>\n",
              "    .dataframe tbody tr th:only-of-type {\n",
              "        vertical-align: middle;\n",
              "    }\n",
              "\n",
              "    .dataframe tbody tr th {\n",
              "        vertical-align: top;\n",
              "    }\n",
              "\n",
              "    .dataframe thead th {\n",
              "        text-align: right;\n",
              "    }\n",
              "</style>\n",
              "<table border=\"1\" class=\"dataframe\">\n",
              "  <thead>\n",
              "    <tr style=\"text-align: right;\">\n",
              "      <th></th>\n",
              "      <th>Norm_Age_MAE</th>\n",
              "      <th>Exact_Age_MAE</th>\n",
              "    </tr>\n",
              "  </thead>\n",
              "  <tbody>\n",
              "    <tr>\n",
              "      <th>count</th>\n",
              "      <td>2070.000000</td>\n",
              "      <td>2070.000000</td>\n",
              "    </tr>\n",
              "    <tr>\n",
              "      <th>mean</th>\n",
              "      <td>0.391546</td>\n",
              "      <td>4.670639</td>\n",
              "    </tr>\n",
              "    <tr>\n",
              "      <th>std</th>\n",
              "      <td>0.197311</td>\n",
              "      <td>2.407021</td>\n",
              "    </tr>\n",
              "    <tr>\n",
              "      <th>min</th>\n",
              "      <td>0.004155</td>\n",
              "      <td>0.049025</td>\n",
              "    </tr>\n",
              "    <tr>\n",
              "      <th>25%</th>\n",
              "      <td>0.255673</td>\n",
              "      <td>3.022923</td>\n",
              "    </tr>\n",
              "    <tr>\n",
              "      <th>50%</th>\n",
              "      <td>0.364844</td>\n",
              "      <td>4.303401</td>\n",
              "    </tr>\n",
              "    <tr>\n",
              "      <th>75%</th>\n",
              "      <td>0.495322</td>\n",
              "      <td>6.002285</td>\n",
              "    </tr>\n",
              "    <tr>\n",
              "      <th>max</th>\n",
              "      <td>1.556777</td>\n",
              "      <td>19.459719</td>\n",
              "    </tr>\n",
              "  </tbody>\n",
              "</table>\n",
              "</div>"
            ],
            "text/plain": [
              "       Norm_Age_MAE  Exact_Age_MAE\n",
              "count   2070.000000    2070.000000\n",
              "mean       0.391546       4.670639\n",
              "std        0.197311       2.407021\n",
              "min        0.004155       0.049025\n",
              "25%        0.255673       3.022923\n",
              "50%        0.364844       4.303401\n",
              "75%        0.495322       6.002285\n",
              "max        1.556777      19.459719"
            ]
          },
          "metadata": {},
          "execution_count": 47
        }
      ]
    },
    {
      "cell_type": "code",
      "metadata": {
        "id": "KhPdQAiLOVMj"
      },
      "source": [
        "vuggc = interpretresults('Vgg-Evaluation-CustomWeight-2021-08-28-00-16-18-991', 'vggcustom') \n",
        "oldvuggc, youngvuggc = splitdata(vuggc)"
      ],
      "execution_count": null,
      "outputs": []
    },
    {
      "cell_type": "code",
      "metadata": {
        "colab": {
          "base_uri": "https://localhost:8080/",
          "height": 297
        },
        "id": "pmwetjj-OtAl",
        "outputId": "28db9f9b-ecaa-4918-81a6-69bbfb5c7690"
      },
      "source": [
        "youngvuggc[['Norm_Age_MAE','Exact_Age_MAE']].describe()"
      ],
      "execution_count": null,
      "outputs": [
        {
          "output_type": "execute_result",
          "data": {
            "text/html": [
              "<div>\n",
              "<style scoped>\n",
              "    .dataframe tbody tr th:only-of-type {\n",
              "        vertical-align: middle;\n",
              "    }\n",
              "\n",
              "    .dataframe tbody tr th {\n",
              "        vertical-align: top;\n",
              "    }\n",
              "\n",
              "    .dataframe thead th {\n",
              "        text-align: right;\n",
              "    }\n",
              "</style>\n",
              "<table border=\"1\" class=\"dataframe\">\n",
              "  <thead>\n",
              "    <tr style=\"text-align: right;\">\n",
              "      <th></th>\n",
              "      <th>Norm_Age_MAE</th>\n",
              "      <th>Exact_Age_MAE</th>\n",
              "    </tr>\n",
              "  </thead>\n",
              "  <tbody>\n",
              "    <tr>\n",
              "      <th>count</th>\n",
              "      <td>11775.000000</td>\n",
              "      <td>11775.000000</td>\n",
              "    </tr>\n",
              "    <tr>\n",
              "      <th>mean</th>\n",
              "      <td>0.106639</td>\n",
              "      <td>1.286728</td>\n",
              "    </tr>\n",
              "    <tr>\n",
              "      <th>std</th>\n",
              "      <td>0.095514</td>\n",
              "      <td>1.145421</td>\n",
              "    </tr>\n",
              "    <tr>\n",
              "      <th>min</th>\n",
              "      <td>0.000011</td>\n",
              "      <td>0.000140</td>\n",
              "    </tr>\n",
              "    <tr>\n",
              "      <th>25%</th>\n",
              "      <td>0.031549</td>\n",
              "      <td>0.390887</td>\n",
              "    </tr>\n",
              "    <tr>\n",
              "      <th>50%</th>\n",
              "      <td>0.079127</td>\n",
              "      <td>0.963009</td>\n",
              "    </tr>\n",
              "    <tr>\n",
              "      <th>75%</th>\n",
              "      <td>0.159084</td>\n",
              "      <td>1.886516</td>\n",
              "    </tr>\n",
              "    <tr>\n",
              "      <th>max</th>\n",
              "      <td>0.759646</td>\n",
              "      <td>9.495572</td>\n",
              "    </tr>\n",
              "  </tbody>\n",
              "</table>\n",
              "</div>"
            ],
            "text/plain": [
              "       Norm_Age_MAE  Exact_Age_MAE\n",
              "count  11775.000000   11775.000000\n",
              "mean       0.106639       1.286728\n",
              "std        0.095514       1.145421\n",
              "min        0.000011       0.000140\n",
              "25%        0.031549       0.390887\n",
              "50%        0.079127       0.963009\n",
              "75%        0.159084       1.886516\n",
              "max        0.759646       9.495572"
            ]
          },
          "metadata": {},
          "execution_count": 50
        }
      ]
    },
    {
      "cell_type": "code",
      "metadata": {
        "colab": {
          "base_uri": "https://localhost:8080/",
          "height": 297
        },
        "id": "FAMHOzrFOy9l",
        "outputId": "b760feab-4de2-4edd-d92a-3f5c12b401c5"
      },
      "source": [
        "oldvuggc[['Norm_Age_MAE','Exact_Age_MAE']].describe()"
      ],
      "execution_count": null,
      "outputs": [
        {
          "output_type": "execute_result",
          "data": {
            "text/html": [
              "<div>\n",
              "<style scoped>\n",
              "    .dataframe tbody tr th:only-of-type {\n",
              "        vertical-align: middle;\n",
              "    }\n",
              "\n",
              "    .dataframe tbody tr th {\n",
              "        vertical-align: top;\n",
              "    }\n",
              "\n",
              "    .dataframe thead th {\n",
              "        text-align: right;\n",
              "    }\n",
              "</style>\n",
              "<table border=\"1\" class=\"dataframe\">\n",
              "  <thead>\n",
              "    <tr style=\"text-align: right;\">\n",
              "      <th></th>\n",
              "      <th>Norm_Age_MAE</th>\n",
              "      <th>Exact_Age_MAE</th>\n",
              "    </tr>\n",
              "  </thead>\n",
              "  <tbody>\n",
              "    <tr>\n",
              "      <th>count</th>\n",
              "      <td>2070.000000</td>\n",
              "      <td>2070.000000</td>\n",
              "    </tr>\n",
              "    <tr>\n",
              "      <th>mean</th>\n",
              "      <td>0.464244</td>\n",
              "      <td>5.553782</td>\n",
              "    </tr>\n",
              "    <tr>\n",
              "      <th>std</th>\n",
              "      <td>0.200851</td>\n",
              "      <td>2.518803</td>\n",
              "    </tr>\n",
              "    <tr>\n",
              "      <th>min</th>\n",
              "      <td>0.001242</td>\n",
              "      <td>0.009317</td>\n",
              "    </tr>\n",
              "    <tr>\n",
              "      <th>25%</th>\n",
              "      <td>0.330643</td>\n",
              "      <td>3.839372</td>\n",
              "    </tr>\n",
              "    <tr>\n",
              "      <th>50%</th>\n",
              "      <td>0.441514</td>\n",
              "      <td>5.284715</td>\n",
              "    </tr>\n",
              "    <tr>\n",
              "      <th>75%</th>\n",
              "      <td>0.572299</td>\n",
              "      <td>6.965673</td>\n",
              "    </tr>\n",
              "    <tr>\n",
              "      <th>max</th>\n",
              "      <td>1.628696</td>\n",
              "      <td>20.358698</td>\n",
              "    </tr>\n",
              "  </tbody>\n",
              "</table>\n",
              "</div>"
            ],
            "text/plain": [
              "       Norm_Age_MAE  Exact_Age_MAE\n",
              "count   2070.000000    2070.000000\n",
              "mean       0.464244       5.553782\n",
              "std        0.200851       2.518803\n",
              "min        0.001242       0.009317\n",
              "25%        0.330643       3.839372\n",
              "50%        0.441514       5.284715\n",
              "75%        0.572299       6.965673\n",
              "max        1.628696      20.358698"
            ]
          },
          "metadata": {},
          "execution_count": 51
        }
      ]
    },
    {
      "cell_type": "code",
      "metadata": {
        "id": "oAuuadCDO1vJ"
      },
      "source": [
        "inception = interpretresults('Inceptionv3-Evaluation-CustomWeight-2021-08-28-00-17-51-582', 'incpeiton') \n",
        "oldincept, youngincept = splitdata(vuggc)"
      ],
      "execution_count": null,
      "outputs": []
    },
    {
      "cell_type": "code",
      "metadata": {
        "colab": {
          "base_uri": "https://localhost:8080/",
          "height": 297
        },
        "id": "Ls0UOws5PHkZ",
        "outputId": "7e329df6-320a-4809-9a87-abed08041db2"
      },
      "source": [
        "oldincept[['Norm_Age_MAE','Exact_Age_MAE']].describe()"
      ],
      "execution_count": null,
      "outputs": [
        {
          "output_type": "execute_result",
          "data": {
            "text/html": [
              "<div>\n",
              "<style scoped>\n",
              "    .dataframe tbody tr th:only-of-type {\n",
              "        vertical-align: middle;\n",
              "    }\n",
              "\n",
              "    .dataframe tbody tr th {\n",
              "        vertical-align: top;\n",
              "    }\n",
              "\n",
              "    .dataframe thead th {\n",
              "        text-align: right;\n",
              "    }\n",
              "</style>\n",
              "<table border=\"1\" class=\"dataframe\">\n",
              "  <thead>\n",
              "    <tr style=\"text-align: right;\">\n",
              "      <th></th>\n",
              "      <th>Norm_Age_MAE</th>\n",
              "      <th>Exact_Age_MAE</th>\n",
              "    </tr>\n",
              "  </thead>\n",
              "  <tbody>\n",
              "    <tr>\n",
              "      <th>count</th>\n",
              "      <td>2070.000000</td>\n",
              "      <td>2070.000000</td>\n",
              "    </tr>\n",
              "    <tr>\n",
              "      <th>mean</th>\n",
              "      <td>0.464244</td>\n",
              "      <td>5.553782</td>\n",
              "    </tr>\n",
              "    <tr>\n",
              "      <th>std</th>\n",
              "      <td>0.200851</td>\n",
              "      <td>2.518803</td>\n",
              "    </tr>\n",
              "    <tr>\n",
              "      <th>min</th>\n",
              "      <td>0.001242</td>\n",
              "      <td>0.009317</td>\n",
              "    </tr>\n",
              "    <tr>\n",
              "      <th>25%</th>\n",
              "      <td>0.330643</td>\n",
              "      <td>3.839372</td>\n",
              "    </tr>\n",
              "    <tr>\n",
              "      <th>50%</th>\n",
              "      <td>0.441514</td>\n",
              "      <td>5.284715</td>\n",
              "    </tr>\n",
              "    <tr>\n",
              "      <th>75%</th>\n",
              "      <td>0.572299</td>\n",
              "      <td>6.965673</td>\n",
              "    </tr>\n",
              "    <tr>\n",
              "      <th>max</th>\n",
              "      <td>1.628696</td>\n",
              "      <td>20.358698</td>\n",
              "    </tr>\n",
              "  </tbody>\n",
              "</table>\n",
              "</div>"
            ],
            "text/plain": [
              "       Norm_Age_MAE  Exact_Age_MAE\n",
              "count   2070.000000    2070.000000\n",
              "mean       0.464244       5.553782\n",
              "std        0.200851       2.518803\n",
              "min        0.001242       0.009317\n",
              "25%        0.330643       3.839372\n",
              "50%        0.441514       5.284715\n",
              "75%        0.572299       6.965673\n",
              "max        1.628696      20.358698"
            ]
          },
          "metadata": {},
          "execution_count": 53
        }
      ]
    },
    {
      "cell_type": "code",
      "metadata": {
        "colab": {
          "base_uri": "https://localhost:8080/",
          "height": 297
        },
        "id": "Rd78L-O8PLx1",
        "outputId": "e3790501-3bb6-4a91-9d0c-8fa5ce2fe2c0"
      },
      "source": [
        "youngincept[['Norm_Age_MAE','Exact_Age_MAE']].describe()"
      ],
      "execution_count": null,
      "outputs": [
        {
          "output_type": "execute_result",
          "data": {
            "text/html": [
              "<div>\n",
              "<style scoped>\n",
              "    .dataframe tbody tr th:only-of-type {\n",
              "        vertical-align: middle;\n",
              "    }\n",
              "\n",
              "    .dataframe tbody tr th {\n",
              "        vertical-align: top;\n",
              "    }\n",
              "\n",
              "    .dataframe thead th {\n",
              "        text-align: right;\n",
              "    }\n",
              "</style>\n",
              "<table border=\"1\" class=\"dataframe\">\n",
              "  <thead>\n",
              "    <tr style=\"text-align: right;\">\n",
              "      <th></th>\n",
              "      <th>Norm_Age_MAE</th>\n",
              "      <th>Exact_Age_MAE</th>\n",
              "    </tr>\n",
              "  </thead>\n",
              "  <tbody>\n",
              "    <tr>\n",
              "      <th>count</th>\n",
              "      <td>11775.000000</td>\n",
              "      <td>11775.000000</td>\n",
              "    </tr>\n",
              "    <tr>\n",
              "      <th>mean</th>\n",
              "      <td>0.106639</td>\n",
              "      <td>1.286728</td>\n",
              "    </tr>\n",
              "    <tr>\n",
              "      <th>std</th>\n",
              "      <td>0.095514</td>\n",
              "      <td>1.145421</td>\n",
              "    </tr>\n",
              "    <tr>\n",
              "      <th>min</th>\n",
              "      <td>0.000011</td>\n",
              "      <td>0.000140</td>\n",
              "    </tr>\n",
              "    <tr>\n",
              "      <th>25%</th>\n",
              "      <td>0.031549</td>\n",
              "      <td>0.390887</td>\n",
              "    </tr>\n",
              "    <tr>\n",
              "      <th>50%</th>\n",
              "      <td>0.079127</td>\n",
              "      <td>0.963009</td>\n",
              "    </tr>\n",
              "    <tr>\n",
              "      <th>75%</th>\n",
              "      <td>0.159084</td>\n",
              "      <td>1.886516</td>\n",
              "    </tr>\n",
              "    <tr>\n",
              "      <th>max</th>\n",
              "      <td>0.759646</td>\n",
              "      <td>9.495572</td>\n",
              "    </tr>\n",
              "  </tbody>\n",
              "</table>\n",
              "</div>"
            ],
            "text/plain": [
              "       Norm_Age_MAE  Exact_Age_MAE\n",
              "count  11775.000000   11775.000000\n",
              "mean       0.106639       1.286728\n",
              "std        0.095514       1.145421\n",
              "min        0.000011       0.000140\n",
              "25%        0.031549       0.390887\n",
              "50%        0.079127       0.963009\n",
              "75%        0.159084       1.886516\n",
              "max        0.759646       9.495572"
            ]
          },
          "metadata": {},
          "execution_count": 54
        }
      ]
    }
  ]
}