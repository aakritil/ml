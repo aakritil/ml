{
  "nbformat": 4,
  "nbformat_minor": 0,
  "metadata": {
    "colab": {
      "name": "EvaluatingResults_DataCleaning.ipynb",
      "provenance": [],
      "collapsed_sections": []
    },
    "kernelspec": {
      "name": "python3",
      "display_name": "Python 3"
    },
    "language_info": {
      "name": "python"
    }
  },
  "cells": [
    {
      "cell_type": "code",
      "metadata": {
        "id": "TGN8zlB8Koqc"
      },
      "source": [
        "!pip install boto3\n"
      ],
      "execution_count": null,
      "outputs": []
    },
    {
      "cell_type": "code",
      "metadata": {
        "id": "wGOVffM_KvKe"
      },
      "source": [
        "#where do the EXIF errors happen?\n",
        "#where are there corrupt images?\n",
        "\n",
        "import PIL\n",
        "from pathlib import Path\n",
        "from PIL import UnidentifiedImageError\n",
        "import os\n",
        "import boto3\n",
        "from PIL import Image\n",
        "import pandas as pd\n",
        "import io\n",
        "from io import BytesIO\n",
        "import warnings\n",
        "warnings.filterwarnings(\"error\")\n",
        "\n",
        "access_Key = \"key\"\n",
        "secret_Access_Key = \"secret\"\n",
        "\n",
        "s3 = boto3.resource('s3',aws_access_key_id=access_Key, aws_secret_access_key=secret_Access_Key)\n",
        "\n",
        "valdf = pd.read_csv('/content/valdff.csv', index_col = 0, header = 0, engine='python', dtype = {'breed_mapping': \"Int64\"})\n",
        "\n",
        "\n",
        "def image_from_s3(bucket, key):\n",
        "    key = f'allimgs/{key}'\n",
        "    bucket = s3.Bucket(bucket)\n",
        "    image = bucket.Object(key)\n",
        "    img_data = image.get().get('Body').read()\n",
        "    try:\n",
        "      Image.open(io.BytesIO(img_data))\n",
        "      return 'Sucess'\n",
        "    except Exception as e:\n",
        "      print(f'Problem opening image from S3: {e}')\n",
        "      print(key) \n",
        "      return 'Error'\n",
        "    except UserWarning as e:\n",
        "      print(f'Problem opening image from S3: {e}')\n",
        "      print(key) \n",
        "      return 'Error'\n",
        "\n",
        "listofpotentialdrops = []\n",
        "\n",
        "for i in range(len(valdf)):\n",
        "  entry = valdf['full_filename'][i]\n",
        "  try:\n",
        "\n",
        "    response = image_from_s3('dogshelterimgs', entry)\n",
        "\n",
        "    if response == 'Error':\n",
        "      print(f'Index of error: {i}.')\n",
        "      listofpotentialdrops.append(entry)\n",
        "\n",
        "  except Exception as e:\n",
        "\n",
        "    print(f'Problem: {e}')\n",
        "    print(f'Filename:{entry}. Index:{i}.')\n",
        "    listofpotentialdrops.append(entry)"
      ],
      "execution_count": null,
      "outputs": []
    },
    {
      "cell_type": "code",
      "metadata": {
        "colab": {
          "base_uri": "https://localhost:8080/"
        },
        "id": "zl9pnNyKK3Nd",
        "outputId": "3ca64f32-78c9-4f4b-fff5-40ebad0b1ebc"
      },
      "source": [
        "import glob\n",
        "import piexif\n",
        "\n",
        "exifimgs = ['26570.jpg','71810.jpg','29807.jpg', '6414.jpg','26571.jpg','6391.jpg','29804.jpg']\n",
        "nfiles = 0\n",
        "\n",
        "for filename in exifimgs:\n",
        "    nfiles = nfiles + 1\n",
        "    filename = '/' + filename\n",
        "    print(\"About to process file %d, which is %s.\" % (nfiles,filename))\n",
        "    piexif.remove(filename)"
      ],
      "execution_count": null,
      "outputs": [
        {
          "output_type": "stream",
          "text": [
            "About to process file 1, which is /26570.jpg.\n",
            "About to process file 2, which is /71810.jpg.\n",
            "About to process file 3, which is /29807.jpg.\n",
            "About to process file 4, which is /6414.jpg.\n",
            "About to process file 5, which is /26571.jpg.\n",
            "About to process file 6, which is /6391.jpg.\n",
            "About to process file 7, which is /29804.jpg.\n"
          ],
          "name": "stdout"
        }
      ]
    },
    {
      "cell_type": "code",
      "metadata": {
        "id": "hfbeXKULbzOt"
      },
      "source": [
        "import boto3\n",
        "from botocore.exceptions import NoCredentialsError\n",
        "\n",
        "access_Key = \"ket\"\n",
        "secret_Access_Key = \"secret\"\n",
        "\n",
        "def upload_kaggle_photo(filename, bucket):\n",
        "\n",
        "  actualfilepath = '/' + filename\n",
        "\n",
        "  for name in listofpotentialdrops:\n",
        "    if actualfilepath in name:\n",
        "      \n",
        "      key = 'allimgs/' +name\n",
        "      print(key)\n",
        "  \n",
        "\n",
        "  print(actualfilepath)\n",
        "\n",
        "\n",
        "\n",
        "  s3 = boto3.client('s3', aws_access_key_id= access_Key, aws_secret_access_key=secret_Access_Key)\n",
        "  try:\n",
        "    s3.upload_file(actualfilepath,bucket,key)\n",
        "  except FileNotFoundError:\n",
        "    print('no file at link')\n",
        "  except NoCredentialsError:\n",
        "    print('credential error')\n"
      ],
      "execution_count": null,
      "outputs": []
    },
    {
      "cell_type": "code",
      "metadata": {
        "id": "RaLZh0wNa81V"
      },
      "source": [
        "for path in exifimgs:\n",
        "  upload_kaggle_photo(path,'dogshelterimgs')"
      ],
      "execution_count": null,
      "outputs": []
    },
    {
      "cell_type": "code",
      "metadata": {
        "id": "UPMOddH8fLnO"
      },
      "source": [
        "import pandas as pd\n",
        "\n",
        "valdf = pd.read_csv('/content/valdfclean.csv', index_col = 0, header = 0, engine='python', dtype = {'breed_mapping': \"Int64\"})\n"
      ],
      "execution_count": null,
      "outputs": []
    },
    {
      "cell_type": "code",
      "metadata": {
        "id": "xa7zvA7qLtsg"
      },
      "source": [
        "for i in range(len(valdf)):\n",
        "  if valdf['full_filename'][i] == 'Australian-Shepherd/42086.jpg':\n",
        "    print(valdf['full_filename'][i])\n",
        "    print(i)\n",
        "exifimgs = ['26570.jpg','71810.jpg','29807.jpg', '6414.jpg','26571.jpg','6391.jpg','29804.jpg']\n",
        "nfiles = 0"
      ],
      "execution_count": null,
      "outputs": []
    },
    {
      "cell_type": "code",
      "metadata": {
        "id": "MnoEr5rMNCxW"
      },
      "source": [
        "valdf = valdf.drop([11513])\n",
        "valdf.reset_index(inplace=True, drop=True)\n",
        "valdf.to_csv('valdfclean2.csv')\n",
        "validation_df = valdf[valdf['breed_mapping'] == 11]\n",
        "validation_df.reset_index(inplace=True, drop=True)"
      ],
      "execution_count": null,
      "outputs": []
    },
    {
      "cell_type": "code",
      "metadata": {
        "id": "hnqMqFUSF0jN"
      },
      "source": [
        "import boto3\n",
        "\n",
        "\n",
        "access_Key = \"key\"\n",
        "secret_Access_Key = \"secret\"\n",
        "\n",
        "s3 = boto3.resource('s3', aws_access_key_id= access_Key, aws_secret_access_key=secret_Access_Key)\n",
        "bucket = s3.Bucket('dogshelterimgs')\n",
        "bucket_files = [x.key for x in bucket.objects.all()]"
      ],
      "execution_count": null,
      "outputs": []
    },
    {
      "cell_type": "code",
      "metadata": {
        "id": "H45orKADGb11"
      },
      "source": [
        "bucket_files2 = [filename for filename in bucket_files if \"allimgs\" in filename]"
      ],
      "execution_count": null,
      "outputs": []
    },
    {
      "cell_type": "code",
      "metadata": {
        "id": "Hq7eyn8SGv1K"
      },
      "source": [
        "bucket_files2 = ['dogshelterimgs/'+filename for filename in bucket_files2]"
      ],
      "execution_count": null,
      "outputs": []
    },
    {
      "cell_type": "code",
      "metadata": {
        "id": "d0N28lpNGspx"
      },
      "source": [
        "import pandas as pd\n",
        "\n",
        "valdf = pd.read_csv('/content/valdfclean2.csv', index_col = 0, header = 0, engine='python', dtype = {'breed_mapping': \"Int64\"})"
      ],
      "execution_count": null,
      "outputs": []
    },
    {
      "cell_type": "code",
      "metadata": {
        "id": "lAYv9phjJhy5"
      },
      "source": [
        "filenames = list(valdf['full_filename'].unique())"
      ],
      "execution_count": null,
      "outputs": []
    },
    {
      "cell_type": "code",
      "metadata": {
        "id": "fM6ZhkeoJo6l"
      },
      "source": [
        "filenames1 = ['dogshelterimgs/allimgs/' + filee for filee in filenames]"
      ],
      "execution_count": null,
      "outputs": []
    },
    {
      "cell_type": "code",
      "metadata": {
        "id": "N12hu6AOK0e1"
      },
      "source": [
        "for i in range(0,1):\n",
        "  !rm -r /content/dogshelterimgs"
      ],
      "execution_count": null,
      "outputs": []
    },
    {
      "cell_type": "code",
      "metadata": {
        "id": "iTv157owKaR4"
      },
      "source": [
        "import piexif\n",
        "\n",
        "def getridofexif(filename):\n",
        "  fs.download(filename,filename)\n",
        "  piexif.remove(filename)\n",
        "  fs.put(filename,filename)\n",
        "  print(filename)"
      ],
      "execution_count": null,
      "outputs": []
    },
    {
      "cell_type": "code",
      "metadata": {
        "id": "vXaLkMMopkvF"
      },
      "source": [
        "for filename in filenames1[8290:]:\n",
        "  if '.png' not in filename:\n",
        "    getridofexif(filename)"
      ],
      "execution_count": null,
      "outputs": []
    },
    {
      "cell_type": "code",
      "metadata": {
        "id": "WYySw0wktZOR"
      },
      "source": [
        "import s3fs\n",
        "fs = s3fs.S3FileSystem(anon=True)\n",
        "allfiles = fs.ls('my-bucket')\n",
        "\n",
        "for filename in bucket_files:\n",
        "  with fs.open(filename, 'rb') as f:\n",
        "      print(f.read())\n",
        "\n"
      ],
      "execution_count": null,
      "outputs": []
    },
    {
      "cell_type": "code",
      "metadata": {
        "colab": {
          "base_uri": "https://localhost:8080/"
        },
        "id": "tU69nLHaG1tb",
        "outputId": "9ff7675b-1820-4c89-be35-9011b582e35c"
      },
      "source": [
        "#VGG-Finetuned-Evaluation-2021-08-26-01-18-13-111\n",
        "\n",
        "fs.download('sagemaker-us-west-1-727244991076/VGG-Weighted-Evaluation-2021-08-26-18-26-11-287/output/output.tar.gz','evalresultsweight.tar.gz')"
      ],
      "execution_count": null,
      "outputs": [
        {
          "output_type": "execute_result",
          "data": {
            "text/plain": [
              "[None]"
            ]
          },
          "metadata": {},
          "execution_count": 94
        }
      ]
    },
    {
      "cell_type": "code",
      "metadata": {
        "id": "gKejrgEoThPj"
      },
      "source": [
        "import tarfile\n",
        "with tarfile.open('evalresultsweight.tar.gz') as tar:\n",
        "        tar.extractall(f'resultsweight')\n",
        "        tar.close()"
      ],
      "execution_count": null,
      "outputs": []
    },
    {
      "cell_type": "code",
      "metadata": {
        "id": "4ulIb6KlVI4F"
      },
      "source": [
        "preds = pd.read_csv('/content/results/predictions.csv', header=0, index_col=0)"
      ],
      "execution_count": null,
      "outputs": []
    },
    {
      "cell_type": "code",
      "metadata": {
        "id": "wxNsfDabjID4"
      },
      "source": [
        "preds2 = pd.read_csv('/content/resultsweight/predictions.csv', header=0, index_col=0)"
      ],
      "execution_count": null,
      "outputs": []
    },
    {
      "cell_type": "code",
      "metadata": {
        "id": "nOBNBv0BVTmR"
      },
      "source": [
        "testdf = pd.read_csv('/content/testdfclean.csv', header=0, index_col=0)\n",
        "lifespans = pd.read_csv('/content/lifespans.csv', header=0)\n"
      ],
      "execution_count": null,
      "outputs": []
    },
    {
      "cell_type": "code",
      "metadata": {
        "id": "QWiSzKZmYlBS"
      },
      "source": [
        "for i in range(len(preds)):\n",
        "  if preds['Exact_Age_MAE'][i] == 'nan':\n",
        "    lifespan = lifespans[testdf['primaryBreed'][i]][0]\n",
        "    preds.at[i,'Pred_Exact_Age'] = float(preds['Pred_Norm_Age'][i]) * lifespan\n",
        "    preds.at[i,'Exact_Age_MAE'] = abs(preds['Pred_Exact_Age'][i] - preds['Exact_Age'][i])\n"
      ],
      "execution_count": null,
      "outputs": []
    },
    {
      "cell_type": "code",
      "metadata": {
        "id": "vDT4M2YEjM4j"
      },
      "source": [
        "for i in range(len(preds2)):\n",
        "  if preds2['Exact_Age_MAE'][i] == 'nan':\n",
        "    lifespan = lifespans[testdf['primaryBreed'][i]][0]\n",
        "    preds2.at[i,'Pred_Exact_Age'] = float(preds2['Pred_Norm_Age'][i]) * lifespan\n",
        "    preds2.at[i,'Exact_Age_MAE'] = abs(preds2['Pred_Exact_Age'][i] - preds2['Exact_Age'][i])\n"
      ],
      "execution_count": null,
      "outputs": []
    },
    {
      "cell_type": "code",
      "metadata": {
        "colab": {
          "base_uri": "https://localhost:8080/"
        },
        "id": "IS-S7Xq0YmoP",
        "outputId": "42ef5016-1504-4623-985a-b44563953464"
      },
      "source": [
        "lifespans['Akbash'][0]"
      ],
      "execution_count": null,
      "outputs": [
        {
          "output_type": "execute_result",
          "data": {
            "text/plain": [
              "10.5"
            ]
          },
          "metadata": {},
          "execution_count": 79
        }
      ]
    },
    {
      "cell_type": "code",
      "metadata": {
        "id": "uGNXB43HVUJU"
      },
      "source": [
        "for i in range(len(preds)):\n",
        "  preds.at[i,'Pred_Exact_Age'] = preds['Pred_Exact_Age'][i].replace('[','').replace(']','')\n",
        "  preds.at[i,'Pred_Norm_Age'] = preds['Pred_Norm_Age'][i].replace('[','').replace(']','')\n",
        "  preds.at[i,'Exact_Age_MAE'] = preds['Exact_Age_MAE'][i].replace('[','').replace(']','')\n",
        "  preds.at[i,'Norm_Age_MAE'] = preds['Norm_Age_MAE'][i].replace('[','').replace(']','')"
      ],
      "execution_count": null,
      "outputs": []
    },
    {
      "cell_type": "code",
      "metadata": {
        "colab": {
          "base_uri": "https://localhost:8080/"
        },
        "id": "NPH2wTpwV3NJ",
        "outputId": "7a97a675-64aa-4e42-f48b-33221d47bd16"
      },
      "source": [
        "len(preds)"
      ],
      "execution_count": null,
      "outputs": [
        {
          "output_type": "execute_result",
          "data": {
            "text/plain": [
              "13888"
            ]
          },
          "metadata": {},
          "execution_count": 87
        }
      ]
    },
    {
      "cell_type": "code",
      "metadata": {
        "colab": {
          "base_uri": "https://localhost:8080/"
        },
        "id": "GZOZXQD6a1pd",
        "outputId": "85732316-b426-4d4b-a3e7-bf8c461c86e8"
      },
      "source": [
        "len(youngonly)"
      ],
      "execution_count": null,
      "outputs": [
        {
          "output_type": "execute_result",
          "data": {
            "text/plain": [
              "4186"
            ]
          },
          "metadata": {},
          "execution_count": 89
        }
      ]
    },
    {
      "cell_type": "code",
      "metadata": {
        "id": "xTGLAQRuWGIf"
      },
      "source": [
        "oldonly = preds[preds['Norm_Age']>.5]\n",
        "oldonly['Norm_Age_MAE'] = pd.to_numeric(oldonly['Norm_Age_MAE'])\n",
        "oldonly['Exact_Age_MAE'] = pd.to_numeric(oldonly['Exact_Age_MAE'])\n",
        "\n",
        "oldonly2 = preds2[preds2['Norm_Age']>.5]\n",
        "oldonly2['Norm_Age_MAE'] = pd.to_numeric(oldonly2['Norm_Age_MAE'])\n",
        "oldonly2['Exact_Age_MAE'] = pd.to_numeric(oldonly2['Exact_Age_MAE'])\n"
      ],
      "execution_count": null,
      "outputs": []
    },
    {
      "cell_type": "code",
      "metadata": {
        "id": "PpsQhOkFX8Rx"
      },
      "source": [
        "youngonly = preds[preds['Norm_Age']<.5]\n",
        "youngonly['Norm_Age_MAE'] = pd.to_numeric(youngonly['Norm_Age_MAE'])\n",
        "youngonly['Exact_Age_MAE'] = pd.to_numeric(youngonly['Exact_Age_MAE'])\n"
      ],
      "execution_count": null,
      "outputs": []
    },
    {
      "cell_type": "code",
      "metadata": {
        "colab": {
          "base_uri": "https://localhost:8080/",
          "height": 297
        },
        "id": "MGP8hHeZWjfm",
        "outputId": "c900afde-b73b-4aa1-ccf3-7e74a28dec18"
      },
      "source": [
        "oldonly[['Norm_Age_MAE','Exact_Age_MAE']].describe()"
      ],
      "execution_count": null,
      "outputs": [
        {
          "output_type": "execute_result",
          "data": {
            "text/html": [
              "<div>\n",
              "<style scoped>\n",
              "    .dataframe tbody tr th:only-of-type {\n",
              "        vertical-align: middle;\n",
              "    }\n",
              "\n",
              "    .dataframe tbody tr th {\n",
              "        vertical-align: top;\n",
              "    }\n",
              "\n",
              "    .dataframe thead th {\n",
              "        text-align: right;\n",
              "    }\n",
              "</style>\n",
              "<table border=\"1\" class=\"dataframe\">\n",
              "  <thead>\n",
              "    <tr style=\"text-align: right;\">\n",
              "      <th></th>\n",
              "      <th>Norm_Age_MAE</th>\n",
              "      <th>Exact_Age_MAE</th>\n",
              "    </tr>\n",
              "  </thead>\n",
              "  <tbody>\n",
              "    <tr>\n",
              "      <th>count</th>\n",
              "      <td>2.070000e+03</td>\n",
              "      <td>2070.000000</td>\n",
              "    </tr>\n",
              "    <tr>\n",
              "      <th>mean</th>\n",
              "      <td>3.401649e-01</td>\n",
              "      <td>4.036209</td>\n",
              "    </tr>\n",
              "    <tr>\n",
              "      <th>std</th>\n",
              "      <td>2.163911e-01</td>\n",
              "      <td>2.590702</td>\n",
              "    </tr>\n",
              "    <tr>\n",
              "      <th>min</th>\n",
              "      <td>3.576279e-07</td>\n",
              "      <td>0.000006</td>\n",
              "    </tr>\n",
              "    <tr>\n",
              "      <th>25%</th>\n",
              "      <td>1.788376e-01</td>\n",
              "      <td>2.104098</td>\n",
              "    </tr>\n",
              "    <tr>\n",
              "      <th>50%</th>\n",
              "      <td>3.225435e-01</td>\n",
              "      <td>3.779666</td>\n",
              "    </tr>\n",
              "    <tr>\n",
              "      <th>75%</th>\n",
              "      <td>4.656190e-01</td>\n",
              "      <td>5.520180</td>\n",
              "    </tr>\n",
              "    <tr>\n",
              "      <th>max</th>\n",
              "      <td>1.568055e+00</td>\n",
              "      <td>19.332592</td>\n",
              "    </tr>\n",
              "  </tbody>\n",
              "</table>\n",
              "</div>"
            ],
            "text/plain": [
              "       Norm_Age_MAE  Exact_Age_MAE\n",
              "count  2.070000e+03    2070.000000\n",
              "mean   3.401649e-01       4.036209\n",
              "std    2.163911e-01       2.590702\n",
              "min    3.576279e-07       0.000006\n",
              "25%    1.788376e-01       2.104098\n",
              "50%    3.225435e-01       3.779666\n",
              "75%    4.656190e-01       5.520180\n",
              "max    1.568055e+00      19.332592"
            ]
          },
          "metadata": {},
          "execution_count": 65
        }
      ]
    },
    {
      "cell_type": "code",
      "metadata": {
        "colab": {
          "base_uri": "https://localhost:8080/",
          "height": 297
        },
        "id": "MemIgx_zYA_p",
        "outputId": "77f246ca-f08d-408a-82a1-c778ee687f79"
      },
      "source": [
        "youngonly[['Norm_Age_MAE','Exact_Age_MAE']].describe()"
      ],
      "execution_count": null,
      "outputs": [
        {
          "output_type": "execute_result",
          "data": {
            "text/html": [
              "<div>\n",
              "<style scoped>\n",
              "    .dataframe tbody tr th:only-of-type {\n",
              "        vertical-align: middle;\n",
              "    }\n",
              "\n",
              "    .dataframe tbody tr th {\n",
              "        vertical-align: top;\n",
              "    }\n",
              "\n",
              "    .dataframe thead th {\n",
              "        text-align: right;\n",
              "    }\n",
              "</style>\n",
              "<table border=\"1\" class=\"dataframe\">\n",
              "  <thead>\n",
              "    <tr style=\"text-align: right;\">\n",
              "      <th></th>\n",
              "      <th>Norm_Age_MAE</th>\n",
              "      <th>Exact_Age_MAE</th>\n",
              "    </tr>\n",
              "  </thead>\n",
              "  <tbody>\n",
              "    <tr>\n",
              "      <th>count</th>\n",
              "      <td>11775.000000</td>\n",
              "      <td>11775.000000</td>\n",
              "    </tr>\n",
              "    <tr>\n",
              "      <th>mean</th>\n",
              "      <td>0.082688</td>\n",
              "      <td>1.002276</td>\n",
              "    </tr>\n",
              "    <tr>\n",
              "      <th>std</th>\n",
              "      <td>0.092437</td>\n",
              "      <td>1.129243</td>\n",
              "    </tr>\n",
              "    <tr>\n",
              "      <th>min</th>\n",
              "      <td>0.000003</td>\n",
              "      <td>0.000043</td>\n",
              "    </tr>\n",
              "    <tr>\n",
              "      <th>25%</th>\n",
              "      <td>0.014796</td>\n",
              "      <td>0.181819</td>\n",
              "    </tr>\n",
              "    <tr>\n",
              "      <th>50%</th>\n",
              "      <td>0.047124</td>\n",
              "      <td>0.572648</td>\n",
              "    </tr>\n",
              "    <tr>\n",
              "      <th>75%</th>\n",
              "      <td>0.121265</td>\n",
              "      <td>1.460489</td>\n",
              "    </tr>\n",
              "    <tr>\n",
              "      <th>max</th>\n",
              "      <td>0.707121</td>\n",
              "      <td>10.746359</td>\n",
              "    </tr>\n",
              "  </tbody>\n",
              "</table>\n",
              "</div>"
            ],
            "text/plain": [
              "       Norm_Age_MAE  Exact_Age_MAE\n",
              "count  11775.000000   11775.000000\n",
              "mean       0.082688       1.002276\n",
              "std        0.092437       1.129243\n",
              "min        0.000003       0.000043\n",
              "25%        0.014796       0.181819\n",
              "50%        0.047124       0.572648\n",
              "75%        0.121265       1.460489\n",
              "max        0.707121      10.746359"
            ]
          },
          "metadata": {},
          "execution_count": 91
        }
      ]
    },
    {
      "cell_type": "code",
      "metadata": {
        "colab": {
          "base_uri": "https://localhost:8080/",
          "height": 419
        },
        "id": "VByjkCRpXqM-",
        "outputId": "d2c36fbb-d032-4dbf-e855-f94a7eb0c8dc"
      },
      "source": [
        "oldonly"
      ],
      "execution_count": null,
      "outputs": [
        {
          "output_type": "execute_result",
          "data": {
            "text/html": [
              "<div>\n",
              "<style scoped>\n",
              "    .dataframe tbody tr th:only-of-type {\n",
              "        vertical-align: middle;\n",
              "    }\n",
              "\n",
              "    .dataframe tbody tr th {\n",
              "        vertical-align: top;\n",
              "    }\n",
              "\n",
              "    .dataframe thead th {\n",
              "        text-align: right;\n",
              "    }\n",
              "</style>\n",
              "<table border=\"1\" class=\"dataframe\">\n",
              "  <thead>\n",
              "    <tr style=\"text-align: right;\">\n",
              "      <th></th>\n",
              "      <th>Filename</th>\n",
              "      <th>Exact_Age</th>\n",
              "      <th>Norm_Age</th>\n",
              "      <th>Pred_Exact_Age</th>\n",
              "      <th>Pred_Norm_Age</th>\n",
              "      <th>Exact_Age_MAE</th>\n",
              "      <th>Norm_Age_MAE</th>\n",
              "    </tr>\n",
              "  </thead>\n",
              "  <tbody>\n",
              "    <tr>\n",
              "      <th>1</th>\n",
              "      <td>Shepherd/57272.jpg</td>\n",
              "      <td>6.0</td>\n",
              "      <td>0.545455</td>\n",
              "      <td>4.3268137</td>\n",
              "      <td>0.3933467</td>\n",
              "      <td>1.673186</td>\n",
              "      <td>0.152108</td>\n",
              "    </tr>\n",
              "    <tr>\n",
              "      <th>18</th>\n",
              "      <td>Shepherd/2110.jpg</td>\n",
              "      <td>6.0</td>\n",
              "      <td>0.545455</td>\n",
              "      <td>2.9359822</td>\n",
              "      <td>0.26690748</td>\n",
              "      <td>3.064018</td>\n",
              "      <td>0.278547</td>\n",
              "    </tr>\n",
              "    <tr>\n",
              "      <th>30</th>\n",
              "      <td>American-Pit-Bull-Terrier/1994.jpg</td>\n",
              "      <td>9.0</td>\n",
              "      <td>0.818182</td>\n",
              "      <td>2.0438635</td>\n",
              "      <td>0.18580577</td>\n",
              "      <td>6.956137</td>\n",
              "      <td>0.632376</td>\n",
              "    </tr>\n",
              "    <tr>\n",
              "      <th>32</th>\n",
              "      <td>American-Bulldog/73552.jpg</td>\n",
              "      <td>7.0</td>\n",
              "      <td>0.560000</td>\n",
              "      <td>6.2215586</td>\n",
              "      <td>0.49772468</td>\n",
              "      <td>0.778441</td>\n",
              "      <td>0.062275</td>\n",
              "    </tr>\n",
              "    <tr>\n",
              "      <th>33</th>\n",
              "      <td>Boxer/3764.jpg</td>\n",
              "      <td>6.0</td>\n",
              "      <td>0.576923</td>\n",
              "      <td>1.4386525</td>\n",
              "      <td>0.13833198</td>\n",
              "      <td>4.561348</td>\n",
              "      <td>0.438591</td>\n",
              "    </tr>\n",
              "    <tr>\n",
              "      <th>...</th>\n",
              "      <td>...</td>\n",
              "      <td>...</td>\n",
              "      <td>...</td>\n",
              "      <td>...</td>\n",
              "      <td>...</td>\n",
              "      <td>...</td>\n",
              "      <td>...</td>\n",
              "    </tr>\n",
              "    <tr>\n",
              "      <th>13859</th>\n",
              "      <td>Chihuahua/15067.jpg</td>\n",
              "      <td>13.0</td>\n",
              "      <td>1.000000</td>\n",
              "      <td>9.95804</td>\n",
              "      <td>0.7660031</td>\n",
              "      <td>3.041960</td>\n",
              "      <td>0.233997</td>\n",
              "    </tr>\n",
              "    <tr>\n",
              "      <th>13868</th>\n",
              "      <td>Mixed-Breed/9b53610ea-8.jpg</td>\n",
              "      <td>7.0</td>\n",
              "      <td>0.560000</td>\n",
              "      <td>0.667964</td>\n",
              "      <td>0.05343712</td>\n",
              "      <td>6.332036</td>\n",
              "      <td>0.506563</td>\n",
              "    </tr>\n",
              "    <tr>\n",
              "      <th>13878</th>\n",
              "      <td>Dachshund/62591.jpg</td>\n",
              "      <td>11.0</td>\n",
              "      <td>0.901639</td>\n",
              "      <td>10.1628275</td>\n",
              "      <td>0.83301866</td>\n",
              "      <td>0.837172</td>\n",
              "      <td>0.068621</td>\n",
              "    </tr>\n",
              "    <tr>\n",
              "      <th>13880</th>\n",
              "      <td>Mixed-Breed/9b53610ea-15.jpg</td>\n",
              "      <td>7.0</td>\n",
              "      <td>0.560000</td>\n",
              "      <td>0.54950744</td>\n",
              "      <td>0.04396059</td>\n",
              "      <td>6.450492</td>\n",
              "      <td>0.516039</td>\n",
              "    </tr>\n",
              "    <tr>\n",
              "      <th>13887</th>\n",
              "      <td>Retriever/74606.jpg</td>\n",
              "      <td>11.5</td>\n",
              "      <td>1.045455</td>\n",
              "      <td>4.6042314</td>\n",
              "      <td>0.4185665</td>\n",
              "      <td>6.895769</td>\n",
              "      <td>0.626888</td>\n",
              "    </tr>\n",
              "  </tbody>\n",
              "</table>\n",
              "<p>2070 rows × 7 columns</p>\n",
              "</div>"
            ],
            "text/plain": [
              "                                 Filename  ...  Norm_Age_MAE\n",
              "1                      Shepherd/57272.jpg  ...      0.152108\n",
              "18                      Shepherd/2110.jpg  ...      0.278547\n",
              "30     American-Pit-Bull-Terrier/1994.jpg  ...      0.632376\n",
              "32             American-Bulldog/73552.jpg  ...      0.062275\n",
              "33                         Boxer/3764.jpg  ...      0.438591\n",
              "...                                   ...  ...           ...\n",
              "13859                 Chihuahua/15067.jpg  ...      0.233997\n",
              "13868         Mixed-Breed/9b53610ea-8.jpg  ...      0.506563\n",
              "13878                 Dachshund/62591.jpg  ...      0.068621\n",
              "13880        Mixed-Breed/9b53610ea-15.jpg  ...      0.516039\n",
              "13887                 Retriever/74606.jpg  ...      0.626888\n",
              "\n",
              "[2070 rows x 7 columns]"
            ]
          },
          "metadata": {},
          "execution_count": 66
        }
      ]
    }
  ]
}