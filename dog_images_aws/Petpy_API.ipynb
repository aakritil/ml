{
  "nbformat": 4,
  "nbformat_minor": 0,
  "metadata": {
    "colab": {
      "name": "Petpy-API.ipynb",
      "provenance": [],
      "collapsed_sections": []
    },
    "kernelspec": {
      "name": "python3",
      "display_name": "Python 3"
    },
    "language_info": {
      "name": "python"
    }
  },
  "cells": [
    {
      "cell_type": "code",
      "metadata": {
        "id": "m3StpmmFIyZv",
        "colab": {
          "base_uri": "https://localhost:8080/"
        },
        "outputId": "1e1413de-b03b-4c5b-86c1-d3ccd0326dd4"
      },
      "source": [
        "! pip install petpy\n",
        "import petpy\n",
        "import os\n",
        "import pandas as pd\n",
        "import urllib.request\n",
        "import urllib.error\n",
        "from multiprocessing import Pool\n",
        "from multiprocessing.dummy import Pool as ThreadPool\n",
        "from pandas import json_normalize"
      ],
      "execution_count": null,
      "outputs": [
        {
          "output_type": "stream",
          "text": [
            "Collecting petpy\n",
            "  Downloading https://files.pythonhosted.org/packages/6c/2e/369bbc7cf3590ca850eb08e5e534923768f5a272df499760ac5e39ea674a/petpy-2.3.0-py2.py3-none-any.whl\n",
            "Requirement already satisfied: requests>=2.18.4 in /usr/local/lib/python3.7/dist-packages (from petpy) (2.23.0)\n",
            "Requirement already satisfied: pandas>=0.22.0 in /usr/local/lib/python3.7/dist-packages (from petpy) (1.1.5)\n",
            "Requirement already satisfied: idna<3,>=2.5 in /usr/local/lib/python3.7/dist-packages (from requests>=2.18.4->petpy) (2.10)\n",
            "Requirement already satisfied: certifi>=2017.4.17 in /usr/local/lib/python3.7/dist-packages (from requests>=2.18.4->petpy) (2021.5.30)\n",
            "Requirement already satisfied: urllib3!=1.25.0,!=1.25.1,<1.26,>=1.21.1 in /usr/local/lib/python3.7/dist-packages (from requests>=2.18.4->petpy) (1.24.3)\n",
            "Requirement already satisfied: chardet<4,>=3.0.2 in /usr/local/lib/python3.7/dist-packages (from requests>=2.18.4->petpy) (3.0.4)\n",
            "Requirement already satisfied: pytz>=2017.2 in /usr/local/lib/python3.7/dist-packages (from pandas>=0.22.0->petpy) (2018.9)\n",
            "Requirement already satisfied: python-dateutil>=2.7.3 in /usr/local/lib/python3.7/dist-packages (from pandas>=0.22.0->petpy) (2.8.1)\n",
            "Requirement already satisfied: numpy>=1.15.4 in /usr/local/lib/python3.7/dist-packages (from pandas>=0.22.0->petpy) (1.19.5)\n",
            "Requirement already satisfied: six>=1.5 in /usr/local/lib/python3.7/dist-packages (from python-dateutil>=2.7.3->pandas>=0.22.0->petpy) (1.15.0)\n",
            "Installing collected packages: petpy\n",
            "Successfully installed petpy-2.3.0\n"
          ],
          "name": "stdout"
        }
      ]
    },
    {
      "cell_type": "code",
      "metadata": {
        "id": "bNmc4Z0pO3zM"
      },
      "source": [
        "pf = petpy.Petfinder(key='ZR8m4gfixSRxbRgI5vHhVIP5hNnKjQD97VCUXkjSqFwlMCAe3Z',secret='OO4M11Yvrxb89Bljhf4hBO5CXyqsuO7YPF1A6Zna')"
      ],
      "execution_count": null,
      "outputs": []
    },
    {
      "cell_type": "code",
      "metadata": {
        "id": "HK8f0vrWO8Il",
        "colab": {
          "base_uri": "https://localhost:8080/"
        },
        "outputId": "93bd95a9-9d1a-4e23-89e9-e4062c175b61"
      },
      "source": [
        "dogs = pf.animal_types('dog')\n",
        "dog_breeds = pf.breeds('dog')\n",
        "dog_breeds['breeds']['dog']"
      ],
      "execution_count": null,
      "outputs": [
        {
          "output_type": "execute_result",
          "data": {
            "text/plain": [
              "['Affenpinscher',\n",
              " 'Afghan Hound',\n",
              " 'Airedale Terrier',\n",
              " 'Akbash',\n",
              " 'Akita',\n",
              " 'Alaskan Malamute',\n",
              " 'American Bulldog',\n",
              " 'American Bully',\n",
              " 'American Eskimo Dog',\n",
              " 'American Foxhound',\n",
              " 'American Hairless Terrier',\n",
              " 'American Staffordshire Terrier',\n",
              " 'American Water Spaniel',\n",
              " 'Anatolian Shepherd',\n",
              " 'Appenzell Mountain Dog',\n",
              " 'Aussiedoodle',\n",
              " 'Australian Cattle Dog / Blue Heeler',\n",
              " 'Australian Kelpie',\n",
              " 'Australian Shepherd',\n",
              " 'Australian Terrier',\n",
              " 'Basenji',\n",
              " 'Basset Hound',\n",
              " 'Beagle',\n",
              " 'Bearded Collie',\n",
              " 'Beauceron',\n",
              " 'Bedlington Terrier',\n",
              " 'Belgian Shepherd / Laekenois',\n",
              " 'Belgian Shepherd / Malinois',\n",
              " 'Belgian Shepherd / Sheepdog',\n",
              " 'Belgian Shepherd / Tervuren',\n",
              " 'Bernedoodle',\n",
              " 'Bernese Mountain Dog',\n",
              " 'Bichon Frise',\n",
              " 'Black and Tan Coonhound',\n",
              " 'Black Labrador Retriever',\n",
              " 'Black Mouth Cur',\n",
              " 'Black Russian Terrier',\n",
              " 'Bloodhound',\n",
              " 'Blue Lacy',\n",
              " 'Bluetick Coonhound',\n",
              " 'Boerboel',\n",
              " 'Bolognese',\n",
              " 'Border Collie',\n",
              " 'Border Terrier',\n",
              " 'Borzoi',\n",
              " 'Boston Terrier',\n",
              " 'Bouvier des Flandres',\n",
              " 'Boxer',\n",
              " 'Boykin Spaniel',\n",
              " 'Briard',\n",
              " 'Brittany Spaniel',\n",
              " 'Brussels Griffon',\n",
              " 'Bull Terrier',\n",
              " 'Bullmastiff',\n",
              " 'Cairn Terrier',\n",
              " 'Canaan Dog',\n",
              " 'Cane Corso',\n",
              " 'Cardigan Welsh Corgi',\n",
              " 'Carolina Dog',\n",
              " 'Catahoula Leopard Dog',\n",
              " 'Cattle Dog',\n",
              " 'Caucasian Sheepdog / Caucasian Ovtcharka',\n",
              " 'Cavachon',\n",
              " 'Cavalier King Charles Spaniel',\n",
              " 'Cavapoo',\n",
              " 'Chesapeake Bay Retriever',\n",
              " 'Chihuahua',\n",
              " 'Chinese Crested Dog',\n",
              " 'Chinese Foo Dog',\n",
              " 'Chinook',\n",
              " 'Chiweenie',\n",
              " 'Chocolate Labrador Retriever',\n",
              " 'Chow Chow',\n",
              " \"Cirneco dell'Etna\",\n",
              " 'Clumber Spaniel',\n",
              " 'Cockapoo',\n",
              " 'Cocker Spaniel',\n",
              " 'Collie',\n",
              " 'Coonhound',\n",
              " 'Corgi',\n",
              " 'Coton de Tulear',\n",
              " 'Curly-Coated Retriever',\n",
              " 'Dachshund',\n",
              " 'Dalmatian',\n",
              " 'Dandie Dinmont Terrier',\n",
              " 'Doberman Pinscher',\n",
              " 'Dogo Argentino',\n",
              " 'Dogue de Bordeaux',\n",
              " 'Dutch Shepherd',\n",
              " 'English Bulldog',\n",
              " 'English Cocker Spaniel',\n",
              " 'English Coonhound',\n",
              " 'English Foxhound',\n",
              " 'English Pointer',\n",
              " 'English Setter',\n",
              " 'English Shepherd',\n",
              " 'English Springer Spaniel',\n",
              " 'English Toy Spaniel',\n",
              " 'Entlebucher',\n",
              " 'Eskimo Dog',\n",
              " 'Feist',\n",
              " 'Field Spaniel',\n",
              " 'Fila Brasileiro',\n",
              " 'Finnish Lapphund',\n",
              " 'Finnish Spitz',\n",
              " 'Flat-Coated Retriever',\n",
              " 'Fox Terrier',\n",
              " 'Foxhound',\n",
              " 'French Bulldog',\n",
              " 'Galgo Spanish Greyhound',\n",
              " 'German Pinscher',\n",
              " 'German Shepherd Dog',\n",
              " 'German Shorthaired Pointer',\n",
              " 'German Spitz',\n",
              " 'German Wirehaired Pointer',\n",
              " 'Giant Schnauzer',\n",
              " 'Glen of Imaal Terrier',\n",
              " 'Golden Retriever',\n",
              " 'Goldendoodle',\n",
              " 'Gordon Setter',\n",
              " 'Great Dane',\n",
              " 'Great Pyrenees',\n",
              " 'Greater Swiss Mountain Dog',\n",
              " 'Greyhound',\n",
              " 'Hamiltonstovare',\n",
              " 'Harrier',\n",
              " 'Havanese',\n",
              " 'Hound',\n",
              " 'Hovawart',\n",
              " 'Husky',\n",
              " 'Ibizan Hound',\n",
              " 'Icelandic Sheepdog',\n",
              " 'Illyrian Sheepdog',\n",
              " 'Irish Setter',\n",
              " 'Irish Terrier',\n",
              " 'Irish Water Spaniel',\n",
              " 'Irish Wolfhound',\n",
              " 'Italian Greyhound',\n",
              " 'Jack Russell Terrier',\n",
              " 'Japanese Chin',\n",
              " 'Jindo',\n",
              " 'Kai Dog',\n",
              " 'Karelian Bear Dog',\n",
              " 'Keeshond',\n",
              " 'Kerry Blue Terrier',\n",
              " 'Kishu',\n",
              " 'Klee Kai',\n",
              " 'Komondor',\n",
              " 'Kuvasz',\n",
              " 'Kyi Leo',\n",
              " 'Labradoodle',\n",
              " 'Labrador Retriever',\n",
              " 'Lakeland Terrier',\n",
              " 'Lancashire Heeler',\n",
              " 'Leonberger',\n",
              " 'Lhasa Apso',\n",
              " 'Lowchen',\n",
              " 'Lurcher',\n",
              " 'Maltese',\n",
              " 'Maltipoo',\n",
              " 'Manchester Terrier',\n",
              " 'Maremma Sheepdog',\n",
              " 'Mastiff',\n",
              " 'McNab',\n",
              " 'Miniature Bull Terrier',\n",
              " 'Miniature Dachshund',\n",
              " 'Miniature Pinscher',\n",
              " 'Miniature Poodle',\n",
              " 'Miniature Schnauzer',\n",
              " 'Mixed Breed',\n",
              " 'Morkie',\n",
              " 'Mountain Cur',\n",
              " 'Mountain Dog',\n",
              " 'Munsterlander',\n",
              " 'Neapolitan Mastiff',\n",
              " 'New Guinea Singing Dog',\n",
              " 'Newfoundland Dog',\n",
              " 'Norfolk Terrier',\n",
              " 'Norwegian Buhund',\n",
              " 'Norwegian Elkhound',\n",
              " 'Norwegian Lundehund',\n",
              " 'Norwich Terrier',\n",
              " 'Nova Scotia Duck Tolling Retriever',\n",
              " 'Old English Sheepdog',\n",
              " 'Otterhound',\n",
              " 'Papillon',\n",
              " 'Parson Russell Terrier',\n",
              " 'Patterdale Terrier / Fell Terrier',\n",
              " 'Pekingese',\n",
              " 'Pembroke Welsh Corgi',\n",
              " 'Peruvian Inca Orchid',\n",
              " 'Petit Basset Griffon Vendeen',\n",
              " 'Pharaoh Hound',\n",
              " 'Pit Bull Terrier',\n",
              " 'Plott Hound',\n",
              " 'Pointer',\n",
              " 'Polish Lowland Sheepdog',\n",
              " 'Pomeranian',\n",
              " 'Pomsky',\n",
              " 'Poodle',\n",
              " 'Portuguese Podengo',\n",
              " 'Portuguese Water Dog',\n",
              " 'Presa Canario',\n",
              " 'Pug',\n",
              " 'Puggle',\n",
              " 'Puli',\n",
              " 'Pumi',\n",
              " 'Pyrenean Shepherd',\n",
              " 'Rat Terrier',\n",
              " 'Redbone Coonhound',\n",
              " 'Retriever',\n",
              " 'Rhodesian Ridgeback',\n",
              " 'Rottweiler',\n",
              " 'Rough Collie',\n",
              " 'Saint Bernard',\n",
              " 'Saluki',\n",
              " 'Samoyed',\n",
              " 'Sarplaninac',\n",
              " 'Schipperke',\n",
              " 'Schnauzer',\n",
              " 'Schnoodle',\n",
              " 'Scottish Deerhound',\n",
              " 'Scottish Terrier',\n",
              " 'Sealyham Terrier',\n",
              " 'Setter',\n",
              " 'Shar-Pei',\n",
              " 'Sheep Dog',\n",
              " 'Sheepadoodle',\n",
              " 'Shepherd',\n",
              " 'Shetland Sheepdog / Sheltie',\n",
              " 'Shiba Inu',\n",
              " 'Shih poo',\n",
              " 'Shih Tzu',\n",
              " 'Shollie',\n",
              " 'Siberian Husky',\n",
              " 'Silky Terrier',\n",
              " 'Skye Terrier',\n",
              " 'Sloughi',\n",
              " 'Smooth Collie',\n",
              " 'Smooth Fox Terrier',\n",
              " 'South Russian Ovtcharka',\n",
              " 'Spaniel',\n",
              " 'Spanish Water Dog',\n",
              " 'Spinone Italiano',\n",
              " 'Spitz',\n",
              " 'Staffordshire Bull Terrier',\n",
              " 'Standard Poodle',\n",
              " 'Standard Schnauzer',\n",
              " 'Sussex Spaniel',\n",
              " 'Swedish Vallhund',\n",
              " 'Tennessee Treeing Brindle',\n",
              " 'Terrier',\n",
              " 'Thai Ridgeback',\n",
              " 'Tibetan Mastiff',\n",
              " 'Tibetan Spaniel',\n",
              " 'Tibetan Terrier',\n",
              " 'Tosa Inu',\n",
              " 'Toy Fox Terrier',\n",
              " 'Toy Manchester Terrier',\n",
              " 'Treeing Walker Coonhound',\n",
              " 'Vizsla',\n",
              " 'Weimaraner',\n",
              " 'Welsh Springer Spaniel',\n",
              " 'Welsh Terrier',\n",
              " 'West Highland White Terrier / Westie',\n",
              " 'Wheaten Terrier',\n",
              " 'Whippet',\n",
              " 'White German Shepherd',\n",
              " 'Wire Fox Terrier',\n",
              " 'Wirehaired Dachshund',\n",
              " 'Wirehaired Pointing Griffon',\n",
              " 'Wirehaired Terrier',\n",
              " 'Xoloitzcuintli / Mexican Hairless',\n",
              " 'Yellow Labrador Retriever',\n",
              " 'Yorkshire Terrier']"
            ]
          },
          "metadata": {
            "tags": []
          },
          "execution_count": 5
        }
      ]
    },
    {
      "cell_type": "code",
      "metadata": {
        "colab": {
          "base_uri": "https://localhost:8080/"
        },
        "id": "m1N4-JEphE4-",
        "outputId": "e9906612-70c4-4e86-9551-45bf869fa644"
      },
      "source": [
        "germanshepard.columns"
      ],
      "execution_count": null,
      "outputs": [
        {
          "output_type": "execute_result",
          "data": {
            "text/plain": [
              "Index(['id', 'organization_id', 'url', 'type', 'species', 'age', 'gender',\n",
              "       'size', 'coat', 'tags', 'name', 'description', 'organization_animal_id',\n",
              "       'photos', 'videos', 'status', 'status_changed_at', 'published_at',\n",
              "       'distance', 'breeds.primary', 'breeds.secondary', 'breeds.mixed',\n",
              "       'breeds.unknown', 'colors.primary', 'colors.secondary',\n",
              "       'colors.tertiary', 'attributes.spayed_neutered',\n",
              "       'attributes.house_trained', 'attributes.declawed',\n",
              "       'attributes.special_needs', 'attributes.shots_current',\n",
              "       'environment.children', 'environment.dogs', 'environment.cats',\n",
              "       'primary_photo_cropped.small', 'primary_photo_cropped.medium',\n",
              "       'primary_photo_cropped.large', 'primary_photo_cropped.full',\n",
              "       'contact.email', 'contact.phone', 'contact.address.address1',\n",
              "       'contact.address.address2', 'contact.address.city',\n",
              "       'contact.address.state', 'contact.address.postcode',\n",
              "       'contact.address.country', 'animal_id', 'animal_type',\n",
              "       'primary_photo_cropped'],\n",
              "      dtype='object')"
            ]
          },
          "metadata": {
            "tags": []
          },
          "execution_count": 86
        }
      ]
    },
    {
      "cell_type": "code",
      "metadata": {
        "id": "BYrvaW12Plxt"
      },
      "source": [
        "def check_df_compat(results):\n",
        "    key = list(results.keys())[0]\n",
        "    results_df = json_normalize(results[key])\n",
        "    problemcols = ['_links.organization.href','_links.self.href','_links.type.href']\n",
        "    i = 0\n",
        "    \n",
        "    if key == 'animals':\n",
        "      \n",
        "      if '_links.organization.href' in results_df.columns:\n",
        "        results_df['_links.organization.href'] = results_df['_links.organization.href']\\\n",
        "            .str.replace('/v2/organizations/', '')\n",
        "        i +=1\n",
        "      if '_links.self.href' in results_df.columns:\n",
        "        results_df['_links.self.href'] = results_df['_links.self.href'].str.replace('/v2/animals/', '')\n",
        "        i +=1\n",
        "      if '_links.type.href' in results_df.columns:\n",
        "        results_df['_links.type.href'] = results_df['_links.type.href'].str.replace('/v2/types/', '')\n",
        "        i +=1\n",
        "      if i == 3:\n",
        "        results_df.rename(columns={'_links.organization.href': 'organization_id',\n",
        "                                    '_links.self.href': 'animal_id',\n",
        "                                    '_links.type.href': 'animal_type'}, inplace=True)\n",
        "\n",
        "    if key == 'organizations':\n",
        "        del results_df['_links.animals.href']\n",
        "        results_df['_links.self.href'] = results_df['_links.self.href'].str.replace('/v2/organizations/', '')\n",
        "\n",
        "        results_df.rename(columns={'_links.self.href': 'organization_id'}, inplace=True)\n",
        "\n",
        "    return results_df\n",
        "\n",
        "\n",
        "def get_dogs_breed(dogbreed):\n",
        "    zipcodes = ['42.108133, -75.227792','32.038031, -84.544198', '42.238408, -93.860605']\n",
        "    '''\n",
        "    42.108133, -75.227792\n",
        "    32.038031, -84.544198\n",
        "    42.238408, -93.860605\n",
        "    30.384399, -101.594980\n",
        "    38.901429, -112.493417\n",
        "    51.462330, -106.868417\n",
        "    56.044095, -72.096615\n",
        "    '''\n",
        "    i = 0\n",
        "    listofdf = []\n",
        "    newdogs = []\n",
        "\n",
        "    while i < len(zipcodes):\n",
        "      print(i)\n",
        "      if len(newdogs) < 1500:\n",
        "        newdogsraw = pf.animals(location=zipcodes[i], animal_type='dog',breed = dogbreed, distance=500, results_per_page=100, pages=5)\n",
        "        if len(newdogsraw['animals']) == 0:\n",
        "          i += 1\n",
        "          continue\n",
        "\n",
        "        newdogs = check_df_compat(newdogsraw)\n",
        "        newdogs = newdogs[newdogs['photos'].str.len() != 0]\n",
        "        newdogs = newdogs.loc[:,~newdogs.columns.duplicated()]\n",
        "        listofdf.append(newdogs)\n",
        "        \n",
        "        if len(listofdf) > 1:\n",
        "          newdogs = pd.concat(listofdf,ignore_index=True, sort=False)\n",
        "        print(len(newdogs))\n",
        "      i += 1\n",
        "    print(dogbreed)\n",
        "    return newdogs"
      ],
      "execution_count": null,
      "outputs": []
    },
    {
      "cell_type": "code",
      "metadata": {
        "id": "2MC3UMUHA8HW"
      },
      "source": [
        "def get_dogs_location(locationlat):\n",
        "    newdogsraw = pf.animals(location=locationlat, animal_type='dog', distance=500, results_per_page=100, pages=221)\n",
        "    \n",
        "    if len(newdogsraw['animals']) == 0:\n",
        "      return None\n",
        "\n",
        "    newdogs = check_df_compat(newdogsraw)\n",
        "    newdogs = newdogs[newdogs['photos'].str.len() != 0]\n",
        "    newdogs = newdogs.loc[:,~newdogs.columns.duplicated()]\n",
        "\n",
        "    print(locationlat)\n",
        "    return newdogs"
      ],
      "execution_count": null,
      "outputs": []
    },
    {
      "cell_type": "code",
      "metadata": {
        "colab": {
          "base_uri": "https://localhost:8080/"
        },
        "id": "IlSMFGO-WepM",
        "outputId": "068c249c-a0c0-40f2-97c3-30817634b51a"
      },
      "source": [
        "latlonlist = ['42.108133, -75.227792','32.038031, -84.544198', '42.238408, -93.860605','30.384399, -101.594980', '38.901429, -112.493417','51.462330, -106.868417','56.044095, -72.096615']\n",
        "\n",
        "dog_df_list = [get_dogs_location(latlon) for latlon in latlonlist]\n",
        "\n",
        "dog_df = pd.concat(dog_df_list,ignore_index=True, sort=False)\n"
      ],
      "execution_count": null,
      "outputs": [
        {
          "output_type": "stream",
          "text": [
            "pages parameter exceeded maximum number of available pages available from the Petfinder API. As a result, the maximum number of pages 195 was returned\n",
            "42.108133, -75.227792\n",
            "32.038031, -84.544198\n",
            "pages parameter exceeded maximum number of available pages available from the Petfinder API. As a result, the maximum number of pages 151 was returned\n",
            "42.238408, -93.860605\n",
            "pages parameter exceeded maximum number of available pages available from the Petfinder API. As a result, the maximum number of pages 146 was returned\n",
            "30.384399, -101.594980\n",
            "pages parameter exceeded maximum number of available pages available from the Petfinder API. As a result, the maximum number of pages 154 was returned\n",
            "38.901429, -112.493417\n",
            "pages parameter exceeded maximum number of available pages available from the Petfinder API. As a result, the maximum number of pages 5 was returned\n",
            "51.462330, -106.868417\n",
            "pages parameter exceeded maximum number of available pages available from the Petfinder API. As a result, the maximum number of pages 1 was returned\n"
          ],
          "name": "stdout"
        }
      ]
    },
    {
      "cell_type": "code",
      "metadata": {
        "id": "ObvMWxdCKBji"
      },
      "source": [
        "def get_images(df):\n",
        "\n",
        "    # get rid of duplicates\n",
        "    df_nodup = df.loc[df.astype(str).drop_duplicates().index]\n",
        "\n",
        "    # Keep only the columns that contain 'age' ,'id', 'breed', and 'photo'\n",
        "    photos = df[df.columns[df.columns.str.contains('name|size|gender|postcode|description|age|id|breed|photo')]]\n",
        "    photos = photos.drop(['photos','organization_id','organization_animal_id','videos', 'primary_photo_cropped','primary_photo_cropped.small','primary_photo_cropped.medium',\"primary_photo_cropped.large\"], axis =1)\n",
        "\n",
        "    # sort by age\n",
        "    photos_sorted = photos.sort_values(by=['age'])\n",
        "\n",
        "    #reindex\n",
        "    photos_sorted = photos_sorted.reset_index()\n",
        "    del photos_sorted['index']\n",
        "    \n",
        "    return photos_sorted"
      ],
      "execution_count": null,
      "outputs": []
    },
    {
      "cell_type": "code",
      "metadata": {
        "id": "4aVMYuv3PbQ4"
      },
      "source": [
        "finaldf = get_images(dog_df)"
      ],
      "execution_count": null,
      "outputs": []
    },
    {
      "cell_type": "code",
      "metadata": {
        "colab": {
          "base_uri": "https://localhost:8080/",
          "height": 530
        },
        "id": "JQgbAPHlmyXl",
        "outputId": "fd047824-e9b7-46d7-b961-f4562fa3b788"
      },
      "source": [
        "finaldf.head()"
      ],
      "execution_count": null,
      "outputs": [
        {
          "output_type": "execute_result",
          "data": {
            "text/html": [
              "<div>\n",
              "<style scoped>\n",
              "    .dataframe tbody tr th:only-of-type {\n",
              "        vertical-align: middle;\n",
              "    }\n",
              "\n",
              "    .dataframe tbody tr th {\n",
              "        vertical-align: top;\n",
              "    }\n",
              "\n",
              "    .dataframe thead th {\n",
              "        text-align: right;\n",
              "    }\n",
              "</style>\n",
              "<table border=\"1\" class=\"dataframe\">\n",
              "  <thead>\n",
              "    <tr style=\"text-align: right;\">\n",
              "      <th></th>\n",
              "      <th>id</th>\n",
              "      <th>age</th>\n",
              "      <th>gender</th>\n",
              "      <th>size</th>\n",
              "      <th>name</th>\n",
              "      <th>description</th>\n",
              "      <th>breeds.primary</th>\n",
              "      <th>breeds.secondary</th>\n",
              "      <th>breeds.mixed</th>\n",
              "      <th>breeds.unknown</th>\n",
              "      <th>primary_photo_cropped.full</th>\n",
              "      <th>contact.address.postcode</th>\n",
              "    </tr>\n",
              "  </thead>\n",
              "  <tbody>\n",
              "    <tr>\n",
              "      <th>0</th>\n",
              "      <td>52120719</td>\n",
              "      <td>Adult</td>\n",
              "      <td>Male</td>\n",
              "      <td>Medium</td>\n",
              "      <td>Whiskey</td>\n",
              "      <td>IF NOT CLAIMED BY OWNER AVAILABLE WEDNESDAY, J...</td>\n",
              "      <td>Dogue de Bordeaux</td>\n",
              "      <td>None</td>\n",
              "      <td>True</td>\n",
              "      <td>False</td>\n",
              "      <td>https://dl5zpyw5k3jeb.cloudfront.net/photos/pe...</td>\n",
              "      <td>45761</td>\n",
              "    </tr>\n",
              "    <tr>\n",
              "      <th>1</th>\n",
              "      <td>51863872</td>\n",
              "      <td>Adult</td>\n",
              "      <td>Male</td>\n",
              "      <td>Large</td>\n",
              "      <td>Charlie</td>\n",
              "      <td>This pet&amp;amp;#39;s expected availability date ...</td>\n",
              "      <td>Labrador Retriever</td>\n",
              "      <td>Chow Chow</td>\n",
              "      <td>True</td>\n",
              "      <td>False</td>\n",
              "      <td>https://dl5zpyw5k3jeb.cloudfront.net/photos/pe...</td>\n",
              "      <td>60053</td>\n",
              "    </tr>\n",
              "    <tr>\n",
              "      <th>2</th>\n",
              "      <td>51863824</td>\n",
              "      <td>Adult</td>\n",
              "      <td>Female</td>\n",
              "      <td>Medium</td>\n",
              "      <td>Gabby</td>\n",
              "      <td>Gabby is a sweet 5-year-old gray pittie mix wh...</td>\n",
              "      <td>Pit Bull Terrier</td>\n",
              "      <td>None</td>\n",
              "      <td>True</td>\n",
              "      <td>False</td>\n",
              "      <td>https://dl5zpyw5k3jeb.cloudfront.net/photos/pe...</td>\n",
              "      <td>60555</td>\n",
              "    </tr>\n",
              "    <tr>\n",
              "      <th>3</th>\n",
              "      <td>51863559</td>\n",
              "      <td>Adult</td>\n",
              "      <td>Male</td>\n",
              "      <td>Large</td>\n",
              "      <td>Gomez</td>\n",
              "      <td>6 year old Neutered Male, lived with a single ...</td>\n",
              "      <td>Labrador Retriever</td>\n",
              "      <td>Rottweiler</td>\n",
              "      <td>True</td>\n",
              "      <td>False</td>\n",
              "      <td>https://dl5zpyw5k3jeb.cloudfront.net/photos/pe...</td>\n",
              "      <td>48641</td>\n",
              "    </tr>\n",
              "    <tr>\n",
              "      <th>4</th>\n",
              "      <td>51863032</td>\n",
              "      <td>Adult</td>\n",
              "      <td>Male</td>\n",
              "      <td>Small</td>\n",
              "      <td>PePe-St. Louis, MO!</td>\n",
              "      <td>PePe is a 9-10 year old POM. He is a very swee...</td>\n",
              "      <td>Pomeranian</td>\n",
              "      <td>None</td>\n",
              "      <td>False</td>\n",
              "      <td>False</td>\n",
              "      <td>https://dl5zpyw5k3jeb.cloudfront.net/photos/pe...</td>\n",
              "      <td>63132</td>\n",
              "    </tr>\n",
              "  </tbody>\n",
              "</table>\n",
              "</div>"
            ],
            "text/plain": [
              "         id  ... contact.address.postcode\n",
              "0  52120719  ...                    45761\n",
              "1  51863872  ...                    60053\n",
              "2  51863824  ...                    60555\n",
              "3  51863559  ...                    48641\n",
              "4  51863032  ...                    63132\n",
              "\n",
              "[5 rows x 12 columns]"
            ]
          },
          "metadata": {
            "tags": []
          },
          "execution_count": 17
        }
      ]
    },
    {
      "cell_type": "code",
      "metadata": {
        "id": "-FJCA_x9R3Bm"
      },
      "source": [
        "finaldf.to_csv('petfindernew.csv')"
      ],
      "execution_count": null,
      "outputs": []
    },
    {
      "cell_type": "code",
      "metadata": {
        "id": "p37XqKgsXEvT",
        "colab": {
          "base_uri": "https://localhost:8080/"
        },
        "outputId": "caad8d0c-b3ba-45fa-d2ea-4a95abaf44b7"
      },
      "source": [
        "import spacy\n",
        "from spacy.matcher import Matcher\n",
        "\n",
        "sp_lg = spacy.load('en_core_web_sm')\n",
        "\n",
        "def getting_age_from_desc(desc):\n",
        "  label_list = []\n",
        "  for ent in sp_lg(desc).ents:\n",
        "    label_list.append(ent.label_)\n",
        "  if 'DATE' in label_list:\n",
        "    for ent in sp_lg(desc).ents:\n",
        "      if ent.label_ == 'DATE':\n",
        "        return ent.text.strip()\n",
        "  elif \"CARDINAL\" in label_list:\n",
        "    for ent in sp_lg(desc).ents:\n",
        "      if ent.label_ == 'CARDINAL':\n",
        "        return ent.text.strip()\n",
        "    \n",
        "\n",
        "print(getting_age_from_desc(\"8 months \"))"
      ],
      "execution_count": null,
      "outputs": [
        {
          "output_type": "stream",
          "text": [
            "8 months\n"
          ],
          "name": "stdout"
        }
      ]
    },
    {
      "cell_type": "code",
      "metadata": {
        "colab": {
          "base_uri": "https://localhost:8080/"
        },
        "id": "8iWuKE9u9fFJ",
        "outputId": "919e5bff-868d-4d0a-b406-b48e3c525add"
      },
      "source": [
        "string = '75'\n",
        "print(string.isnumeric())"
      ],
      "execution_count": null,
      "outputs": [
        {
          "output_type": "stream",
          "text": [
            "True\n"
          ],
          "name": "stdout"
        }
      ]
    },
    {
      "cell_type": "code",
      "metadata": {
        "id": "nxHrf9jOYlh9"
      },
      "source": [
        "import regex as re\n",
        "possible_weight_words = [\"pounds\", \"pound\", \"lbs\", \"lb\", \"oz\"]\n",
        "numdict = {'one':1,\n",
        "             'two':2,\n",
        "             'three':3,\n",
        "             'four':4,\n",
        "             'five':5,\n",
        "             'six':6,\n",
        "             'seven':7,\n",
        "             'eight':8,\n",
        "             'nine':9,\n",
        "             'ten':10,\n",
        "             'eleven':11}\n",
        "             \n",
        "def removechar(rawdesc,index):\n",
        "  if rawdesc[index].isdigit():\n",
        "    rawdesc = rawdesc[0:index:]+rawdesc[index+1::]\n",
        "    return rawdesc\n",
        "  else:\n",
        "    return rawdesc\n",
        "\n",
        "\n",
        "def removeNearbyNumbers(description,startindex):\n",
        "  \n",
        "  rawtext = description\n",
        "\n",
        "  for indexint in startindex:\n",
        "    if indexint != -1:\n",
        "      for i in range(0,6):\n",
        "        numindex = indexint-i\n",
        "        rawtext = removechar(rawtext,numindex)\n",
        "\n",
        "      for substring in possible_weight_words:\n",
        "        if substring in rawtext:\n",
        "          rawtext = rawtext.replace(substring, \"\")\n",
        "\n",
        "  return rawtext\n",
        "\n",
        "def getAge(description):\n",
        "  age = re.findall(r'Age[\\:\\s](\\d{1,2})', description)\n",
        "  age.extend(re.findall(r' (\\d{1,2}),? ', description))\n",
        "  if len(age) == 0:\n",
        "    age = re.findall(r'\\((\\d{1,2})\\)', description)\n",
        "  if len(age) == 0:\n",
        "    age = re.findall(r'(\\d+).*?(?i)(yrs)', description)\n",
        "  if len(age) == 0:\n",
        "    age = re.findall(r'(\\d+)(?i)yr', description)\n",
        "  if len(age) == 0:\n",
        "    age = re.findall(r'[0-9]+-(year).*', description)\n",
        "  #print(description+ \" --- AGE: \"+ str(set(age)))\n",
        "  return getting_age_from_desc(description)\n",
        "\n",
        "def getNumfromString(string):\n",
        "  print(string.split())\n",
        "  p = re.compile('^[0-9]*\\.[0-9]+$')\n",
        "  if p.match('8.5'):\n",
        "    print('yes')\n",
        "  age = [float(word) for word in string.split() if word.isdigit() or p.match(word)]\n",
        "  print(age)\n",
        "  if '1/2' in string:\n",
        "    age.append(float(.5))\n",
        "  if len(age) == 0:\n",
        "    age = [float(numdict[numword]) for numword in string.split() if numword in [*numdict]]\n",
        "  return age\n",
        "\n",
        "def getAgefromString(string):\n",
        "  print(string)\n",
        "  numdict = {'one':1,\n",
        "             'two':2,\n",
        "             'three':3,\n",
        "             'four':4,\n",
        "             'five':5,\n",
        "             'six':6,\n",
        "             'seven':7,\n",
        "             'eight':8,\n",
        "             'nine':9,\n",
        "             'ten':10,\n",
        "             'eleven':11}\n",
        "  possible_week = [\"wk\",\"week\"]\n",
        "  possible_months = [\"month\",\"mnth\",\"mth\"]\n",
        "  possible_yrs= [\"yr\",\"years\"]\n",
        "\n",
        "  string = str(string)\n",
        "  if string != \"None\":\n",
        "    if any(map(string.__contains__, possible_yrs)):\n",
        "\n",
        "      age = getNumfromString(string)\n",
        "      return age\n",
        "\n",
        "    if any(map(string.__contains__, possible_week)):\n",
        "\n",
        "      age = [num/52 for num in getNumfromString(string)]\n",
        "      return age \n",
        "    \n",
        "    if any(map(string.__contains__, possible_months)):\n",
        "\n",
        "      age = [num/12 for num in getNumfromString(string)] \n",
        "      return age\n",
        "    else:\n",
        "      age = getNumfromString(string)\n",
        "      return age\n",
        "  else:\n",
        "    return None\n"
      ],
      "execution_count": null,
      "outputs": []
    },
    {
      "cell_type": "code",
      "metadata": {
        "colab": {
          "base_uri": "https://localhost:8080/"
        },
        "id": "jE2h0nTw4Y1t",
        "outputId": "d0f85940-367d-4ecb-9ee0-366c8f5a299b"
      },
      "source": [
        "print(getAgefromString(getAge('8.5 weeks')))"
      ],
      "execution_count": null,
      "outputs": [
        {
          "output_type": "stream",
          "text": [
            "8.5 weeks\n",
            "['8.5', 'weeks']\n",
            "yes\n",
            "[8.5]\n",
            "[0.16346153846153846]\n"
          ],
          "name": "stdout"
        }
      ]
    },
    {
      "cell_type": "code",
      "metadata": {
        "id": "dlOXmeDbUR8i",
        "colab": {
          "base_uri": "https://localhost:8080/"
        },
        "outputId": "fbffd683-6bcb-48b8-ffa2-da7eded94c9f"
      },
      "source": [
        "import re\n",
        "\n",
        "possible_words = [\"age\",\"old\", \"yr\", \"aged\", \"year\", \"year-old\", \"month\", \"DOB\", 'week']\n",
        "possible_weight_words = [\"pound\", \"lb\", \"oz\"]\n",
        "count = 0\n",
        "\n",
        "finaldf['age_num'] = ''\n",
        "for i in range(len(finaldf['description'])):\n",
        "  if not pd.isnull(finaldf['description'][i]) :\n",
        "    if any(map(finaldf['description'][i].__contains__, possible_words)):\n",
        "      descriptionstring = finaldf['description'][i]\n",
        "      if any(map(finaldf['description'][i].__contains__, possible_weight_words)):\n",
        "        startendindex = []\n",
        "\n",
        "        for substring in possible_weight_words:\n",
        "          indexofsub = descriptionstring.find(substring)\n",
        "          startendindex.append(int(indexofsub))\n",
        "\n",
        "        descriptionstring = removeNearbyNumbers(descriptionstring,startendindex)\n",
        "      finaldf.at[i,'age_num']= getAgefromString(getAge(descriptionstring))\n",
        "    else:\n",
        "      finaldf.at[i,'age_num']=None\n",
        "  else:\n",
        "    finaldf.at[i,'age_num']=None\n"
      ],
      "execution_count": null,
      "outputs": [
        {
          "output_type": "stream",
          "text": [
            "/usr/local/lib/python3.7/dist-packages/ipykernel_launcher.py:44: DeprecationWarning: Flags not at the start of the expression '(\\\\d+).*?(?i)(yrs)'\n",
            "/usr/local/lib/python3.7/dist-packages/ipykernel_launcher.py:46: DeprecationWarning: Flags not at the start of the expression '(\\\\d+)(?i)yr'\n"
          ],
          "name": "stderr"
        }
      ]
    },
    {
      "cell_type": "code",
      "metadata": {
        "id": "V8pYaS1itv9t"
      },
      "source": [
        "finaldf.at[0,'name'] = 'Whiskey'"
      ],
      "execution_count": null,
      "outputs": []
    },
    {
      "cell_type": "code",
      "metadata": {
        "colab": {
          "base_uri": "https://localhost:8080/",
          "height": 37
        },
        "id": "za-lu8rAuYa5",
        "outputId": "c9adf220-1cc8-4f48-b8b4-d307dad70f62"
      },
      "source": [
        "finaldf.loc[84922,'name']"
      ],
      "execution_count": null,
      "outputs": [
        {
          "output_type": "execute_result",
          "data": {
            "application/vnd.google.colaboratory.intrinsic+json": {
              "type": "string"
            },
            "text/plain": [
              "'Chad'"
            ]
          },
          "metadata": {
            "tags": []
          },
          "execution_count": 71
        }
      ]
    },
    {
      "cell_type": "code",
      "metadata": {
        "id": "dvZMcjj-regi"
      },
      "source": [
        "def avg(lst):\n",
        "  print(type(lst))\n",
        "  return sum(lst)/len(lst)\n",
        "\n",
        "for i in range(len(finaldf['age_num'])):\n",
        "  if type(finaldf['age_num'][i]) == float or finaldf['age_num'][i] == None:\n",
        "    continue\n",
        "  elif len(finaldf['age_num'][i]) == 0:\n",
        "    finaldf.at[i,'age_num'] = None\n",
        "  elif len(finaldf['age_num'][i]) == 1:\n",
        "    listhere = finaldf.loc[int(i),'age_num']\n",
        "    finaldf.at[str(i),'age_num'] = int(listhere[0])\n",
        "  else:\n",
        "    finaldf.at[i,'age_num'] = avg(finaldf.loc[int(i),'age_num'])"
      ],
      "execution_count": null,
      "outputs": []
    },
    {
      "cell_type": "code",
      "metadata": {
        "colab": {
          "base_uri": "https://localhost:8080/"
        },
        "id": "SireZpD_sZwU",
        "outputId": "fc1fb457-dd12-44bc-a570-fefc96c04598"
      },
      "source": [
        "print(finaldf['age_num'].value_counts())"
      ],
      "execution_count": null,
      "outputs": [
        {
          "output_type": "stream",
          "text": [
            "0                      3738\n",
            "2.0                    1036\n",
            "[2]                    1032\n",
            "3.0                     740\n",
            "[3]                     736\n",
            "                       ... \n",
            "84.45833333333334         1\n",
            "0.11057692307692307       1\n",
            "0.10576923076923078       1\n",
            "44                        1\n",
            "5.75                      1\n",
            "Name: age_num, Length: 143, dtype: int64\n"
          ],
          "name": "stdout"
        }
      ]
    },
    {
      "cell_type": "code",
      "metadata": {
        "id": "9pwDfatXnG8U"
      },
      "source": [
        "finaldf.to_csv('petfindernew.csv')"
      ],
      "execution_count": null,
      "outputs": []
    },
    {
      "cell_type": "code",
      "metadata": {
        "colab": {
          "base_uri": "https://localhost:8080/"
        },
        "id": "1Xi1bX6pE4_U",
        "outputId": "187843b6-2c62-4e09-96fa-075e29f470b2"
      },
      "source": [
        "count = 0\n",
        "for i in range(len(finaldf['age_num'])):\n",
        "  if finaldf['age_num'][i] != None:\n",
        "    count +=1\n",
        "\n",
        "print(count)\n",
        "print(len(finaldf['age_num']))"
      ],
      "execution_count": null,
      "outputs": [
        {
          "output_type": "stream",
          "text": [
            "10195\n",
            "84923\n"
          ],
          "name": "stdout"
        }
      ]
    },
    {
      "cell_type": "code",
      "metadata": {
        "colab": {
          "base_uri": "https://localhost:8080/"
        },
        "id": "T3joB6GZesjM",
        "outputId": "02edd892-e83c-4679-a7e0-60434a2cbaad"
      },
      "source": [
        "\n",
        "nlp = spacy.load(\"en_core_web_sm\")\n",
        "matcher = Matcher(nlp.vocab)\n",
        "# Add match IDs\n",
        "pattern = [[{\"TEXT\": \"Age\"}, {\"LIKE_NUM\": True}],\n",
        "           [{\"TEXT\": \"Age\"},{\"IS_PUNCT\": True}, {\"LIKE_NUM\": True}],\n",
        "           [{\"LIKE_NUM\": True},{\"TEXT\": \"years old \"}]]\n",
        "\n",
        "pattenrr =[\n",
        "    [{\"LOWER\": \"hello\"}, {\"IS_PUNCT\": True}, {\"LOWER\": \"world\"}],\n",
        "    [{\"LOWER\": \"hello\"}, {\"LOWER\": \"world\"}]\n",
        "]\n",
        "matcher.add(\"HelloWorld\", pattern)\n",
        "\n",
        "\n",
        "doc = nlp(\"Age 9\")\n",
        "matches = matcher(doc)\n",
        "for match_id, start, end in matches:\n",
        "    string_id = nlp.vocab.strings[match_id]  # Get string representation\n",
        "    span = doc[start:end]  # The matched span\n",
        "    print(match_id, string_id, start, end, span.text)"
      ],
      "execution_count": null,
      "outputs": [
        {
          "output_type": "stream",
          "text": [
            "15578876784678163569 HelloWorld 0 2 Age 9\n"
          ],
          "name": "stdout"
        }
      ]
    }
  ]
}