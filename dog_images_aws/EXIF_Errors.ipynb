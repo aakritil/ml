{
  "nbformat": 4,
  "nbformat_minor": 0,
  "metadata": {
    "colab": {
      "name": "EXIF-Errors.ipynb",
      "provenance": []
    },
    "kernelspec": {
      "name": "python3",
      "display_name": "Python 3"
    },
    "language_info": {
      "name": "python"
    }
  },
  "cells": [
    {
      "cell_type": "code",
      "metadata": {
        "id": "QR7V4J1yMQs2"
      },
      "source": [
        "!pip install boto3"
      ],
      "execution_count": null,
      "outputs": []
    },
    {
      "cell_type": "code",
      "metadata": {
        "id": "3ZxsJI0aMWpD"
      },
      "source": [
        "#where do the EXIF errors happen?\n",
        "#where are there corrupt images?\n",
        "\n",
        "import PIL\n",
        "from pathlib import Path\n",
        "from PIL import UnidentifiedImageError\n",
        "import os\n",
        "import boto3\n",
        "from PIL import Image\n",
        "import pandas as pd\n",
        "import io\n",
        "from io import BytesIO\n",
        "import warnings\n",
        "\n",
        "warnings.filterwarnings(\"error\")\n",
        "\n",
        "access_Key = \"Key\"\n",
        "secret_Access_Key = \"Secret\"\n",
        "\n",
        "s3 = boto3.resource('s3',aws_access_key_id=access_Key, aws_secret_access_key=secret_Access_Key)\n",
        "\n",
        "testdf = pd.read_csv('/content/---', index_col = 0, header = 0, engine='python', dtype = {'breed_mapping': \"Int64\"})\n",
        "\n",
        "\n",
        "def image_from_s3(bucket, key):\n",
        "    key = f'allimgs/{key}'\n",
        "    bucket = s3.Bucket(bucket)\n",
        "    image = bucket.Object(key)\n",
        "    img_data = image.get().get('Body').read()\n",
        "    try:\n",
        "      Image.open(io.BytesIO(img_data))\n",
        "      return 'Sucess'\n",
        "    except Exception as e:\n",
        "      print(f'Problem opening image from S3: {e}')\n",
        "      print(key) \n",
        "      return 'Error'\n",
        "    except UserWarning as e:\n",
        "      print(f'Problem opening image from S3: {e}')\n",
        "      print(key) \n",
        "      return 'Error'\n",
        "\n",
        "listofpotentialdrops = []\n",
        "count = 0\n",
        "def runningfuction(entry):\n",
        "  try:\n",
        "    response = image_from_s3('dogshelterimgs', entry)\n",
        "    if response == 'Error':\n",
        "      print(entry)\n",
        "      listofpotentialdrops.append(entry)\n",
        "\n",
        "  except Exception as e:\n",
        "    print(f'Problem: {e}')\n",
        "    print(f'Filename:{entry}.')\n",
        "    listofpotentialdrops.append(entry)"
      ],
      "execution_count": null,
      "outputs": []
    },
    {
      "cell_type": "code",
      "metadata": {
        "id": "gDwT8xHhwbN9"
      },
      "source": [
        "from multiprocessing import Pool\n",
        "\n",
        "pool = Pool()\n",
        "pool.map(runningfuction,list(testdf['full_filename'].unique()))"
      ],
      "execution_count": null,
      "outputs": []
    },
    {
      "cell_type": "code",
      "metadata": {
        "id": "MN0TqaL4wson"
      },
      "source": [
        "trainfilenames = ['allimgs/American-Staffordshire-Terrier/6394.jpg','allimgs/Labrador-Retriever/71812.jpg', 'allimgs/German-Shepherd-Dog/8203.jpg','allimgs/Dachshund/69937.jpg', 'allimgs/American-Pit-Bull-Terrier/44313.jpg','allimgs/American-Staffordshire-Terrier/5990.jpg','allimgs/American-Staffordshire-Terrier/29803.jpg','allimgs/American-Pit-Bull-Terrier/44318.jpg','allimgs/Labrador-Retriever/26572.jpg','allimgs/American-Staffordshire-Terrier/29806.jpg', 'allimgs/Hound/17378.jpg','allimgs/German-Shepherd-Dog/20286.jpg','allimgs/American-Staffordshire-Terrier/68784.jpg','allimgs/American-Pit-Bull-Terrier/44361.jpg','allimgs/American-Staffordshire-Terrier/68791.jpg','allimgs/American-Staffordshire-Terrier/6399.jpg','allimgs/American-Staffordshire-Terrier/6400.jpg','allimgs/American-Staffordshire-Terrier/6409.jpg','allimgs/Labrador-Retriever/71811.jpg','allimgs/Dachshund/69912.jpg','allimgs/American-Staffordshire-Terrier/68786.jpg','allimgs/American-Staffordshire-Terrier/5992.jpg','allimgs/American-Pit-Bull-Terrier/44366.jpg','allimgs/Retriever/38064.jpg','allimgs/Dachshund/69935.jpg','allimgs/American-Staffordshire-Terrier/29808.jpg','allimgs/American-Staffordshire-Terrier/24297.jpg', 'allimgs/American-Staffordshire-Terrier/68793.jpg']"
      ],
      "execution_count": null,
      "outputs": []
    },
    {
      "cell_type": "code",
      "metadata": {
        "id": "wjP_JDeZTFPI"
      },
      "source": [
        "trainss = ['dogshelterimgs/'+filename for filename in trainfilenames]"
      ],
      "execution_count": null,
      "outputs": []
    },
    {
      "cell_type": "code",
      "metadata": {
        "id": "0-bvsaoFhOQZ"
      },
      "source": [
        "pip install piexif"
      ],
      "execution_count": null,
      "outputs": []
    },
    {
      "cell_type": "code",
      "metadata": {
        "id": "pmQ9_V0Z7YqH"
      },
      "source": [
        "pip install s3fs"
      ],
      "execution_count": null,
      "outputs": []
    },
    {
      "cell_type": "code",
      "metadata": {
        "id": "YGmlPAbp2-ht"
      },
      "source": [
        "import piexif\n",
        "\n",
        "def getridofexif(filename):\n",
        "  fs.download(filename,filename)\n",
        "  piexif.remove(filename)\n",
        "  fs.put(filename,filename)\n",
        "  print(filename)"
      ],
      "execution_count": null,
      "outputs": []
    },
    {
      "cell_type": "code",
      "metadata": {
        "id": "VtZsUWv_88O8"
      },
      "source": [
        "import s3fs\n",
        "fs = s3fs.S3FileSystem(anon=False, key=\"key\", secret=\"secret\")\n",
        "\n",
        "#trains - filenames with EXIF problems\n",
        "\n",
        "for filename in trainss[19:]:\n",
        "  if '.png' not in filename:\n",
        "    getridofexif(filename)"
      ],
      "execution_count": null,
      "outputs": []
    }
  ]
}